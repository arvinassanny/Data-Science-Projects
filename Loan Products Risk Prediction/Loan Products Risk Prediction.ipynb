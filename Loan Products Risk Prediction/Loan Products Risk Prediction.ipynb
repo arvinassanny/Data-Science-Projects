{
 "cells": [
  {
   "attachments": {},
   "cell_type": "markdown",
   "metadata": {},
   "source": [
    "# Introduction\n",
    "\n",
    "by Arvin Assanny"
   ]
  },
  {
   "attachments": {},
   "cell_type": "markdown",
   "metadata": {},
   "source": [
    "### Dataset Description\n",
    "\n",
    "This data contains about information of the loan applications, which we obtain from [Kaggle.](https://www.kaggle.com/datasets/subhamjain/loan-prediction-based-on-customer-behavior?datasetId=1532161&sortBy=voteCount)\n",
    "\n",
    "Here we make explain our columns meaning.\n",
    "\n",
    "Header | Definition\n",
    "---|---\n",
    "`ID` | Id of the user(All Unique)\n",
    "`Income` | Income of the user\n",
    "`Age  ` | Age of the user\n",
    "`Experience` | Professional experience of the user in years\n",
    "`Profession` | Profession of the user\n",
    "`Married/Single` | Whether married or not\n",
    "`House_Ownership` | Owned or rented or neither\n",
    "`Car_Ownership` | Does the person own a car\n",
    "`STATE` | State of residence\n",
    "`CITY` | City of residence\n",
    "`CURRENT_JOB_YRS` | Years of experience in the current job\n",
    "`CURRENT_HOUSE_YRS` | Number of years in the current residence\n",
    "`Risk_Flag` | Defaulted on a loan(Target variable)"
   ]
  },
  {
   "attachments": {},
   "cell_type": "markdown",
   "metadata": {},
   "source": [
    "### Objective\n",
    "\n",
    "An organization wants to predict who possible defaulters are for the consumer loans product. They have data about historic customer behavior based on what they have observed. Hence when they acquire new customers they want to predict who is riskier and who is not."
   ]
  },
  {
   "attachments": {},
   "cell_type": "markdown",
   "metadata": {},
   "source": [
    "### Problem Statement\n",
    "\n",
    "We want to predict who are the possible Defaulters for our Loans Product, using Risk_Flag as our target variable."
   ]
  },
  {
   "attachments": {},
   "cell_type": "markdown",
   "metadata": {},
   "source": [
    "## Import Libraries\n",
    "\n",
    "We will import libraries which we will use on completing this assignment"
   ]
  },
  {
   "cell_type": "code",
   "execution_count": 1,
   "metadata": {},
   "outputs": [],
   "source": [
    "# Data Loading\n",
    "import pandas as pd\n",
    "from pandas.api.types import CategoricalDtype\n",
    "\n",
    "#Importing Warning filtering\n",
    "import warnings\n",
    "warnings.filterwarnings('ignore')\n",
    "\n",
    "# Exploratory Data Analysis\n",
    "import matplotlib.pyplot as plt\n",
    "import seaborn as sns\n",
    "import phik\n",
    "from phik.report import plot_correlation_matrix\n",
    "\n",
    "# Data Preprocessing\n",
    "from sklearn.pipeline import Pipeline\n",
    "from imblearn.pipeline import Pipeline as imbpipe\n",
    "from sklearn.compose import ColumnTransformer\n",
    "from sklearn.model_selection import train_test_split\n",
    "from sklearn.preprocessing import StandardScaler, OrdinalEncoder\n",
    "from imblearn.over_sampling import SMOTE\n",
    "\n",
    "# Feature Selection (manual)\n",
    "import numpy as np\n",
    "\n",
    "# Model Definition\n",
    "from sklearn.tree import DecisionTreeClassifier\n",
    "from sklearn.naive_bayes import GaussianNB\n",
    "from sklearn.ensemble import RandomForestClassifier\n",
    "from xgboost import XGBClassifier\n",
    "\n",
    "# Model Evaluation\n",
    "from sklearn.metrics import classification_report, confusion_matrix, ConfusionMatrixDisplay\n",
    "from sklearn.model_selection import cross_val_score, StratifiedKFold, RandomizedSearchCV\n",
    "\n",
    "# Model Inference\n",
    "import joblib\n",
    "\n",
    "# Calculate VIF\n",
    "from statsmodels.stats.outliers_influence import variance_inflation_factor\n",
    "\n",
    "# For showing our time\n",
    "import time"
   ]
  },
  {
   "attachments": {},
   "cell_type": "markdown",
   "metadata": {},
   "source": [
    "## Data Loading"
   ]
  },
  {
   "cell_type": "code",
   "execution_count": 2,
   "metadata": {},
   "outputs": [
    {
     "data": {
      "text/html": [
       "<div>\n",
       "<style scoped>\n",
       "    .dataframe tbody tr th:only-of-type {\n",
       "        vertical-align: middle;\n",
       "    }\n",
       "\n",
       "    .dataframe tbody tr th {\n",
       "        vertical-align: top;\n",
       "    }\n",
       "\n",
       "    .dataframe thead th {\n",
       "        text-align: right;\n",
       "    }\n",
       "</style>\n",
       "<table border=\"1\" class=\"dataframe\">\n",
       "  <thead>\n",
       "    <tr style=\"text-align: right;\">\n",
       "      <th></th>\n",
       "      <th>Id</th>\n",
       "      <th>Income</th>\n",
       "      <th>Age</th>\n",
       "      <th>Experience</th>\n",
       "      <th>Married/Single</th>\n",
       "      <th>House_Ownership</th>\n",
       "      <th>Car_Ownership</th>\n",
       "      <th>Profession</th>\n",
       "      <th>CITY</th>\n",
       "      <th>STATE</th>\n",
       "      <th>CURRENT_JOB_YRS</th>\n",
       "      <th>CURRENT_HOUSE_YRS</th>\n",
       "      <th>Risk_Flag</th>\n",
       "    </tr>\n",
       "  </thead>\n",
       "  <tbody>\n",
       "    <tr>\n",
       "      <th>0</th>\n",
       "      <td>1</td>\n",
       "      <td>1303834</td>\n",
       "      <td>23</td>\n",
       "      <td>3</td>\n",
       "      <td>single</td>\n",
       "      <td>rented</td>\n",
       "      <td>no</td>\n",
       "      <td>Mechanical_engineer</td>\n",
       "      <td>Rewa</td>\n",
       "      <td>Madhya_Pradesh</td>\n",
       "      <td>3</td>\n",
       "      <td>13</td>\n",
       "      <td>0</td>\n",
       "    </tr>\n",
       "    <tr>\n",
       "      <th>1</th>\n",
       "      <td>2</td>\n",
       "      <td>7574516</td>\n",
       "      <td>40</td>\n",
       "      <td>10</td>\n",
       "      <td>single</td>\n",
       "      <td>rented</td>\n",
       "      <td>no</td>\n",
       "      <td>Software_Developer</td>\n",
       "      <td>Parbhani</td>\n",
       "      <td>Maharashtra</td>\n",
       "      <td>9</td>\n",
       "      <td>13</td>\n",
       "      <td>0</td>\n",
       "    </tr>\n",
       "    <tr>\n",
       "      <th>2</th>\n",
       "      <td>3</td>\n",
       "      <td>3991815</td>\n",
       "      <td>66</td>\n",
       "      <td>4</td>\n",
       "      <td>married</td>\n",
       "      <td>rented</td>\n",
       "      <td>no</td>\n",
       "      <td>Technical_writer</td>\n",
       "      <td>Alappuzha</td>\n",
       "      <td>Kerala</td>\n",
       "      <td>4</td>\n",
       "      <td>10</td>\n",
       "      <td>0</td>\n",
       "    </tr>\n",
       "    <tr>\n",
       "      <th>3</th>\n",
       "      <td>4</td>\n",
       "      <td>6256451</td>\n",
       "      <td>41</td>\n",
       "      <td>2</td>\n",
       "      <td>single</td>\n",
       "      <td>rented</td>\n",
       "      <td>yes</td>\n",
       "      <td>Software_Developer</td>\n",
       "      <td>Bhubaneswar</td>\n",
       "      <td>Odisha</td>\n",
       "      <td>2</td>\n",
       "      <td>12</td>\n",
       "      <td>1</td>\n",
       "    </tr>\n",
       "    <tr>\n",
       "      <th>4</th>\n",
       "      <td>5</td>\n",
       "      <td>5768871</td>\n",
       "      <td>47</td>\n",
       "      <td>11</td>\n",
       "      <td>single</td>\n",
       "      <td>rented</td>\n",
       "      <td>no</td>\n",
       "      <td>Civil_servant</td>\n",
       "      <td>Tiruchirappalli[10]</td>\n",
       "      <td>Tamil_Nadu</td>\n",
       "      <td>3</td>\n",
       "      <td>14</td>\n",
       "      <td>1</td>\n",
       "    </tr>\n",
       "    <tr>\n",
       "      <th>5</th>\n",
       "      <td>6</td>\n",
       "      <td>6915937</td>\n",
       "      <td>64</td>\n",
       "      <td>0</td>\n",
       "      <td>single</td>\n",
       "      <td>rented</td>\n",
       "      <td>no</td>\n",
       "      <td>Civil_servant</td>\n",
       "      <td>Jalgaon</td>\n",
       "      <td>Maharashtra</td>\n",
       "      <td>0</td>\n",
       "      <td>12</td>\n",
       "      <td>0</td>\n",
       "    </tr>\n",
       "    <tr>\n",
       "      <th>6</th>\n",
       "      <td>7</td>\n",
       "      <td>3954973</td>\n",
       "      <td>58</td>\n",
       "      <td>14</td>\n",
       "      <td>married</td>\n",
       "      <td>rented</td>\n",
       "      <td>no</td>\n",
       "      <td>Librarian</td>\n",
       "      <td>Tiruppur</td>\n",
       "      <td>Tamil_Nadu</td>\n",
       "      <td>8</td>\n",
       "      <td>12</td>\n",
       "      <td>0</td>\n",
       "    </tr>\n",
       "    <tr>\n",
       "      <th>7</th>\n",
       "      <td>8</td>\n",
       "      <td>1706172</td>\n",
       "      <td>33</td>\n",
       "      <td>2</td>\n",
       "      <td>single</td>\n",
       "      <td>rented</td>\n",
       "      <td>no</td>\n",
       "      <td>Economist</td>\n",
       "      <td>Jamnagar</td>\n",
       "      <td>Gujarat</td>\n",
       "      <td>2</td>\n",
       "      <td>14</td>\n",
       "      <td>0</td>\n",
       "    </tr>\n",
       "    <tr>\n",
       "      <th>8</th>\n",
       "      <td>9</td>\n",
       "      <td>7566849</td>\n",
       "      <td>24</td>\n",
       "      <td>17</td>\n",
       "      <td>single</td>\n",
       "      <td>rented</td>\n",
       "      <td>yes</td>\n",
       "      <td>Flight_attendant</td>\n",
       "      <td>Kota[6]</td>\n",
       "      <td>Rajasthan</td>\n",
       "      <td>11</td>\n",
       "      <td>11</td>\n",
       "      <td>0</td>\n",
       "    </tr>\n",
       "    <tr>\n",
       "      <th>9</th>\n",
       "      <td>10</td>\n",
       "      <td>8964846</td>\n",
       "      <td>23</td>\n",
       "      <td>12</td>\n",
       "      <td>single</td>\n",
       "      <td>rented</td>\n",
       "      <td>no</td>\n",
       "      <td>Architect</td>\n",
       "      <td>Karimnagar</td>\n",
       "      <td>Telangana</td>\n",
       "      <td>5</td>\n",
       "      <td>13</td>\n",
       "      <td>0</td>\n",
       "    </tr>\n",
       "  </tbody>\n",
       "</table>\n",
       "</div>"
      ],
      "text/plain": [
       "   Id   Income  Age  Experience Married/Single House_Ownership Car_Ownership  \\\n",
       "0   1  1303834   23           3         single          rented            no   \n",
       "1   2  7574516   40          10         single          rented            no   \n",
       "2   3  3991815   66           4        married          rented            no   \n",
       "3   4  6256451   41           2         single          rented           yes   \n",
       "4   5  5768871   47          11         single          rented            no   \n",
       "5   6  6915937   64           0         single          rented            no   \n",
       "6   7  3954973   58          14        married          rented            no   \n",
       "7   8  1706172   33           2         single          rented            no   \n",
       "8   9  7566849   24          17         single          rented           yes   \n",
       "9  10  8964846   23          12         single          rented            no   \n",
       "\n",
       "            Profession                 CITY           STATE  CURRENT_JOB_YRS  \\\n",
       "0  Mechanical_engineer                 Rewa  Madhya_Pradesh                3   \n",
       "1   Software_Developer             Parbhani     Maharashtra                9   \n",
       "2     Technical_writer            Alappuzha          Kerala                4   \n",
       "3   Software_Developer          Bhubaneswar          Odisha                2   \n",
       "4        Civil_servant  Tiruchirappalli[10]      Tamil_Nadu                3   \n",
       "5        Civil_servant              Jalgaon     Maharashtra                0   \n",
       "6            Librarian             Tiruppur      Tamil_Nadu                8   \n",
       "7            Economist             Jamnagar         Gujarat                2   \n",
       "8     Flight_attendant              Kota[6]       Rajasthan               11   \n",
       "9            Architect           Karimnagar       Telangana                5   \n",
       "\n",
       "   CURRENT_HOUSE_YRS  Risk_Flag  \n",
       "0                 13          0  \n",
       "1                 13          0  \n",
       "2                 10          0  \n",
       "3                 12          1  \n",
       "4                 14          1  \n",
       "5                 12          0  \n",
       "6                 12          0  \n",
       "7                 14          0  \n",
       "8                 11          0  \n",
       "9                 13          0  "
      ]
     },
     "execution_count": 2,
     "metadata": {},
     "output_type": "execute_result"
    }
   ],
   "source": [
    "df = pd.read_csv('Training Data.csv')\n",
    "df.head(10)"
   ]
  },
  {
   "cell_type": "code",
   "execution_count": 3,
   "metadata": {},
   "outputs": [
    {
     "data": {
      "text/html": [
       "<div>\n",
       "<style scoped>\n",
       "    .dataframe tbody tr th:only-of-type {\n",
       "        vertical-align: middle;\n",
       "    }\n",
       "\n",
       "    .dataframe tbody tr th {\n",
       "        vertical-align: top;\n",
       "    }\n",
       "\n",
       "    .dataframe thead th {\n",
       "        text-align: right;\n",
       "    }\n",
       "</style>\n",
       "<table border=\"1\" class=\"dataframe\">\n",
       "  <thead>\n",
       "    <tr style=\"text-align: right;\">\n",
       "      <th></th>\n",
       "      <th>Id</th>\n",
       "      <th>Income</th>\n",
       "      <th>Age</th>\n",
       "      <th>Experience</th>\n",
       "      <th>Married/Single</th>\n",
       "      <th>House_Ownership</th>\n",
       "      <th>Car_Ownership</th>\n",
       "      <th>Profession</th>\n",
       "      <th>CITY</th>\n",
       "      <th>STATE</th>\n",
       "      <th>CURRENT_JOB_YRS</th>\n",
       "      <th>CURRENT_HOUSE_YRS</th>\n",
       "      <th>Risk_Flag</th>\n",
       "    </tr>\n",
       "  </thead>\n",
       "  <tbody>\n",
       "    <tr>\n",
       "      <th>251990</th>\n",
       "      <td>251991</td>\n",
       "      <td>349066</td>\n",
       "      <td>68</td>\n",
       "      <td>4</td>\n",
       "      <td>single</td>\n",
       "      <td>rented</td>\n",
       "      <td>no</td>\n",
       "      <td>Technical_writer</td>\n",
       "      <td>Madhyamgram</td>\n",
       "      <td>West_Bengal</td>\n",
       "      <td>4</td>\n",
       "      <td>11</td>\n",
       "      <td>0</td>\n",
       "    </tr>\n",
       "    <tr>\n",
       "      <th>251991</th>\n",
       "      <td>251992</td>\n",
       "      <td>6828311</td>\n",
       "      <td>36</td>\n",
       "      <td>11</td>\n",
       "      <td>single</td>\n",
       "      <td>owned</td>\n",
       "      <td>no</td>\n",
       "      <td>Designer</td>\n",
       "      <td>Nagpur</td>\n",
       "      <td>Maharashtra</td>\n",
       "      <td>11</td>\n",
       "      <td>13</td>\n",
       "      <td>0</td>\n",
       "    </tr>\n",
       "    <tr>\n",
       "      <th>251992</th>\n",
       "      <td>251993</td>\n",
       "      <td>7551745</td>\n",
       "      <td>57</td>\n",
       "      <td>7</td>\n",
       "      <td>married</td>\n",
       "      <td>rented</td>\n",
       "      <td>no</td>\n",
       "      <td>Secretary</td>\n",
       "      <td>Nadiad</td>\n",
       "      <td>Gujarat</td>\n",
       "      <td>4</td>\n",
       "      <td>12</td>\n",
       "      <td>0</td>\n",
       "    </tr>\n",
       "    <tr>\n",
       "      <th>251993</th>\n",
       "      <td>251994</td>\n",
       "      <td>8141027</td>\n",
       "      <td>60</td>\n",
       "      <td>10</td>\n",
       "      <td>single</td>\n",
       "      <td>rented</td>\n",
       "      <td>no</td>\n",
       "      <td>Secretary</td>\n",
       "      <td>Bhusawal</td>\n",
       "      <td>Maharashtra</td>\n",
       "      <td>9</td>\n",
       "      <td>13</td>\n",
       "      <td>1</td>\n",
       "    </tr>\n",
       "    <tr>\n",
       "      <th>251994</th>\n",
       "      <td>251995</td>\n",
       "      <td>7215678</td>\n",
       "      <td>27</td>\n",
       "      <td>8</td>\n",
       "      <td>single</td>\n",
       "      <td>rented</td>\n",
       "      <td>no</td>\n",
       "      <td>Aviator</td>\n",
       "      <td>Satna</td>\n",
       "      <td>Madhya_Pradesh</td>\n",
       "      <td>8</td>\n",
       "      <td>10</td>\n",
       "      <td>0</td>\n",
       "    </tr>\n",
       "    <tr>\n",
       "      <th>251995</th>\n",
       "      <td>251996</td>\n",
       "      <td>8154883</td>\n",
       "      <td>43</td>\n",
       "      <td>13</td>\n",
       "      <td>single</td>\n",
       "      <td>rented</td>\n",
       "      <td>no</td>\n",
       "      <td>Surgeon</td>\n",
       "      <td>Kolkata</td>\n",
       "      <td>West_Bengal</td>\n",
       "      <td>6</td>\n",
       "      <td>11</td>\n",
       "      <td>0</td>\n",
       "    </tr>\n",
       "    <tr>\n",
       "      <th>251996</th>\n",
       "      <td>251997</td>\n",
       "      <td>2843572</td>\n",
       "      <td>26</td>\n",
       "      <td>10</td>\n",
       "      <td>single</td>\n",
       "      <td>rented</td>\n",
       "      <td>no</td>\n",
       "      <td>Army_officer</td>\n",
       "      <td>Rewa</td>\n",
       "      <td>Madhya_Pradesh</td>\n",
       "      <td>6</td>\n",
       "      <td>11</td>\n",
       "      <td>0</td>\n",
       "    </tr>\n",
       "    <tr>\n",
       "      <th>251997</th>\n",
       "      <td>251998</td>\n",
       "      <td>4522448</td>\n",
       "      <td>46</td>\n",
       "      <td>7</td>\n",
       "      <td>single</td>\n",
       "      <td>rented</td>\n",
       "      <td>no</td>\n",
       "      <td>Design_Engineer</td>\n",
       "      <td>Kalyan-Dombivli</td>\n",
       "      <td>Maharashtra</td>\n",
       "      <td>7</td>\n",
       "      <td>12</td>\n",
       "      <td>0</td>\n",
       "    </tr>\n",
       "    <tr>\n",
       "      <th>251998</th>\n",
       "      <td>251999</td>\n",
       "      <td>6507128</td>\n",
       "      <td>45</td>\n",
       "      <td>0</td>\n",
       "      <td>single</td>\n",
       "      <td>rented</td>\n",
       "      <td>no</td>\n",
       "      <td>Graphic_Designer</td>\n",
       "      <td>Pondicherry</td>\n",
       "      <td>Puducherry</td>\n",
       "      <td>0</td>\n",
       "      <td>10</td>\n",
       "      <td>0</td>\n",
       "    </tr>\n",
       "    <tr>\n",
       "      <th>251999</th>\n",
       "      <td>252000</td>\n",
       "      <td>9070230</td>\n",
       "      <td>70</td>\n",
       "      <td>17</td>\n",
       "      <td>single</td>\n",
       "      <td>rented</td>\n",
       "      <td>no</td>\n",
       "      <td>Statistician</td>\n",
       "      <td>Avadi</td>\n",
       "      <td>Tamil_Nadu</td>\n",
       "      <td>7</td>\n",
       "      <td>11</td>\n",
       "      <td>0</td>\n",
       "    </tr>\n",
       "  </tbody>\n",
       "</table>\n",
       "</div>"
      ],
      "text/plain": [
       "            Id   Income  Age  Experience Married/Single House_Ownership  \\\n",
       "251990  251991   349066   68           4         single          rented   \n",
       "251991  251992  6828311   36          11         single           owned   \n",
       "251992  251993  7551745   57           7        married          rented   \n",
       "251993  251994  8141027   60          10         single          rented   \n",
       "251994  251995  7215678   27           8         single          rented   \n",
       "251995  251996  8154883   43          13         single          rented   \n",
       "251996  251997  2843572   26          10         single          rented   \n",
       "251997  251998  4522448   46           7         single          rented   \n",
       "251998  251999  6507128   45           0         single          rented   \n",
       "251999  252000  9070230   70          17         single          rented   \n",
       "\n",
       "       Car_Ownership        Profession             CITY           STATE  \\\n",
       "251990            no  Technical_writer      Madhyamgram     West_Bengal   \n",
       "251991            no          Designer           Nagpur     Maharashtra   \n",
       "251992            no         Secretary           Nadiad         Gujarat   \n",
       "251993            no         Secretary         Bhusawal     Maharashtra   \n",
       "251994            no           Aviator            Satna  Madhya_Pradesh   \n",
       "251995            no           Surgeon          Kolkata     West_Bengal   \n",
       "251996            no      Army_officer             Rewa  Madhya_Pradesh   \n",
       "251997            no   Design_Engineer  Kalyan-Dombivli     Maharashtra   \n",
       "251998            no  Graphic_Designer      Pondicherry      Puducherry   \n",
       "251999            no      Statistician            Avadi      Tamil_Nadu   \n",
       "\n",
       "        CURRENT_JOB_YRS  CURRENT_HOUSE_YRS  Risk_Flag  \n",
       "251990                4                 11          0  \n",
       "251991               11                 13          0  \n",
       "251992                4                 12          0  \n",
       "251993                9                 13          1  \n",
       "251994                8                 10          0  \n",
       "251995                6                 11          0  \n",
       "251996                6                 11          0  \n",
       "251997                7                 12          0  \n",
       "251998                0                 10          0  \n",
       "251999                7                 11          0  "
      ]
     },
     "execution_count": 3,
     "metadata": {},
     "output_type": "execute_result"
    }
   ],
   "source": [
    "df.tail(10)"
   ]
  },
  {
   "attachments": {},
   "cell_type": "markdown",
   "metadata": {},
   "source": [
    "Here we showed ten first and last row of our data set"
   ]
  },
  {
   "attachments": {},
   "cell_type": "markdown",
   "metadata": {},
   "source": [
    "### Check Dataset"
   ]
  },
  {
   "cell_type": "code",
   "execution_count": 4,
   "metadata": {},
   "outputs": [
    {
     "name": "stdout",
     "output_type": "stream",
     "text": [
      "<class 'pandas.core.frame.DataFrame'>\n",
      "RangeIndex: 252000 entries, 0 to 251999\n",
      "Data columns (total 13 columns):\n",
      " #   Column             Non-Null Count   Dtype \n",
      "---  ------             --------------   ----- \n",
      " 0   Id                 252000 non-null  int64 \n",
      " 1   Income             252000 non-null  int64 \n",
      " 2   Age                252000 non-null  int64 \n",
      " 3   Experience         252000 non-null  int64 \n",
      " 4   Married/Single     252000 non-null  object\n",
      " 5   House_Ownership    252000 non-null  object\n",
      " 6   Car_Ownership      252000 non-null  object\n",
      " 7   Profession         252000 non-null  object\n",
      " 8   CITY               252000 non-null  object\n",
      " 9   STATE              252000 non-null  object\n",
      " 10  CURRENT_JOB_YRS    252000 non-null  int64 \n",
      " 11  CURRENT_HOUSE_YRS  252000 non-null  int64 \n",
      " 12  Risk_Flag          252000 non-null  int64 \n",
      "dtypes: int64(7), object(6)\n",
      "memory usage: 25.0+ MB\n"
     ]
    }
   ],
   "source": [
    "df.info()"
   ]
  },
  {
   "attachments": {},
   "cell_type": "markdown",
   "metadata": {},
   "source": [
    "We dont have any missing values, which is great because we don't need to handle it."
   ]
  },
  {
   "cell_type": "code",
   "execution_count": 5,
   "metadata": {},
   "outputs": [
    {
     "data": {
      "text/plain": [
       "0"
      ]
     },
     "execution_count": 5,
     "metadata": {},
     "output_type": "execute_result"
    }
   ],
   "source": [
    "df.duplicated().sum()"
   ]
  },
  {
   "attachments": {},
   "cell_type": "markdown",
   "metadata": {},
   "source": [
    "We also don't have any duplicated data."
   ]
  },
  {
   "cell_type": "code",
   "execution_count": 6,
   "metadata": {},
   "outputs": [
    {
     "data": {
      "text/html": [
       "<div>\n",
       "<style scoped>\n",
       "    .dataframe tbody tr th:only-of-type {\n",
       "        vertical-align: middle;\n",
       "    }\n",
       "\n",
       "    .dataframe tbody tr th {\n",
       "        vertical-align: top;\n",
       "    }\n",
       "\n",
       "    .dataframe thead th {\n",
       "        text-align: right;\n",
       "    }\n",
       "</style>\n",
       "<table border=\"1\" class=\"dataframe\">\n",
       "  <thead>\n",
       "    <tr style=\"text-align: right;\">\n",
       "      <th></th>\n",
       "      <th>id</th>\n",
       "      <th>income</th>\n",
       "      <th>age</th>\n",
       "      <th>experience</th>\n",
       "      <th>married/single</th>\n",
       "      <th>house_ownership</th>\n",
       "      <th>car_ownership</th>\n",
       "      <th>profession</th>\n",
       "      <th>city</th>\n",
       "      <th>state</th>\n",
       "      <th>current_job_yrs</th>\n",
       "      <th>current_house_yrs</th>\n",
       "      <th>risk_flag</th>\n",
       "    </tr>\n",
       "  </thead>\n",
       "  <tbody>\n",
       "    <tr>\n",
       "      <th>0</th>\n",
       "      <td>1</td>\n",
       "      <td>1303834</td>\n",
       "      <td>23</td>\n",
       "      <td>3</td>\n",
       "      <td>single</td>\n",
       "      <td>rented</td>\n",
       "      <td>no</td>\n",
       "      <td>Mechanical_engineer</td>\n",
       "      <td>Rewa</td>\n",
       "      <td>Madhya_Pradesh</td>\n",
       "      <td>3</td>\n",
       "      <td>13</td>\n",
       "      <td>0</td>\n",
       "    </tr>\n",
       "  </tbody>\n",
       "</table>\n",
       "</div>"
      ],
      "text/plain": [
       "   id   income  age  experience married/single house_ownership car_ownership  \\\n",
       "0   1  1303834   23           3         single          rented            no   \n",
       "\n",
       "            profession  city           state  current_job_yrs  \\\n",
       "0  Mechanical_engineer  Rewa  Madhya_Pradesh                3   \n",
       "\n",
       "   current_house_yrs  risk_flag  \n",
       "0                 13          0  "
      ]
     },
     "execution_count": 6,
     "metadata": {},
     "output_type": "execute_result"
    }
   ],
   "source": [
    "df.columns = map(str.lower, df.columns)\n",
    "df.head(1)"
   ]
  },
  {
   "attachments": {},
   "cell_type": "markdown",
   "metadata": {},
   "source": [
    "Here we decided to lowercase all our columns title, in order to make it look tidy."
   ]
  },
  {
   "cell_type": "code",
   "execution_count": 7,
   "metadata": {},
   "outputs": [
    {
     "name": "stdout",
     "output_type": "stream",
     "text": [
      "married/single: 2 uniqueness variable\n",
      "house_ownership: 3 uniqueness variable\n",
      "car_ownership: 2 uniqueness variable\n",
      "profession: 51 uniqueness variable\n",
      "city: 317 uniqueness variable\n",
      "state: 29 uniqueness variable\n"
     ]
    }
   ],
   "source": [
    "categorical = df.select_dtypes([\"category\", \"object\"]).columns\n",
    "\n",
    "for cat_col in categorical:\n",
    "    print(f\"{cat_col}: {df[cat_col].nunique()} uniqueness variable\")"
   ]
  },
  {
   "attachments": {},
   "cell_type": "markdown",
   "metadata": {},
   "source": [
    "We see that our categorical column have some cardinality problems, we might want to handle it by drop some columns, since we don't have further data to generalize the labels."
   ]
  },
  {
   "cell_type": "code",
   "execution_count": 8,
   "metadata": {},
   "outputs": [
    {
     "name": "stdout",
     "output_type": "stream",
     "text": [
      "id: 252000 uniqueness variable\n",
      "income: 41920 uniqueness variable\n",
      "age: 59 uniqueness variable\n",
      "experience: 21 uniqueness variable\n",
      "current_job_yrs: 15 uniqueness variable\n",
      "current_house_yrs: 5 uniqueness variable\n",
      "risk_flag: 2 uniqueness variable\n"
     ]
    }
   ],
   "source": [
    "numeric = df.select_dtypes([\"int\", \"float\"]).columns\n",
    "\n",
    "for num_col in numeric:\n",
    "    print(f\"{num_col}: {df[num_col].nunique()} uniqueness variable\")"
   ]
  },
  {
   "attachments": {},
   "cell_type": "markdown",
   "metadata": {},
   "source": [
    "We also check our numerical data, it seems id column has no use in our model."
   ]
  },
  {
   "cell_type": "code",
   "execution_count": 9,
   "metadata": {},
   "outputs": [
    {
     "data": {
      "text/plain": [
       "{'id': 0,\n",
       " 'income': 0,\n",
       " 'age': 0,\n",
       " 'experience': 0,\n",
       " 'married/single': 0,\n",
       " 'house_ownership': 0,\n",
       " 'car_ownership': 0,\n",
       " 'profession': 0,\n",
       " 'city': 0,\n",
       " 'state': 0,\n",
       " 'current_job_yrs': 0,\n",
       " 'current_house_yrs': 0,\n",
       " 'risk_flag': 0}"
      ]
     },
     "execution_count": 9,
     "metadata": {},
     "output_type": "execute_result"
    }
   ],
   "source": [
    "#checking other common missing values\n",
    "miss = {}\n",
    "\n",
    "for i in list(df.columns):\n",
    "    miss[i] = 0\n",
    "    for a in df[i]:\n",
    "        if a in ['N/A', '--', '-', 'Null', '?', ' ?', 'NaN', ' NaN']:\n",
    "            miss[i] = miss[i] + 1\n",
    "miss"
   ]
  },
  {
   "attachments": {},
   "cell_type": "markdown",
   "metadata": {},
   "source": [
    "We want to make sure that our data is completely clean, and it turns out to be true."
   ]
  },
  {
   "attachments": {},
   "cell_type": "markdown",
   "metadata": {},
   "source": [
    "### Check Unique Values"
   ]
  },
  {
   "cell_type": "code",
   "execution_count": 10,
   "metadata": {},
   "outputs": [
    {
     "data": {
      "text/plain": [
       "array(['Rewa', 'Parbhani', 'Alappuzha', 'Bhubaneswar',\n",
       "       'Tiruchirappalli[10]', 'Jalgaon', 'Tiruppur', 'Jamnagar',\n",
       "       'Kota[6]', 'Karimnagar', 'Hajipur[31]', 'Adoni', 'Erode[17]',\n",
       "       'Kollam', 'Madurai', 'Anantapuram[24]', 'Kamarhati', 'Bhusawal',\n",
       "       'Sirsa', 'Amaravati', 'Secunderabad', 'Ahmedabad', 'Ajmer',\n",
       "       'Ongole', 'Miryalaguda', 'Ambattur', 'Indore', 'Pondicherry',\n",
       "       'Shimoga', 'Chennai', 'Gulbarga', 'Khammam', 'Saharanpur',\n",
       "       'Gopalpur', 'Amravati', 'Udupi', 'Howrah', 'Aurangabad[39]',\n",
       "       'Hospet', 'Shimla', 'Khandwa', 'Bidhannagar', 'Bellary', 'Danapur',\n",
       "       'Purnia[26]', 'Bijapur', 'Patiala', 'Malda', 'Sagar', 'Durgapur',\n",
       "       'Junagadh', 'Singrauli', 'Agartala', 'Thanjavur', 'Hindupur',\n",
       "       'Naihati', 'North_Dumdum', 'Panchkula', 'Anantapur', 'Serampore',\n",
       "       'Bathinda', 'Nadiad', 'Kanpur', 'Haridwar', 'Berhampur',\n",
       "       'Jamshedpur', 'Hyderabad', 'Bidar', 'Kottayam', 'Solapur',\n",
       "       'Suryapet', 'Aizawl', 'Asansol', 'Deoghar', 'Eluru[25]',\n",
       "       'Ulhasnagar', 'Aligarh', 'South_Dumdum', 'Berhampore',\n",
       "       'Gandhinagar', 'Sonipat', 'Muzaffarpur', 'Raichur',\n",
       "       'Rajpur_Sonarpur', 'Ambarnath', 'Katihar', 'Kozhikode', 'Vellore',\n",
       "       'Malegaon', 'Kochi', 'Nagaon', 'Nagpur', 'Srinagar', 'Davanagere',\n",
       "       'Bhagalpur', 'Siwan[32]', 'Meerut', 'Dindigul', 'Bhatpara',\n",
       "       'Ghaziabad', 'Kulti', 'Chapra', 'Dibrugarh', 'Panihati',\n",
       "       'Bhiwandi', 'Morbi', 'Kalyan-Dombivli', 'Gorakhpur', 'Panvel',\n",
       "       'Siliguri', 'Bongaigaon', 'Patna', 'Ramgarh', 'Ozhukarai',\n",
       "       'Mirzapur', 'Akola', 'Satna', 'Motihari[34]', 'Jalna', 'Jalandhar',\n",
       "       'Unnao', 'Karnal', 'Cuttack', 'Proddatur', 'Ichalkaranji',\n",
       "       'Warangal[11][12]', 'Jhansi', 'Bulandshahr', 'Narasaraopet',\n",
       "       'Chinsurah', 'Jehanabad[38]', 'Dhanbad', 'Gudivada', 'Gandhidham',\n",
       "       'Raiganj', 'Kishanganj[35]', 'Varanasi', 'Belgaum',\n",
       "       'Tirupati[21][22]', 'Tumkur', 'Coimbatore', 'Kurnool[18]',\n",
       "       'Gurgaon', 'Muzaffarnagar', 'Aurangabad', 'Bhavnagar', 'Arrah',\n",
       "       'Munger', 'Tirunelveli', 'Mumbai', 'Mango', 'Nashik', 'Kadapa[23]',\n",
       "       'Amritsar', 'Khora,_Ghaziabad', 'Ambala', 'Agra', 'Ratlam',\n",
       "       'Surendranagar_Dudhrej', 'Delhi_city', 'Bhopal', 'Hapur', 'Rohtak',\n",
       "       'Durg', 'Korba', 'Bangalore', 'Shivpuri', 'Thrissur',\n",
       "       'Vijayanagaram', 'Farrukhabad', 'Nangloi_Jat', 'Madanapalle',\n",
       "       'Thoothukudi', 'Nagercoil', 'Gaya', 'Chandigarh_city', 'Jammu[16]',\n",
       "       'Kakinada', 'Dewas', 'Bhalswa_Jahangir_Pur', 'Baranagar',\n",
       "       'Firozabad', 'Phusro', 'Allahabad', 'Guna', 'Thane', 'Etawah',\n",
       "       'Vasai-Virar', 'Pallavaram', 'Morena', 'Ballia', 'Surat',\n",
       "       'Burhanpur', 'Phagwara', 'Mau', 'Mangalore', 'Alwar',\n",
       "       'Mahbubnagar', 'Maheshtala', 'Hazaribagh', 'Bihar_Sharif',\n",
       "       'Faridabad', 'Lucknow', 'Tenali', 'Barasat', 'Amroha', 'Giridih',\n",
       "       'Begusarai', 'Medininagar', 'Rajahmundry[19][20]', 'Saharsa[29]',\n",
       "       'New_Delhi', 'Bhilai', 'Moradabad', 'Machilipatnam',\n",
       "       'Mira-Bhayandar', 'Pali', 'Navi_Mumbai', 'Mehsana', 'Imphal',\n",
       "       'Kolkata', 'Sambalpur', 'Ujjain', 'Madhyamgram', 'Jabalpur',\n",
       "       'Jamalpur[36]', 'Ludhiana', 'Bareilly', 'Gangtok', 'Anand',\n",
       "       'Dehradun', 'Pune', 'Satara', 'Srikakulam', 'Raipur', 'Jodhpur',\n",
       "       'Darbhanga', 'Nizamabad', 'Nandyal', 'Dehri[30]', 'Jorhat',\n",
       "       'Ranchi', 'Kumbakonam', 'Guntakal', 'Haldia', 'Loni',\n",
       "       'Pimpri-Chinchwad', 'Rajkot', 'Nanded', 'Noida',\n",
       "       'Kirari_Suleman_Nagar', 'Jaunpur', 'Bilaspur', 'Sambhal', 'Dhule',\n",
       "       'Rourkela', 'Thiruvananthapuram', 'Dharmavaram', 'Nellore[14][15]',\n",
       "       'Visakhapatnam[4]', 'Karawal_Nagar', 'Jaipur', 'Avadi',\n",
       "       'Bhimavaram', 'Bardhaman', 'Silchar', 'Buxar[37]', 'Kavali',\n",
       "       'Tezpur', 'Ramagundam[27]', 'Yamunanagar', 'Sri_Ganganagar',\n",
       "       'Sasaram[30]', 'Sikar', 'Bally', 'Bhiwani', 'Rampur', 'Uluberia',\n",
       "       'Sangli-Miraj_&_Kupwad', 'Hosur', 'Bikaner', 'Shahjahanpur',\n",
       "       'Sultan_Pur_Majra', 'Vijayawada', 'Bharatpur', 'Tadepalligudem',\n",
       "       'Tinsukia', 'Salem', 'Mathura', 'Guntur[13]', 'Hubliâ€“Dharwad',\n",
       "       'Guwahati', 'Chittoor[28]', 'Tiruvottiyur', 'Vadodara',\n",
       "       'Ahmednagar', 'Fatehpur', 'Bhilwara', 'Kharagpur', 'Bettiah[33]',\n",
       "       'Bhind', 'Bokaro', 'Karaikudi', 'Raebareli', 'Pudukkottai',\n",
       "       'Udaipur', 'Mysore[7][8][9]', 'Panipat', 'Latur', 'Tadipatri',\n",
       "       'Bahraich', 'Orai', 'Raurkela_Industrial_Township', 'Gwalior',\n",
       "       'Katni', 'Chandrapur', 'Kolhapur'], dtype=object)"
      ]
     },
     "execution_count": 10,
     "metadata": {},
     "output_type": "execute_result"
    }
   ],
   "source": [
    "df.city.unique()"
   ]
  },
  {
   "attachments": {},
   "cell_type": "markdown",
   "metadata": {},
   "source": [
    "We have some ood labels here, we need to clean this."
   ]
  },
  {
   "cell_type": "code",
   "execution_count": 11,
   "metadata": {},
   "outputs": [
    {
     "data": {
      "text/plain": [
       "array(['Madhya_Pradesh', 'Maharashtra', 'Kerala', 'Odisha', 'Tamil_Nadu',\n",
       "       'Gujarat', 'Rajasthan', 'Telangana', 'Bihar', 'Andhra_Pradesh',\n",
       "       'West_Bengal', 'Haryana', 'Puducherry', 'Karnataka',\n",
       "       'Uttar_Pradesh', 'Himachal_Pradesh', 'Punjab', 'Tripura',\n",
       "       'Uttarakhand', 'Jharkhand', 'Mizoram', 'Assam',\n",
       "       'Jammu_and_Kashmir', 'Delhi', 'Chhattisgarh', 'Chandigarh',\n",
       "       'Uttar_Pradesh[5]', 'Manipur', 'Sikkim'], dtype=object)"
      ]
     },
     "execution_count": 11,
     "metadata": {},
     "output_type": "execute_result"
    }
   ],
   "source": [
    "df.state.unique()"
   ]
  },
  {
   "attachments": {},
   "cell_type": "markdown",
   "metadata": {},
   "source": [
    "On state column also."
   ]
  },
  {
   "cell_type": "code",
   "execution_count": 12,
   "metadata": {},
   "outputs": [
    {
     "data": {
      "text/plain": [
       "array(['Mechanical_engineer', 'Software_Developer', 'Technical_writer',\n",
       "       'Civil_servant', 'Librarian', 'Economist', 'Flight_attendant',\n",
       "       'Architect', 'Designer', 'Physician', 'Financial_Analyst',\n",
       "       'Air_traffic_controller', 'Politician', 'Police_officer', 'Artist',\n",
       "       'Surveyor', 'Design_Engineer', 'Chemical_engineer',\n",
       "       'Hotel_Manager', 'Dentist', 'Comedian', 'Biomedical_Engineer',\n",
       "       'Graphic_Designer', 'Computer_hardware_engineer',\n",
       "       'Petroleum_Engineer', 'Secretary', 'Computer_operator',\n",
       "       'Chartered_Accountant', 'Technician', 'Microbiologist',\n",
       "       'Fashion_Designer', 'Aviator', 'Psychologist', 'Magistrate',\n",
       "       'Lawyer', 'Firefighter', 'Engineer', 'Official', 'Analyst',\n",
       "       'Geologist', 'Drafter', 'Statistician', 'Web_designer',\n",
       "       'Consultant', 'Chef', 'Army_officer', 'Surgeon', 'Scientist',\n",
       "       'Civil_engineer', 'Industrial_Engineer', 'Technology_specialist'],\n",
       "      dtype=object)"
      ]
     },
     "execution_count": 12,
     "metadata": {},
     "output_type": "execute_result"
    }
   ],
   "source": [
    "df.profession.unique()"
   ]
  },
  {
   "attachments": {},
   "cell_type": "markdown",
   "metadata": {},
   "source": [
    "So many unique values on these columns, probably it is the best to drop this column. Because high cardinality may lead our model to be bias."
   ]
  },
  {
   "attachments": {},
   "cell_type": "markdown",
   "metadata": {},
   "source": [
    "## Data Cleaning"
   ]
  },
  {
   "cell_type": "code",
   "execution_count": 13,
   "metadata": {},
   "outputs": [],
   "source": [
    "df.city = df.city.str.extract(\"([A-Za-z]+)\")\n",
    "df.state = df.state.str.extract(\"([A-Za-z]+)\")"
   ]
  },
  {
   "attachments": {},
   "cell_type": "markdown",
   "metadata": {},
   "source": [
    "Here we remove some odd labels on our data."
   ]
  },
  {
   "cell_type": "code",
   "execution_count": 14,
   "metadata": {},
   "outputs": [
    {
     "data": {
      "text/plain": [
       "Index(['id', 'income', 'age', 'experience', 'marry_status', 'house_ownership',\n",
       "       'car_ownership', 'profession', 'city', 'state', 'current_job_yrs',\n",
       "       'current_house_yrs', 'risk_flag'],\n",
       "      dtype='object')"
      ]
     },
     "execution_count": 14,
     "metadata": {},
     "output_type": "execute_result"
    }
   ],
   "source": [
    "df.rename(columns={\"married/single\": \"marry_status\"}, inplace=True)\n",
    "df.columns"
   ]
  },
  {
   "attachments": {},
   "cell_type": "markdown",
   "metadata": {},
   "source": [
    "We also rename column to help us understand the data inside"
   ]
  },
  {
   "attachments": {},
   "cell_type": "markdown",
   "metadata": {},
   "source": [
    "## Exploratory Data Analysis\n"
   ]
  },
  {
   "attachments": {},
   "cell_type": "markdown",
   "metadata": {},
   "source": [
    "### Numerical and Categorical Central Tendency"
   ]
  },
  {
   "cell_type": "code",
   "execution_count": 15,
   "metadata": {},
   "outputs": [
    {
     "data": {
      "text/html": [
       "<div>\n",
       "<style scoped>\n",
       "    .dataframe tbody tr th:only-of-type {\n",
       "        vertical-align: middle;\n",
       "    }\n",
       "\n",
       "    .dataframe tbody tr th {\n",
       "        vertical-align: top;\n",
       "    }\n",
       "\n",
       "    .dataframe thead th {\n",
       "        text-align: right;\n",
       "    }\n",
       "</style>\n",
       "<table border=\"1\" class=\"dataframe\">\n",
       "  <thead>\n",
       "    <tr style=\"text-align: right;\">\n",
       "      <th></th>\n",
       "      <th>count</th>\n",
       "      <th>mean</th>\n",
       "      <th>std</th>\n",
       "      <th>min</th>\n",
       "      <th>25%</th>\n",
       "      <th>50%</th>\n",
       "      <th>75%</th>\n",
       "      <th>max</th>\n",
       "    </tr>\n",
       "  </thead>\n",
       "  <tbody>\n",
       "    <tr>\n",
       "      <th>id</th>\n",
       "      <td>252000.0</td>\n",
       "      <td>1.260005e+05</td>\n",
       "      <td>7.274628e+04</td>\n",
       "      <td>1.0</td>\n",
       "      <td>63000.75</td>\n",
       "      <td>126000.5</td>\n",
       "      <td>189000.25</td>\n",
       "      <td>252000.0</td>\n",
       "    </tr>\n",
       "    <tr>\n",
       "      <th>income</th>\n",
       "      <td>252000.0</td>\n",
       "      <td>4.997117e+06</td>\n",
       "      <td>2.878311e+06</td>\n",
       "      <td>10310.0</td>\n",
       "      <td>2503015.00</td>\n",
       "      <td>5000694.5</td>\n",
       "      <td>7477502.00</td>\n",
       "      <td>9999938.0</td>\n",
       "    </tr>\n",
       "    <tr>\n",
       "      <th>age</th>\n",
       "      <td>252000.0</td>\n",
       "      <td>4.995407e+01</td>\n",
       "      <td>1.706385e+01</td>\n",
       "      <td>21.0</td>\n",
       "      <td>35.00</td>\n",
       "      <td>50.0</td>\n",
       "      <td>65.00</td>\n",
       "      <td>79.0</td>\n",
       "    </tr>\n",
       "    <tr>\n",
       "      <th>experience</th>\n",
       "      <td>252000.0</td>\n",
       "      <td>1.008444e+01</td>\n",
       "      <td>6.002590e+00</td>\n",
       "      <td>0.0</td>\n",
       "      <td>5.00</td>\n",
       "      <td>10.0</td>\n",
       "      <td>15.00</td>\n",
       "      <td>20.0</td>\n",
       "    </tr>\n",
       "    <tr>\n",
       "      <th>current_job_yrs</th>\n",
       "      <td>252000.0</td>\n",
       "      <td>6.333877e+00</td>\n",
       "      <td>3.647053e+00</td>\n",
       "      <td>0.0</td>\n",
       "      <td>3.00</td>\n",
       "      <td>6.0</td>\n",
       "      <td>9.00</td>\n",
       "      <td>14.0</td>\n",
       "    </tr>\n",
       "    <tr>\n",
       "      <th>current_house_yrs</th>\n",
       "      <td>252000.0</td>\n",
       "      <td>1.199779e+01</td>\n",
       "      <td>1.399037e+00</td>\n",
       "      <td>10.0</td>\n",
       "      <td>11.00</td>\n",
       "      <td>12.0</td>\n",
       "      <td>13.00</td>\n",
       "      <td>14.0</td>\n",
       "    </tr>\n",
       "    <tr>\n",
       "      <th>risk_flag</th>\n",
       "      <td>252000.0</td>\n",
       "      <td>1.230000e-01</td>\n",
       "      <td>3.284379e-01</td>\n",
       "      <td>0.0</td>\n",
       "      <td>0.00</td>\n",
       "      <td>0.0</td>\n",
       "      <td>0.00</td>\n",
       "      <td>1.0</td>\n",
       "    </tr>\n",
       "  </tbody>\n",
       "</table>\n",
       "</div>"
      ],
      "text/plain": [
       "                      count          mean           std      min         25%  \\\n",
       "id                 252000.0  1.260005e+05  7.274628e+04      1.0    63000.75   \n",
       "income             252000.0  4.997117e+06  2.878311e+06  10310.0  2503015.00   \n",
       "age                252000.0  4.995407e+01  1.706385e+01     21.0       35.00   \n",
       "experience         252000.0  1.008444e+01  6.002590e+00      0.0        5.00   \n",
       "current_job_yrs    252000.0  6.333877e+00  3.647053e+00      0.0        3.00   \n",
       "current_house_yrs  252000.0  1.199779e+01  1.399037e+00     10.0       11.00   \n",
       "risk_flag          252000.0  1.230000e-01  3.284379e-01      0.0        0.00   \n",
       "\n",
       "                         50%         75%        max  \n",
       "id                  126000.5   189000.25   252000.0  \n",
       "income             5000694.5  7477502.00  9999938.0  \n",
       "age                     50.0       65.00       79.0  \n",
       "experience              10.0       15.00       20.0  \n",
       "current_job_yrs          6.0        9.00       14.0  \n",
       "current_house_yrs       12.0       13.00       14.0  \n",
       "risk_flag                0.0        0.00        1.0  "
      ]
     },
     "execution_count": 15,
     "metadata": {},
     "output_type": "execute_result"
    }
   ],
   "source": [
    "df.describe(include=[np.number]).T"
   ]
  },
  {
   "attachments": {},
   "cell_type": "markdown",
   "metadata": {},
   "source": [
    "From this data we can say we have 2 true numerical column and the rest may be a categorical."
   ]
  },
  {
   "cell_type": "code",
   "execution_count": 16,
   "metadata": {},
   "outputs": [
    {
     "data": {
      "text/html": [
       "<div>\n",
       "<style scoped>\n",
       "    .dataframe tbody tr th:only-of-type {\n",
       "        vertical-align: middle;\n",
       "    }\n",
       "\n",
       "    .dataframe tbody tr th {\n",
       "        vertical-align: top;\n",
       "    }\n",
       "\n",
       "    .dataframe thead th {\n",
       "        text-align: right;\n",
       "    }\n",
       "</style>\n",
       "<table border=\"1\" class=\"dataframe\">\n",
       "  <thead>\n",
       "    <tr style=\"text-align: right;\">\n",
       "      <th></th>\n",
       "      <th>count</th>\n",
       "      <th>unique</th>\n",
       "      <th>top</th>\n",
       "      <th>freq</th>\n",
       "    </tr>\n",
       "  </thead>\n",
       "  <tbody>\n",
       "    <tr>\n",
       "      <th>marry_status</th>\n",
       "      <td>252000</td>\n",
       "      <td>2</td>\n",
       "      <td>single</td>\n",
       "      <td>226272</td>\n",
       "    </tr>\n",
       "    <tr>\n",
       "      <th>house_ownership</th>\n",
       "      <td>252000</td>\n",
       "      <td>3</td>\n",
       "      <td>rented</td>\n",
       "      <td>231898</td>\n",
       "    </tr>\n",
       "    <tr>\n",
       "      <th>car_ownership</th>\n",
       "      <td>252000</td>\n",
       "      <td>2</td>\n",
       "      <td>no</td>\n",
       "      <td>176000</td>\n",
       "    </tr>\n",
       "    <tr>\n",
       "      <th>profession</th>\n",
       "      <td>252000</td>\n",
       "      <td>51</td>\n",
       "      <td>Physician</td>\n",
       "      <td>5957</td>\n",
       "    </tr>\n",
       "    <tr>\n",
       "      <th>city</th>\n",
       "      <td>252000</td>\n",
       "      <td>316</td>\n",
       "      <td>Aurangabad</td>\n",
       "      <td>1543</td>\n",
       "    </tr>\n",
       "    <tr>\n",
       "      <th>state</th>\n",
       "      <td>252000</td>\n",
       "      <td>28</td>\n",
       "      <td>Uttar</td>\n",
       "      <td>29143</td>\n",
       "    </tr>\n",
       "  </tbody>\n",
       "</table>\n",
       "</div>"
      ],
      "text/plain": [
       "                  count unique         top    freq\n",
       "marry_status     252000      2      single  226272\n",
       "house_ownership  252000      3      rented  231898\n",
       "car_ownership    252000      2          no  176000\n",
       "profession       252000     51   Physician    5957\n",
       "city             252000    316  Aurangabad    1543\n",
       "state            252000     28       Uttar   29143"
      ]
     },
     "execution_count": 16,
     "metadata": {},
     "output_type": "execute_result"
    }
   ],
   "source": [
    "df.describe(exclude=[np.number]).T"
   ]
  },
  {
   "attachments": {},
   "cell_type": "markdown",
   "metadata": {},
   "source": [
    "* Here we can see most people in our data is single.\n",
    "* They also have a rented house rather than owned.\n",
    "* Also, most aplicants do not have car."
   ]
  },
  {
   "attachments": {},
   "cell_type": "markdown",
   "metadata": {},
   "source": [
    "### Target Variable Analysis"
   ]
  },
  {
   "cell_type": "code",
   "execution_count": 17,
   "metadata": {},
   "outputs": [
    {
     "data": {
      "image/png": "[encoded data removed]",
      "text/plain": [
       "<Figure size 1500x600 with 2 Axes>"
      ]
     },
     "metadata": {},
     "output_type": "display_data"
    }
   ],
   "source": [
    "plt.figure(figsize=(15, 6))\n",
    "plt.subplot(1, 2, 1)\n",
    "fig = sns.countplot(x='risk_flag', data=df)\n",
    "for p in fig.patches:\n",
    "    height = p.get_height()\n",
    "    fig.text(p.get_x() + p.get_width()/2.,\n",
    "            height + 3,\n",
    "            '{:1.0f}'.format(height),\n",
    "            ha=\"center\")\n",
    "plt.title('Risk Flag Count')\n",
    "fig.set_xticklabels(['Non-Defaluter','Defaluter'])\n",
    "plt.xlabel('Risk Flag')\n",
    "plt.ylabel('Total Count')\n",
    "plt.subplot(1, 2, 2)\n",
    "plt.pie(df['risk_flag'].value_counts(), labels=['Non-Defaluter','Defaluter'], autopct='%1.2f%%', explode=[0.05, 0.1], shadow=True)\n",
    "plt.title('Risk Flag Percentage')\n",
    "plt.show()"
   ]
  },
  {
   "attachments": {},
   "cell_type": "markdown",
   "metadata": {},
   "source": [
    "our dataset is imbalanced, we may need to handle this problem to make our model good."
   ]
  },
  {
   "attachments": {},
   "cell_type": "markdown",
   "metadata": {},
   "source": [
    "### Visualize Some Cateorical Column"
   ]
  },
  {
   "cell_type": "code",
   "execution_count": 18,
   "metadata": {},
   "outputs": [
    {
     "data": {
      "image/png": "[encoded data removed]",
      "text/plain": [
       "<Figure size 1000x2200 with 3 Axes>"
      ]
     },
     "metadata": {},
     "output_type": "display_data"
    }
   ],
   "source": [
    "fig, axes = plt.subplots(nrows=3, ncols=1, figsize=(10,22), constrained_layout=True)\n",
    "for index, column in enumerate(['marry_status', 'house_ownership', 'car_ownership']):\n",
    "    sns.countplot(data=df, x=column, hue='risk_flag', ax=axes[index])\n",
    "    \n",
    "del fig, axes, index, column"
   ]
  },
  {
   "attachments": {},
   "cell_type": "markdown",
   "metadata": {},
   "source": [
    "Here we can see clearly about our categorical data. Insights we get from this chart are:\n",
    "* Single applicants have a higher numbers of default.\n",
    "* People without cars also have higher default.\n",
    "* People with Rented house dominated our applicants, which also translate into more default."
   ]
  },
  {
   "cell_type": "code",
   "execution_count": 19,
   "metadata": {},
   "outputs": [
    {
     "data": {
      "image/png": "[encoded data removed]",
      "text/plain": [
       "<Figure size 1800x1000 with 1 Axes>"
      ]
     },
     "metadata": {},
     "output_type": "display_data"
    }
   ],
   "source": [
    "plt.figure(figsize=(18,10))\n",
    "ax = sns.countplot(data = df , x=df[\"current_job_yrs\"], hue= \"house_ownership\", palette=\"Set2\")\n",
    "plt.title('Distribution of house ownership status according to current job years')\n",
    "for p in ax.containers:\n",
    "    ax.bar_label(p)"
   ]
  },
  {
   "attachments": {},
   "cell_type": "markdown",
   "metadata": {},
   "source": [
    "Current job years doesn't give us a clear view, because we can not identify any relationship."
   ]
  },
  {
   "attachments": {},
   "cell_type": "markdown",
   "metadata": {},
   "source": [
    "### Numerical Distribution"
   ]
  },
  {
   "cell_type": "code",
   "execution_count": 20,
   "metadata": {},
   "outputs": [
    {
     "data": {
      "image/png": "[encoded data removed]",
      "text/plain": [
       "<Figure size 1500x500 with 2 Axes>"
      ]
     },
     "metadata": {},
     "output_type": "display_data"
    },
    {
     "name": "stdout",
     "output_type": "stream",
     "text": [
      "id Kurtosis: -1.2000000000000004\n",
      "id Skewness: 0.0\n",
      "Columns 'id' Normal Distribution\n"
     ]
    },
    {
     "data": {
      "image/png": "[encoded data removed]",
      "text/plain": [
       "<Figure size 1500x500 with 2 Axes>"
      ]
     },
     "metadata": {},
     "output_type": "display_data"
    },
    {
     "name": "stdout",
     "output_type": "stream",
     "text": [
      "income Kurtosis: -1.1986385403127735\n",
      "income Skewness: 0.005957563400969881\n",
      "Columns 'income' Normal Distribution\n"
     ]
    },
    {
     "data": {
      "image/png": "[encoded data removed]",
      "text/plain": [
       "<Figure size 1500x500 with 2 Axes>"
      ]
     },
     "metadata": {},
     "output_type": "display_data"
    },
    {
     "name": "stdout",
     "output_type": "stream",
     "text": [
      "age Kurtosis: -1.2047686664238493\n",
      "age Skewness: -0.005315595764466954\n",
      "Columns 'age' Normal Distribution\n"
     ]
    },
    {
     "data": {
      "image/png": "[encoded data removed]",
      "text/plain": [
       "<Figure size 1500x500 with 2 Axes>"
      ]
     },
     "metadata": {},
     "output_type": "display_data"
    },
    {
     "name": "stdout",
     "output_type": "stream",
     "text": [
      "experience Kurtosis: -1.194938635806047\n",
      "experience Skewness: -0.012779027346924958\n",
      "Columns 'experience' Normal Distribution\n"
     ]
    },
    {
     "data": {
      "image/png": "[encoded data removed]",
      "text/plain": [
       "<Figure size 1500x500 with 2 Axes>"
      ]
     },
     "metadata": {},
     "output_type": "display_data"
    },
    {
     "name": "stdout",
     "output_type": "stream",
     "text": [
      "current_job_yrs Kurtosis: -0.785973236015097\n",
      "current_job_yrs Skewness: 0.2731459574239138\n",
      "Columns 'current_job_yrs' Normal Distribution\n"
     ]
    },
    {
     "data": {
      "image/png": "[encoded data removed]",
      "text/plain": [
       "<Figure size 1500x500 with 2 Axes>"
      ]
     },
     "metadata": {},
     "output_type": "display_data"
    },
    {
     "name": "stdout",
     "output_type": "stream",
     "text": [
      "current_house_yrs Kurtosis: -1.2749489921203807\n",
      "current_house_yrs Skewness: 0.006786099240688336\n",
      "Columns 'current_house_yrs' Normal Distribution\n"
     ]
    },
    {
     "data": {
      "image/png": "[encoded data removed]",
      "text/plain": [
       "<Figure size 1500x500 with 2 Axes>"
      ]
     },
     "metadata": {},
     "output_type": "display_data"
    },
    {
     "name": "stdout",
     "output_type": "stream",
     "text": [
      "risk_flag Kurtosis: 3.2704208543726505\n",
      "risk_flag Skewness: 2.295734065329557\n",
      "Columns 'risk_flag' Right Highly Skewed\n"
     ]
    }
   ],
   "source": [
    "def dist(df, col):\n",
    "    fig, axes = plt.subplots(ncols = 2, figsize = (15, 5))\n",
    "    \n",
    "    # histogram\n",
    "    sns.histplot(df[col],ax = axes[0], bins=30)\n",
    "    axes[0].set_title(f\"Histogram '{col}'\")\n",
    "    axes[0].axvline(df[col].mean(), color = 'red', linestyle = 'dashed', label = 'mean')\n",
    "    axes[0].axvline(df[col].median(), color = 'green', linestyle = 'dashed', label = 'median')\n",
    "    axes[0].legend()\n",
    "    \n",
    "    # boxplot\n",
    "    sns.boxplot(y=df[col], ax =  axes[1])\n",
    "    axes[1].set_title(f\"Boxplot '{col}'\")\n",
    "    \n",
    "    plt.show()\n",
    "    \n",
    "    # skewness\n",
    "    print(df[col].name + ' Kurtosis: ' + str(df[col].kurt()))\n",
    "    print(df[col].name + ' Skewness: ' + str(df[col].skew()))\n",
    "    if -0.5 <= df[col].skew() <= 0.5:\n",
    "        print(\"Columns '{}' Normal Distribution\".format(col))\n",
    "    elif df[col].skew() > 0.5 and df[col].skew() <= 1 :\n",
    "        print(\"Columns '{}' Right Moderately Skewed\".format(col))\n",
    "    elif df[col].skew() > 1:\n",
    "        print(\"Columns '{}' Right Highly Skewed\".format(col))\n",
    "    elif df[col].skew() < -0.5 and df[col].skew() >= -1 :\n",
    "        print(\"Columns '{}' Left Moderately Skewed\".format(col))\n",
    "    elif df[col].skew() < -1:\n",
    "        print(\"Columns '{}' Left Highly Skewed\".format(col))\n",
    "\n",
    "dnum = df[numeric]\n",
    "\n",
    "for col in dnum.columns:\n",
    "    dist(df[numeric], col)"
   ]
  },
  {
   "attachments": {},
   "cell_type": "markdown",
   "metadata": {},
   "source": [
    "We have many numerical with categorical-like data, but the good news is that we don't need to handle outliers and also our distribution data is already Gaussian."
   ]
  },
  {
   "attachments": {},
   "cell_type": "markdown",
   "metadata": {},
   "source": [
    "### Check Correlation"
   ]
  },
  {
   "cell_type": "code",
   "execution_count": 21,
   "metadata": {},
   "outputs": [
    {
     "name": "stdout",
     "output_type": "stream",
     "text": [
      "interval columns not set, guessing: ['id', 'income', 'age', 'experience', 'current_job_yrs', 'current_house_yrs', 'risk_flag']\n"
     ]
    },
    {
     "data": {
      "text/plain": [
       "risk_flag            1.000000\n",
       "city                 0.175016\n",
       "id                   0.155840\n",
       "state                0.066660\n",
       "experience           0.058546\n",
       "current_job_yrs      0.058443\n",
       "profession           0.057001\n",
       "age                  0.042945\n",
       "car_ownership        0.037596\n",
       "marry_status         0.032944\n",
       "income               0.029650\n",
       "house_ownership      0.016138\n",
       "current_house_yrs    0.002367\n",
       "Name: risk_flag, dtype: float64"
      ]
     },
     "execution_count": 21,
     "metadata": {},
     "output_type": "execute_result"
    }
   ],
   "source": [
    "# We use phik correlation\n",
    "phik_corr = df.phik_matrix().risk_flag\n",
    "phik_corr.sort_values(ascending=False)"
   ]
  },
  {
   "attachments": {},
   "cell_type": "markdown",
   "metadata": {},
   "source": [
    "id and city has a high correlation, but we might need to drop these column since the id column has no use and city has too many unique values"
   ]
  },
  {
   "attachments": {},
   "cell_type": "markdown",
   "metadata": {},
   "source": [
    "## Feature Enginering\n",
    "\n",
    "We want to prepare and modify our data to fit it into our models."
   ]
  },
  {
   "attachments": {},
   "cell_type": "markdown",
   "metadata": {},
   "source": [
    "### Feature Selection\n",
    "\n",
    "* We want to drop id, city, profession, state because it has too many unique value.\n",
    "* We will keep other features because from my personal judgement the rest of the features are also important, to determine whether if a person may be a defaulter or not. \n",
    "* Now we will go ahead to split our data and its columns name to help us in our model training."
   ]
  },
  {
   "cell_type": "code",
   "execution_count": 22,
   "metadata": {},
   "outputs": [],
   "source": [
    "feature = ['income', 'age', 'experience', 'marry_status', 'house_ownership',\n",
    "       'car_ownership', 'current_job_yrs','current_house_yrs']\n",
    "target = ['risk_flag']"
   ]
  },
  {
   "cell_type": "code",
   "execution_count": 23,
   "metadata": {},
   "outputs": [],
   "source": [
    "# Feature and target split\n",
    "X = df[feature]\n",
    "y = df[target]"
   ]
  },
  {
   "cell_type": "code",
   "execution_count": 24,
   "metadata": {},
   "outputs": [
    {
     "name": "stdout",
     "output_type": "stream",
     "text": [
      "Train Size :  (189000, 8)\n",
      "Test Size  :  (63000, 8)\n"
     ]
    }
   ],
   "source": [
    "X_train, X_test, y_train, y_test = train_test_split(X, y, test_size=0.25, stratify=y, random_state=41)\n",
    "\n",
    "print('Train Size : ', X_train.shape)\n",
    "print('Test Size  : ', X_test.shape)"
   ]
  },
  {
   "attachments": {},
   "cell_type": "markdown",
   "metadata": {},
   "source": [
    "Now we split into 4 data, also we use stratify to make sure the split between train set and test set each have equal propotion as the original y."
   ]
  },
  {
   "cell_type": "code",
   "execution_count": 25,
   "metadata": {},
   "outputs": [
    {
     "name": "stdout",
     "output_type": "stream",
     "text": [
      "Number of numerical columns: 2\n",
      "Numerical columns: ['income', 'age']\n",
      "Number of categorical columns: 6\n",
      "Categorical columns: ['experience', 'marry_status', 'house_ownership', 'car_ownership', 'current_job_yrs', 'current_house_yrs']\n"
     ]
    }
   ],
   "source": [
    "num_cols = X[['income', 'age']].columns.tolist()\n",
    "cat_cols = X[['experience', 'marry_status', 'house_ownership',\n",
    "       'car_ownership', 'current_job_yrs','current_house_yrs']].columns.tolist()\n",
    "\n",
    "print(f'Number of numerical columns: {len(num_cols)}')\n",
    "print(f'Numerical columns: {num_cols}')\n",
    "print(f'Number of categorical columns: {len(cat_cols)}')\n",
    "print(f'Categorical columns: {cat_cols}')\n",
    "\n",
    "\n",
    "X_train_num = X_train[num_cols]\n",
    "X_train_cat = X_train[cat_cols]\n",
    "X_test_num = X_test[num_cols]\n",
    "X_test_cat = X_test[cat_cols]"
   ]
  },
  {
   "attachments": {},
   "cell_type": "markdown",
   "metadata": {},
   "source": [
    "we have splited our data."
   ]
  },
  {
   "attachments": {},
   "cell_type": "markdown",
   "metadata": {},
   "source": [
    "## Pipeline\n",
    "\n",
    "We will use pipeline in our preprocessing. This steps will include scaling our numerical data and encode our categorical data. We use StandardScaler because our data have normal distribution, and we use Ordinal encoder to encode our data, since we have some ordered categorical data."
   ]
  },
  {
   "cell_type": "code",
   "execution_count": 26,
   "metadata": {},
   "outputs": [
    {
     "data": {
      "text/plain": [
       "array([[ 0.37127166,  0.70795189],\n",
       "       [ 1.54177429, -0.34709488],\n",
       "       [ 1.05928296, -1.6952102 ],\n",
       "       ...,\n",
       "       [-1.69068081,  0.64933818],\n",
       "       [-1.4105972 , -0.58154972],\n",
       "       [ 1.55034262, -0.87461827]])"
      ]
     },
     "execution_count": 26,
     "metadata": {},
     "output_type": "execute_result"
    }
   ],
   "source": [
    "num_pipeline = Pipeline([\n",
    "        ('scaler', StandardScaler())\n",
    "    ])\n",
    "\n",
    "num_tr = num_pipeline.fit_transform(pd.DataFrame(X_train[num_cols]))\n",
    "num_tr"
   ]
  },
  {
   "cell_type": "code",
   "execution_count": 27,
   "metadata": {},
   "outputs": [
    {
     "data": {
      "text/plain": [
       "array([[14.,  0.,  2.,  0., 10.,  0.],\n",
       "       [ 0.,  1.,  2.,  1.,  0.,  0.],\n",
       "       [ 6.,  0.,  2.,  1.,  4.,  1.],\n",
       "       ...,\n",
       "       [17.,  1.,  2.,  1., 14.,  1.],\n",
       "       [11.,  0.,  2.,  0.,  3.,  0.],\n",
       "       [10.,  1.,  2.,  0., 10.,  3.]])"
      ]
     },
     "execution_count": 27,
     "metadata": {},
     "output_type": "execute_result"
    }
   ],
   "source": [
    "cat_pipeline = Pipeline([\n",
    "        ('ordinal_enc', OrdinalEncoder())\n",
    "    ])\n",
    "\n",
    "cat_tr = cat_pipeline.fit_transform(X_train[cat_cols])\n",
    "cat_tr"
   ]
  },
  {
   "cell_type": "code",
   "execution_count": 28,
   "metadata": {},
   "outputs": [
    {
     "data": {
      "text/plain": [
       "array([[ 0.37127166,  0.70795189, 14.        , ...,  0.        ,\n",
       "        10.        ,  0.        ],\n",
       "       [ 1.54177429, -0.34709488,  0.        , ...,  1.        ,\n",
       "         0.        ,  0.        ],\n",
       "       [ 1.05928296, -1.6952102 ,  6.        , ...,  1.        ,\n",
       "         4.        ,  1.        ],\n",
       "       ...,\n",
       "       [-1.69068081,  0.64933818, 17.        , ...,  1.        ,\n",
       "        14.        ,  1.        ],\n",
       "       [-1.4105972 , -0.58154972, 11.        , ...,  0.        ,\n",
       "         3.        ,  0.        ],\n",
       "       [ 1.55034262, -0.87461827, 10.        , ...,  0.        ,\n",
       "        10.        ,  3.        ]])"
      ]
     },
     "execution_count": 28,
     "metadata": {},
     "output_type": "execute_result"
    }
   ],
   "source": [
    "# Preprocessing pipeline\n",
    "preprocessing = ColumnTransformer([\n",
    "        (\"num\", num_pipeline, num_cols),\n",
    "        (\"cat_ord\", cat_pipeline, cat_cols),\n",
    "    ])\n",
    "\n",
    "train_tr = preprocessing.fit_transform(X_train)\n",
    "train_tr"
   ]
  },
  {
   "cell_type": "code",
   "execution_count": 29,
   "metadata": {},
   "outputs": [
    {
     "data": {
      "text/html": [
       "<div>\n",
       "<style scoped>\n",
       "    .dataframe tbody tr th:only-of-type {\n",
       "        vertical-align: middle;\n",
       "    }\n",
       "\n",
       "    .dataframe tbody tr th {\n",
       "        vertical-align: top;\n",
       "    }\n",
       "\n",
       "    .dataframe thead th {\n",
       "        text-align: right;\n",
       "    }\n",
       "</style>\n",
       "<table border=\"1\" class=\"dataframe\">\n",
       "  <thead>\n",
       "    <tr style=\"text-align: right;\">\n",
       "      <th></th>\n",
       "      <th>income</th>\n",
       "      <th>age</th>\n",
       "      <th>experience</th>\n",
       "      <th>marry_status</th>\n",
       "      <th>house_ownership</th>\n",
       "      <th>car_ownership</th>\n",
       "      <th>current_job_yrs</th>\n",
       "      <th>current_house_yrs</th>\n",
       "    </tr>\n",
       "  </thead>\n",
       "  <tbody>\n",
       "    <tr>\n",
       "      <th>0</th>\n",
       "      <td>0.371272</td>\n",
       "      <td>0.707952</td>\n",
       "      <td>14.0</td>\n",
       "      <td>0.0</td>\n",
       "      <td>2.0</td>\n",
       "      <td>0.0</td>\n",
       "      <td>10.0</td>\n",
       "      <td>0.0</td>\n",
       "    </tr>\n",
       "    <tr>\n",
       "      <th>1</th>\n",
       "      <td>1.541774</td>\n",
       "      <td>-0.347095</td>\n",
       "      <td>0.0</td>\n",
       "      <td>1.0</td>\n",
       "      <td>2.0</td>\n",
       "      <td>1.0</td>\n",
       "      <td>0.0</td>\n",
       "      <td>0.0</td>\n",
       "    </tr>\n",
       "    <tr>\n",
       "      <th>2</th>\n",
       "      <td>1.059283</td>\n",
       "      <td>-1.695210</td>\n",
       "      <td>6.0</td>\n",
       "      <td>0.0</td>\n",
       "      <td>2.0</td>\n",
       "      <td>1.0</td>\n",
       "      <td>4.0</td>\n",
       "      <td>1.0</td>\n",
       "    </tr>\n",
       "    <tr>\n",
       "      <th>3</th>\n",
       "      <td>0.997764</td>\n",
       "      <td>-1.402142</td>\n",
       "      <td>18.0</td>\n",
       "      <td>1.0</td>\n",
       "      <td>2.0</td>\n",
       "      <td>0.0</td>\n",
       "      <td>3.0</td>\n",
       "      <td>3.0</td>\n",
       "    </tr>\n",
       "    <tr>\n",
       "      <th>4</th>\n",
       "      <td>0.371774</td>\n",
       "      <td>-1.460755</td>\n",
       "      <td>20.0</td>\n",
       "      <td>1.0</td>\n",
       "      <td>2.0</td>\n",
       "      <td>0.0</td>\n",
       "      <td>5.0</td>\n",
       "      <td>2.0</td>\n",
       "    </tr>\n",
       "    <tr>\n",
       "      <th>...</th>\n",
       "      <td>...</td>\n",
       "      <td>...</td>\n",
       "      <td>...</td>\n",
       "      <td>...</td>\n",
       "      <td>...</td>\n",
       "      <td>...</td>\n",
       "      <td>...</td>\n",
       "      <td>...</td>\n",
       "    </tr>\n",
       "    <tr>\n",
       "      <th>188995</th>\n",
       "      <td>0.117891</td>\n",
       "      <td>1.704385</td>\n",
       "      <td>4.0</td>\n",
       "      <td>1.0</td>\n",
       "      <td>2.0</td>\n",
       "      <td>1.0</td>\n",
       "      <td>4.0</td>\n",
       "      <td>3.0</td>\n",
       "    </tr>\n",
       "    <tr>\n",
       "      <th>188996</th>\n",
       "      <td>-1.732591</td>\n",
       "      <td>-1.577983</td>\n",
       "      <td>1.0</td>\n",
       "      <td>1.0</td>\n",
       "      <td>2.0</td>\n",
       "      <td>1.0</td>\n",
       "      <td>1.0</td>\n",
       "      <td>4.0</td>\n",
       "    </tr>\n",
       "    <tr>\n",
       "      <th>188997</th>\n",
       "      <td>-1.690681</td>\n",
       "      <td>0.649338</td>\n",
       "      <td>17.0</td>\n",
       "      <td>1.0</td>\n",
       "      <td>2.0</td>\n",
       "      <td>1.0</td>\n",
       "      <td>14.0</td>\n",
       "      <td>1.0</td>\n",
       "    </tr>\n",
       "    <tr>\n",
       "      <th>188998</th>\n",
       "      <td>-1.410597</td>\n",
       "      <td>-0.581550</td>\n",
       "      <td>11.0</td>\n",
       "      <td>0.0</td>\n",
       "      <td>2.0</td>\n",
       "      <td>0.0</td>\n",
       "      <td>3.0</td>\n",
       "      <td>0.0</td>\n",
       "    </tr>\n",
       "    <tr>\n",
       "      <th>188999</th>\n",
       "      <td>1.550343</td>\n",
       "      <td>-0.874618</td>\n",
       "      <td>10.0</td>\n",
       "      <td>1.0</td>\n",
       "      <td>2.0</td>\n",
       "      <td>0.0</td>\n",
       "      <td>10.0</td>\n",
       "      <td>3.0</td>\n",
       "    </tr>\n",
       "  </tbody>\n",
       "</table>\n",
       "<p>189000 rows × 8 columns</p>\n",
       "</div>"
      ],
      "text/plain": [
       "          income       age  experience  marry_status  house_ownership  \\\n",
       "0       0.371272  0.707952        14.0           0.0              2.0   \n",
       "1       1.541774 -0.347095         0.0           1.0              2.0   \n",
       "2       1.059283 -1.695210         6.0           0.0              2.0   \n",
       "3       0.997764 -1.402142        18.0           1.0              2.0   \n",
       "4       0.371774 -1.460755        20.0           1.0              2.0   \n",
       "...          ...       ...         ...           ...              ...   \n",
       "188995  0.117891  1.704385         4.0           1.0              2.0   \n",
       "188996 -1.732591 -1.577983         1.0           1.0              2.0   \n",
       "188997 -1.690681  0.649338        17.0           1.0              2.0   \n",
       "188998 -1.410597 -0.581550        11.0           0.0              2.0   \n",
       "188999  1.550343 -0.874618        10.0           1.0              2.0   \n",
       "\n",
       "        car_ownership  current_job_yrs  current_house_yrs  \n",
       "0                 0.0             10.0                0.0  \n",
       "1                 1.0              0.0                0.0  \n",
       "2                 1.0              4.0                1.0  \n",
       "3                 0.0              3.0                3.0  \n",
       "4                 0.0              5.0                2.0  \n",
       "...               ...              ...                ...  \n",
       "188995            1.0              4.0                3.0  \n",
       "188996            1.0              1.0                4.0  \n",
       "188997            1.0             14.0                1.0  \n",
       "188998            0.0              3.0                0.0  \n",
       "188999            0.0             10.0                3.0  \n",
       "\n",
       "[189000 rows x 8 columns]"
      ]
     },
     "execution_count": 29,
     "metadata": {},
     "output_type": "execute_result"
    }
   ],
   "source": [
    "# convert array into dataframe\n",
    "train_tr_df = pd.DataFrame(train_tr, columns=feature)\n",
    "train_tr_df"
   ]
  },
  {
   "attachments": {},
   "cell_type": "markdown",
   "metadata": {},
   "source": [
    "We also use pipeline on our test set."
   ]
  },
  {
   "cell_type": "code",
   "execution_count": 30,
   "metadata": {},
   "outputs": [
    {
     "data": {
      "text/plain": [
       "array([[ 0.60903459,  1.00102044, 17.        , ...,  0.        ,\n",
       "         5.        ,  0.        ],\n",
       "       [-0.95097351, -0.4643223 ,  2.        , ...,  0.        ,\n",
       "         2.        ,  0.        ],\n",
       "       [ 1.50106309,  0.06320109, 20.        , ...,  0.        ,\n",
       "         7.        ,  0.        ],\n",
       "       ...,\n",
       "       [ 0.6410315 , -0.58154972, 19.        , ...,  1.        ,\n",
       "         9.        ,  2.        ],\n",
       "       [-0.69153918,  0.53211076, 18.        , ...,  0.        ,\n",
       "         6.        ,  0.        ],\n",
       "       [ 0.15731821, -0.64016343,  1.        , ...,  0.        ,\n",
       "         1.        ,  3.        ]])"
      ]
     },
     "execution_count": 30,
     "metadata": {},
     "output_type": "execute_result"
    }
   ],
   "source": [
    "test_tr = preprocessing.transform(X_test)\n",
    "test_tr"
   ]
  },
  {
   "cell_type": "code",
   "execution_count": 31,
   "metadata": {},
   "outputs": [
    {
     "data": {
      "text/html": [
       "<div>\n",
       "<style scoped>\n",
       "    .dataframe tbody tr th:only-of-type {\n",
       "        vertical-align: middle;\n",
       "    }\n",
       "\n",
       "    .dataframe tbody tr th {\n",
       "        vertical-align: top;\n",
       "    }\n",
       "\n",
       "    .dataframe thead th {\n",
       "        text-align: right;\n",
       "    }\n",
       "</style>\n",
       "<table border=\"1\" class=\"dataframe\">\n",
       "  <thead>\n",
       "    <tr style=\"text-align: right;\">\n",
       "      <th></th>\n",
       "      <th>income</th>\n",
       "      <th>age</th>\n",
       "      <th>experience</th>\n",
       "      <th>marry_status</th>\n",
       "      <th>house_ownership</th>\n",
       "      <th>car_ownership</th>\n",
       "      <th>current_job_yrs</th>\n",
       "      <th>current_house_yrs</th>\n",
       "    </tr>\n",
       "  </thead>\n",
       "  <tbody>\n",
       "    <tr>\n",
       "      <th>0</th>\n",
       "      <td>0.609035</td>\n",
       "      <td>1.001020</td>\n",
       "      <td>17.0</td>\n",
       "      <td>1.0</td>\n",
       "      <td>2.0</td>\n",
       "      <td>0.0</td>\n",
       "      <td>5.0</td>\n",
       "      <td>0.0</td>\n",
       "    </tr>\n",
       "    <tr>\n",
       "      <th>1</th>\n",
       "      <td>-0.950974</td>\n",
       "      <td>-0.464322</td>\n",
       "      <td>2.0</td>\n",
       "      <td>1.0</td>\n",
       "      <td>2.0</td>\n",
       "      <td>0.0</td>\n",
       "      <td>2.0</td>\n",
       "      <td>0.0</td>\n",
       "    </tr>\n",
       "    <tr>\n",
       "      <th>2</th>\n",
       "      <td>1.501063</td>\n",
       "      <td>0.063201</td>\n",
       "      <td>20.0</td>\n",
       "      <td>0.0</td>\n",
       "      <td>2.0</td>\n",
       "      <td>0.0</td>\n",
       "      <td>7.0</td>\n",
       "      <td>0.0</td>\n",
       "    </tr>\n",
       "    <tr>\n",
       "      <th>3</th>\n",
       "      <td>-1.728713</td>\n",
       "      <td>-1.402142</td>\n",
       "      <td>14.0</td>\n",
       "      <td>1.0</td>\n",
       "      <td>2.0</td>\n",
       "      <td>1.0</td>\n",
       "      <td>5.0</td>\n",
       "      <td>0.0</td>\n",
       "    </tr>\n",
       "    <tr>\n",
       "      <th>4</th>\n",
       "      <td>0.664247</td>\n",
       "      <td>0.297656</td>\n",
       "      <td>5.0</td>\n",
       "      <td>1.0</td>\n",
       "      <td>1.0</td>\n",
       "      <td>0.0</td>\n",
       "      <td>3.0</td>\n",
       "      <td>0.0</td>\n",
       "    </tr>\n",
       "    <tr>\n",
       "      <th>...</th>\n",
       "      <td>...</td>\n",
       "      <td>...</td>\n",
       "      <td>...</td>\n",
       "      <td>...</td>\n",
       "      <td>...</td>\n",
       "      <td>...</td>\n",
       "      <td>...</td>\n",
       "      <td>...</td>\n",
       "    </tr>\n",
       "    <tr>\n",
       "      <th>62995</th>\n",
       "      <td>1.257941</td>\n",
       "      <td>1.001020</td>\n",
       "      <td>18.0</td>\n",
       "      <td>1.0</td>\n",
       "      <td>2.0</td>\n",
       "      <td>1.0</td>\n",
       "      <td>11.0</td>\n",
       "      <td>4.0</td>\n",
       "    </tr>\n",
       "    <tr>\n",
       "      <th>62996</th>\n",
       "      <td>1.390420</td>\n",
       "      <td>1.469930</td>\n",
       "      <td>12.0</td>\n",
       "      <td>1.0</td>\n",
       "      <td>2.0</td>\n",
       "      <td>0.0</td>\n",
       "      <td>12.0</td>\n",
       "      <td>3.0</td>\n",
       "    </tr>\n",
       "    <tr>\n",
       "      <th>62997</th>\n",
       "      <td>0.641031</td>\n",
       "      <td>-0.581550</td>\n",
       "      <td>19.0</td>\n",
       "      <td>1.0</td>\n",
       "      <td>2.0</td>\n",
       "      <td>1.0</td>\n",
       "      <td>9.0</td>\n",
       "      <td>2.0</td>\n",
       "    </tr>\n",
       "    <tr>\n",
       "      <th>62998</th>\n",
       "      <td>-0.691539</td>\n",
       "      <td>0.532111</td>\n",
       "      <td>18.0</td>\n",
       "      <td>1.0</td>\n",
       "      <td>2.0</td>\n",
       "      <td>0.0</td>\n",
       "      <td>6.0</td>\n",
       "      <td>0.0</td>\n",
       "    </tr>\n",
       "    <tr>\n",
       "      <th>62999</th>\n",
       "      <td>0.157318</td>\n",
       "      <td>-0.640163</td>\n",
       "      <td>1.0</td>\n",
       "      <td>1.0</td>\n",
       "      <td>2.0</td>\n",
       "      <td>0.0</td>\n",
       "      <td>1.0</td>\n",
       "      <td>3.0</td>\n",
       "    </tr>\n",
       "  </tbody>\n",
       "</table>\n",
       "<p>63000 rows × 8 columns</p>\n",
       "</div>"
      ],
      "text/plain": [
       "         income       age  experience  marry_status  house_ownership  \\\n",
       "0      0.609035  1.001020        17.0           1.0              2.0   \n",
       "1     -0.950974 -0.464322         2.0           1.0              2.0   \n",
       "2      1.501063  0.063201        20.0           0.0              2.0   \n",
       "3     -1.728713 -1.402142        14.0           1.0              2.0   \n",
       "4      0.664247  0.297656         5.0           1.0              1.0   \n",
       "...         ...       ...         ...           ...              ...   \n",
       "62995  1.257941  1.001020        18.0           1.0              2.0   \n",
       "62996  1.390420  1.469930        12.0           1.0              2.0   \n",
       "62997  0.641031 -0.581550        19.0           1.0              2.0   \n",
       "62998 -0.691539  0.532111        18.0           1.0              2.0   \n",
       "62999  0.157318 -0.640163         1.0           1.0              2.0   \n",
       "\n",
       "       car_ownership  current_job_yrs  current_house_yrs  \n",
       "0                0.0              5.0                0.0  \n",
       "1                0.0              2.0                0.0  \n",
       "2                0.0              7.0                0.0  \n",
       "3                1.0              5.0                0.0  \n",
       "4                0.0              3.0                0.0  \n",
       "...              ...              ...                ...  \n",
       "62995            1.0             11.0                4.0  \n",
       "62996            0.0             12.0                3.0  \n",
       "62997            1.0              9.0                2.0  \n",
       "62998            0.0              6.0                0.0  \n",
       "62999            0.0              1.0                3.0  \n",
       "\n",
       "[63000 rows x 8 columns]"
      ]
     },
     "execution_count": 31,
     "metadata": {},
     "output_type": "execute_result"
    }
   ],
   "source": [
    "# convert array into dataframe\n",
    "test_tr_df = pd.DataFrame(test_tr, columns=feature)\n",
    "test_tr_df"
   ]
  },
  {
   "attachments": {},
   "cell_type": "markdown",
   "metadata": {},
   "source": [
    "here we have our train and test set ready for training."
   ]
  },
  {
   "attachments": {},
   "cell_type": "markdown",
   "metadata": {},
   "source": [
    "### Checking VIF\n",
    "\n",
    "Now we have a encoded categorical data frame to numerical, we can calculate the VIF(Variance Inflation Factor), which is a measure if a column may contains the same information with another column.\n",
    "\n",
    "Here we don't use a  encoded data because it may not be good to use."
   ]
  },
  {
   "cell_type": "code",
   "execution_count": 32,
   "metadata": {},
   "outputs": [],
   "source": [
    "def calc_vif(X):\n",
    "\n",
    "    # Calculating VIF\n",
    "    vif = pd.DataFrame()\n",
    "    vif[\"variables\"] = X.columns\n",
    "    vif[\"VIF\"] = [variance_inflation_factor(X.values, i) for i in range(X.shape[1])]\n",
    "\n",
    "    return(vif)"
   ]
  },
  {
   "cell_type": "code",
   "execution_count": 33,
   "metadata": {},
   "outputs": [
    {
     "data": {
      "text/html": [
       "<div>\n",
       "<style scoped>\n",
       "    .dataframe tbody tr th:only-of-type {\n",
       "        vertical-align: middle;\n",
       "    }\n",
       "\n",
       "    .dataframe tbody tr th {\n",
       "        vertical-align: top;\n",
       "    }\n",
       "\n",
       "    .dataframe thead th {\n",
       "        text-align: right;\n",
       "    }\n",
       "</style>\n",
       "<table border=\"1\" class=\"dataframe\">\n",
       "  <thead>\n",
       "    <tr style=\"text-align: right;\">\n",
       "      <th></th>\n",
       "      <th>variables</th>\n",
       "      <th>VIF</th>\n",
       "    </tr>\n",
       "  </thead>\n",
       "  <tbody>\n",
       "    <tr>\n",
       "      <th>0</th>\n",
       "      <td>income</td>\n",
       "      <td>1.000001</td>\n",
       "    </tr>\n",
       "    <tr>\n",
       "      <th>1</th>\n",
       "      <td>age</td>\n",
       "      <td>1.000001</td>\n",
       "    </tr>\n",
       "  </tbody>\n",
       "</table>\n",
       "</div>"
      ],
      "text/plain": [
       "  variables       VIF\n",
       "0    income  1.000001\n",
       "1       age  1.000001"
      ]
     },
     "execution_count": 33,
     "metadata": {},
     "output_type": "execute_result"
    }
   ],
   "source": [
    "calc_vif(train_tr_df[['income', 'age']])"
   ]
  },
  {
   "attachments": {},
   "cell_type": "markdown",
   "metadata": {},
   "source": [
    "We have a low vif number, which is good. Now onto the next step."
   ]
  },
  {
   "attachments": {},
   "cell_type": "markdown",
   "metadata": {},
   "source": [
    "### Handling Imbalanced Target\n",
    "\n",
    "we do this by oversampling the minority class, the models will be able to detect better and predict the minority class."
   ]
  },
  {
   "cell_type": "code",
   "execution_count": 34,
   "metadata": {},
   "outputs": [
    {
     "data": {
      "text/plain": [
       "risk_flag\n",
       "0            165753\n",
       "1             23247\n",
       "dtype: int64"
      ]
     },
     "execution_count": 34,
     "metadata": {},
     "output_type": "execute_result"
    }
   ],
   "source": [
    "y_train.value_counts()"
   ]
  },
  {
   "attachments": {},
   "cell_type": "markdown",
   "metadata": {},
   "source": [
    "Here our target data is imbalanced."
   ]
  },
  {
   "cell_type": "code",
   "execution_count": 35,
   "metadata": {},
   "outputs": [],
   "source": [
    "over = SMOTE(random_state=21, sampling_strategy='minority')\n",
    "train_tr_df, y_train_over = over.fit_resample(train_tr_df,y_train)"
   ]
  },
  {
   "cell_type": "code",
   "execution_count": 36,
   "metadata": {},
   "outputs": [
    {
     "data": {
      "text/plain": [
       "risk_flag\n",
       "0            165753\n",
       "1            165753\n",
       "dtype: int64"
      ]
     },
     "execution_count": 36,
     "metadata": {},
     "output_type": "execute_result"
    }
   ],
   "source": [
    "y_train_over.value_counts()"
   ]
  },
  {
   "attachments": {},
   "cell_type": "markdown",
   "metadata": {},
   "source": [
    "* Due to the use of synthetic data, we cannot evaluate the models using accuracy. We have duplicated the data, thus using accuracy would be misleading to evaluate the model.\n",
    "\n",
    "* We will use the confusion matrix, and using recall score"
   ]
  },
  {
   "attachments": {},
   "cell_type": "markdown",
   "metadata": {},
   "source": [
    "## Model Definition\n",
    "We will define our base model here, after that we will do cross validation to choose the best model for our case."
   ]
  },
  {
   "cell_type": "code",
   "execution_count": 37,
   "metadata": {},
   "outputs": [],
   "source": [
    "#Defining Decision Tree and assigning to a variable\n",
    "dt = DecisionTreeClassifier(random_state=7)\n",
    "#Defining Random Forest and assigning to a variable\n",
    "rf = RandomForestClassifier(random_state=7)\n",
    "#Defining Gaussian Naive Bayes and assigning to a variable\n",
    "nb = GaussianNB()\n",
    "#Defining boosting Classifier and assigning to a variable\n",
    "xgb = XGBClassifier(random_state=7)"
   ]
  },
  {
   "attachments": {},
   "cell_type": "markdown",
   "metadata": {},
   "source": [
    "## Cross Validation\n",
    "We use cross-validation to evaluate our models which is a way to check how well our models generalize to a new unseen data.\n",
    "\n",
    "We also use `StratifiedKFold ` because our data is imbalanced. Using this variation can ensure that the target variable distribution is approximately the same across all the folds of the cross-validation. Also after using SMOTE, adding `StratifiedKFold ` may help to ensure that the minority class is represented in each fold of the cross-validation process, and to prevent overfitting due to oversampling."
   ]
  },
  {
   "cell_type": "code",
   "execution_count": 38,
   "metadata": {},
   "outputs": [
    {
     "name": "stdout",
     "output_type": "stream",
     "text": [
      "dt_model\n",
      "recall - All - Cross Validation  :  [0.94930408 0.95169318 0.95037194]\n",
      "recall - Mean - Cross Validation :  0.9504564019957407\n",
      "recall - Std - Cross Validation  :  0.0009771716521679037\n",
      "recall - Range of Test-Set       :  0.9494792303435727 - 0.9514335736479086\n",
      "--------------------------------------------------\n",
      "rf_model\n",
      "recall - All - Cross Validation  :  [0.96919513 0.96999149 0.97082406]\n",
      "recall - Mean - Cross Validation :  0.9700035595132518\n",
      "recall - Std - Cross Validation  :  0.0006650625342296322\n",
      "recall - Range of Test-Set       :  0.9693384969790222 - 0.9706686220474814\n",
      "--------------------------------------------------\n",
      "nb_model\n",
      "recall - All - Cross Validation  :  [0.81486308 0.81424771 0.81406671]\n",
      "recall - Mean - Cross Validation :  0.8143924996832635\n",
      "recall - Std - Cross Validation  :  0.000340855294126211\n",
      "recall - Range of Test-Set       :  0.8140516443891374 - 0.8147333549773897\n",
      "--------------------------------------------------\n",
      "xgb_model\n",
      "recall - All - Cross Validation  :  [0.89466254 0.89001104 0.88787533]\n",
      "recall - Mean - Cross Validation :  0.8908496377139478\n",
      "recall - Std - Cross Validation  :  0.0028336055065190653\n",
      "recall - Range of Test-Set       :  0.8880160322074288 - 0.8936832432204668\n",
      "--------------------------------------------------\n",
      "best model: rf_model\n",
      "cross-val mean: 0.9700035595132518\n"
     ]
    }
   ],
   "source": [
    "# Define Skfold using StratifiedKFold\n",
    "skfold=StratifiedKFold(n_splits=3, random_state=7, shuffle=True)\n",
    "\n",
    "# checking cross validation score\n",
    "cv_dt_model = cross_val_score(dt, train_tr_df, y_train_over, cv=skfold, scoring=\"recall\")\n",
    "cv_rf_model = cross_val_score(rf, train_tr_df, y_train_over, cv=skfold, scoring=\"recall\")\n",
    "cv_nb_model = cross_val_score(nb, train_tr_df, y_train_over, cv=skfold, scoring=\"recall\")\n",
    "cv_xgb_model = cross_val_score(xgb, train_tr_df, y_train_over, cv=skfold, scoring=\"recall\")\n",
    "name_model = []\n",
    "cv_scores=0\n",
    "for cv,name in zip([cv_dt_model,cv_rf_model,cv_nb_model,cv_xgb_model],['dt_model','rf_model','nb_model','xgb_model']):\n",
    "    print(name)\n",
    "    print('recall - All - Cross Validation  : ', cv)\n",
    "    print('recall - Mean - Cross Validation : ', cv.mean())\n",
    "    print('recall - Std - Cross Validation  : ', cv.std())\n",
    "    print('recall - Range of Test-Set       : ', (cv.mean()-cv.std()) , '-', (cv.mean()+cv.std()))\n",
    "    print('-'*50)\n",
    "    if cv.mean()>cv_scores:\n",
    "        cv_scores = cv.mean()\n",
    "        name_model = name\n",
    "    else:\n",
    "        pass\n",
    "print('best model:', name_model)\n",
    "print('cross-val mean:', cv_scores)"
   ]
  },
  {
   "attachments": {},
   "cell_type": "markdown",
   "metadata": {},
   "source": [
    "We see that our Random Forest is the best model. Now we want to evaluate the baseline model of random forest."
   ]
  },
  {
   "attachments": {},
   "cell_type": "markdown",
   "metadata": {},
   "source": [
    "## Model Training\n",
    "\n",
    "Now we will start our data training and also calculating the computational time of our data training "
   ]
  },
  {
   "cell_type": "code",
   "execution_count": 39,
   "metadata": {},
   "outputs": [
    {
     "name": "stdout",
     "output_type": "stream",
     "text": [
      "Training Duration : 41.93245720863342 sec\n"
     ]
    }
   ],
   "source": [
    "start = time.time()\n",
    "rf.fit(train_tr_df, y_train_over)\n",
    "end = time.time()\n",
    "\n",
    "print(f'Training Duration : {end-start} sec')"
   ]
  },
  {
   "attachments": {},
   "cell_type": "markdown",
   "metadata": {},
   "source": [
    "The training time is quite fast considering the size of our data."
   ]
  },
  {
   "attachments": {},
   "cell_type": "markdown",
   "metadata": {},
   "source": [
    "## Model Evaluation\n",
    "In this section we'll evaluate our trained model and finding out the scores from our model in predicting the default in our loan product.\n",
    "\n",
    "First we're going to predict our trained model to predict the train and tests data :"
   ]
  },
  {
   "cell_type": "code",
   "execution_count": 40,
   "metadata": {},
   "outputs": [],
   "source": [
    "rf_pred_train = rf.predict(train_tr_df)\n",
    "rf_pred_test = rf.predict(test_tr_df)"
   ]
  },
  {
   "attachments": {},
   "cell_type": "markdown",
   "metadata": {},
   "source": [
    "We use classification report in order to evaluate our model in predicting our train and test data. This is because it can provide several evaluation metrics that can help to understand the model's performance.\n"
   ]
  },
  {
   "cell_type": "code",
   "execution_count": 41,
   "metadata": {},
   "outputs": [
    {
     "name": "stdout",
     "output_type": "stream",
     "text": [
      "======================================== TRAINING ========================================\n",
      "                precision    recall  f1-score   support\n",
      "\n",
      "Non-Defaulters       1.00      0.92      0.96    165753\n",
      "    Defaulters       0.92      1.00      0.96    165753\n",
      "\n",
      "      accuracy                           0.96    331506\n",
      "     macro avg       0.96      0.96      0.96    331506\n",
      "  weighted avg       0.96      0.96      0.96    331506\n",
      "\n",
      "======================================== TEST ========================================\n",
      "                precision    recall  f1-score   support\n",
      "\n",
      "Non-Defaulters       0.97      0.90      0.93     55251\n",
      "    Defaulters       0.52      0.80      0.63      7749\n",
      "\n",
      "      accuracy                           0.89     63000\n",
      "     macro avg       0.75      0.85      0.78     63000\n",
      "  weighted avg       0.92      0.89      0.90     63000\n",
      "\n"
     ]
    }
   ],
   "source": [
    "target_names = ['Non-Defaulters', 'Defaulters']\n",
    "print(\"==\"*20,\"TRAINING\",\"==\"*20)\n",
    "print(classification_report(y_train_over,rf_pred_train,zero_division=0, target_names = target_names))\n",
    "print(\"==\"*20,\"TEST\",\"==\"*20)\n",
    "print(classification_report(y_test,rf_pred_test,zero_division=0, target_names = target_names))"
   ]
  },
  {
   "attachments": {},
   "cell_type": "markdown",
   "metadata": {},
   "source": [
    "From this result we want to set our false and true class.\n",
    "So after finding our the definitions, we are going to focus on the default class because it's our main objective in predicting the risky people or defaulters. If we put it in the concepts of True Positive, True Negative, False Positive, and False Negative, we could intepret as follows :\n",
    "\n",
    "Positive Class : Default\n",
    "\n",
    "Negative Class : Not Default\n",
    "\n",
    "* True Positive : the classifier predicts default, in reality it is default\n",
    "\n",
    "* True Negative : the classifier predicts not default, in reality it is no default\n",
    "\n",
    "* False Positive : the classifier predicts default, in reality it is not defaulted\n",
    "\n",
    "* False Negative : the classifier predicts not default, in reality it is defaulted\n",
    "\n",
    "From the above concept, we want to focus on reducing on our False Negatives, since our False negative states the classifier predicts not default, in reality it is defaulted, so we're going to focus on the recall in our default class. We don't want our classifier to predict a people not default meanwhile in the reality they are (default).\n",
    "\n",
    "From our intial model we can say that:\n",
    "* We see that our model is overfitting, with the train data score is higher by some distance.\n",
    "* The overfitting in our result may be caused by it failure to generalize a new data.\n",
    "* Our test set recall result is 0.80 which is a decent score from my assumption, because the model will predicted 80% of the identified default correctly.\n",
    "\n",
    "Now we want to look at test Confusion matrix, which may help us to understand the total of false negative and true negative."
   ]
  },
  {
   "cell_type": "code",
   "execution_count": 42,
   "metadata": {},
   "outputs": [
    {
     "data": {
      "image/png": "[encoded data removed]",
      "text/plain": [
       "<Figure size 640x480 with 2 Axes>"
      ]
     },
     "metadata": {},
     "output_type": "display_data"
    }
   ],
   "source": [
    "# Display Random Forest Confusion matrix - Test\n",
    "\n",
    "cm_rf_test = confusion_matrix(y_test, rf_pred_test, labels=rf.classes_)\n",
    "disp_rf_test = ConfusionMatrixDisplay(confusion_matrix=cm_rf_test,display_labels=rf.classes_)\n",
    "\n",
    "disp_rf_test.plot()\n",
    "plt.title('Random Forest Confusion matrix - Test')\n",
    "plt.show()"
   ]
  },
  {
   "attachments": {},
   "cell_type": "markdown",
   "metadata": {},
   "source": [
    "* From Confussion matrix of test predict, we see that with our model we predict 1518 False Negative\n",
    "* From Confussion matrix of test predict, we see that with our model we predict 6231 True Positive\n",
    "\n",
    "Here we can say that almost 80% percent of our data that should be predictied positive were mis-predicted as False negative, which is a good result."
   ]
  },
  {
   "attachments": {},
   "cell_type": "markdown",
   "metadata": {},
   "source": [
    "### Hyperparameter Tuning\n",
    "\n",
    "Now we want to tune our second model to try get better result."
   ]
  },
  {
   "cell_type": "code",
   "execution_count": 43,
   "metadata": {},
   "outputs": [
    {
     "data": {
      "text/plain": [
       "RandomizedSearchCV(cv=3, estimator=RandomForestClassifier(random_state=7),\n",
       "                   n_iter=50, n_jobs=2,\n",
       "                   param_distributions={'max_depth': array([5]),\n",
       "                                        'min_samples_split': array([2]),\n",
       "                                        'n_estimators': array([50])},\n",
       "                   return_train_score=True, scoring='recall')"
      ]
     },
     "execution_count": 43,
     "metadata": {},
     "output_type": "execute_result"
    }
   ],
   "source": [
    "hyperparameters = {\n",
    "    'n_estimators': np.arange(50,100,50),\n",
    "    'max_depth': np.arange(5,10,5),\n",
    "    'min_samples_split': np.arange(2, 4, 2),\n",
    "}\n",
    "\n",
    "rf_grid = RandomizedSearchCV(rf, hyperparameters, scoring='recall', n_iter=50, cv=3, n_jobs=2, return_train_score=True)\n",
    "rf_grid.fit(train_tr_df, y_train_over)"
   ]
  },
  {
   "attachments": {},
   "cell_type": "markdown",
   "metadata": {},
   "source": [
    "Here we use RandomizedSearchCV because of our hardware limitations in handling the size of the dataset we have."
   ]
  },
  {
   "cell_type": "code",
   "execution_count": 44,
   "metadata": {},
   "outputs": [
    {
     "data": {
      "text/plain": [
       "{'n_estimators': 50, 'min_samples_split': 2, 'max_depth': 5}"
      ]
     },
     "execution_count": 44,
     "metadata": {},
     "output_type": "execute_result"
    }
   ],
   "source": [
    "rf_grid.best_params_"
   ]
  },
  {
   "cell_type": "code",
   "execution_count": 45,
   "metadata": {},
   "outputs": [
    {
     "data": {
      "text/plain": [
       "0.6114881781928533"
      ]
     },
     "execution_count": 45,
     "metadata": {},
     "output_type": "execute_result"
    }
   ],
   "source": [
    "rf_grid.best_score_"
   ]
  },
  {
   "cell_type": "code",
   "execution_count": 46,
   "metadata": {},
   "outputs": [
    {
     "data": {
      "text/html": [
       "<div>\n",
       "<style scoped>\n",
       "    .dataframe tbody tr th:only-of-type {\n",
       "        vertical-align: middle;\n",
       "    }\n",
       "\n",
       "    .dataframe tbody tr th {\n",
       "        vertical-align: top;\n",
       "    }\n",
       "\n",
       "    .dataframe thead th {\n",
       "        text-align: right;\n",
       "    }\n",
       "</style>\n",
       "<table border=\"1\" class=\"dataframe\">\n",
       "  <thead>\n",
       "    <tr style=\"text-align: right;\">\n",
       "      <th></th>\n",
       "      <th>params</th>\n",
       "      <th>mean_test_score</th>\n",
       "      <th>std_test_score</th>\n",
       "      <th>mean_train_score</th>\n",
       "      <th>std_train_score</th>\n",
       "    </tr>\n",
       "  </thead>\n",
       "  <tbody>\n",
       "    <tr>\n",
       "      <th>0</th>\n",
       "      <td>{'n_estimators': 50, 'min_samples_split': 2, '...</td>\n",
       "      <td>0.611488</td>\n",
       "      <td>0.064838</td>\n",
       "      <td>0.613512</td>\n",
       "      <td>0.04903</td>\n",
       "    </tr>\n",
       "  </tbody>\n",
       "</table>\n",
       "</div>"
      ],
      "text/plain": [
       "                                              params  mean_test_score  \\\n",
       "0  {'n_estimators': 50, 'min_samples_split': 2, '...         0.611488   \n",
       "\n",
       "   std_test_score  mean_train_score  std_train_score  \n",
       "0        0.064838          0.613512          0.04903  "
      ]
     },
     "execution_count": 46,
     "metadata": {},
     "output_type": "execute_result"
    }
   ],
   "source": [
    "rf_df = pd.DataFrame(rf_grid.cv_results_)[['params', 'mean_test_score', 'std_test_score', 'mean_train_score', 'std_train_score']]\n",
    "rf_df.sort_values(['mean_test_score', 'mean_train_score'], ascending=False) "
   ]
  },
  {
   "attachments": {},
   "cell_type": "markdown",
   "metadata": {},
   "source": [
    "Our result may be worse than baseline model, we will look into it later."
   ]
  },
  {
   "cell_type": "code",
   "execution_count": 47,
   "metadata": {},
   "outputs": [
    {
     "data": {
      "text/plain": [
       "RandomForestClassifier(max_depth=5, n_estimators=50, random_state=7)"
      ]
     },
     "execution_count": 47,
     "metadata": {},
     "output_type": "execute_result"
    }
   ],
   "source": [
    "rf_grid.best_estimator_"
   ]
  },
  {
   "cell_type": "code",
   "execution_count": 48,
   "metadata": {},
   "outputs": [],
   "source": [
    "rf_tuned = rf_grid.best_estimator_"
   ]
  },
  {
   "attachments": {},
   "cell_type": "markdown",
   "metadata": {},
   "source": [
    "Here we assigned our tuned model into new variable. Now we want to train this model, the evaluates it."
   ]
  },
  {
   "attachments": {},
   "cell_type": "markdown",
   "metadata": {},
   "source": [
    "### Model Training & Evaluation After Tuning\n",
    "\n",
    "Now we will use the tuned model and evaluate it, also compare the model before tuning and after tuning."
   ]
  },
  {
   "cell_type": "code",
   "execution_count": 49,
   "metadata": {},
   "outputs": [
    {
     "name": "stdout",
     "output_type": "stream",
     "text": [
      "Training Duration : 8.896753311157227 sec\n"
     ]
    }
   ],
   "source": [
    "start = time.time()\n",
    "rf_tuned.fit(train_tr_df, y_train_over)\n",
    "end = time.time()\n",
    "\n",
    "print(f'Training Duration : {end-start} sec')"
   ]
  },
  {
   "attachments": {},
   "cell_type": "markdown",
   "metadata": {},
   "source": [
    "The training is super fast compared to base model."
   ]
  },
  {
   "cell_type": "code",
   "execution_count": 50,
   "metadata": {},
   "outputs": [],
   "source": [
    "rf_tuned_pred_train = rf_tuned.predict(train_tr_df)\n",
    "rf_tuned_pred_test = rf_tuned.predict(test_tr_df)"
   ]
  },
  {
   "attachments": {},
   "cell_type": "markdown",
   "metadata": {},
   "source": [
    "Here we predict our model, and after that we evaluate it the same way we did previously."
   ]
  },
  {
   "cell_type": "code",
   "execution_count": 51,
   "metadata": {},
   "outputs": [
    {
     "name": "stdout",
     "output_type": "stream",
     "text": [
      "Before Tuning : \n",
      "======================================== TRAINING ========================================\n",
      "                precision    recall  f1-score   support\n",
      "\n",
      "Non-Defaulters       1.00      0.92      0.96    165753\n",
      "    Defaulters       0.92      1.00      0.96    165753\n",
      "\n",
      "      accuracy                           0.96    331506\n",
      "     macro avg       0.96      0.96      0.96    331506\n",
      "  weighted avg       0.96      0.96      0.96    331506\n",
      "\n",
      "======================================== TEST ========================================\n",
      "                precision    recall  f1-score   support\n",
      "\n",
      "Non-Defaulters       0.97      0.90      0.93     55251\n",
      "    Defaulters       0.52      0.80      0.63      7749\n",
      "\n",
      "      accuracy                           0.89     63000\n",
      "     macro avg       0.75      0.85      0.78     63000\n",
      "  weighted avg       0.92      0.89      0.90     63000\n",
      "\n",
      "After Tuning : \n",
      "======================================== TRAINING ========================================\n",
      "                precision    recall  f1-score   support\n",
      "\n",
      "Non-Defaulters       0.60      0.48      0.54    165753\n",
      "    Defaulters       0.57      0.68      0.62    165753\n",
      "\n",
      "      accuracy                           0.58    331506\n",
      "     macro avg       0.58      0.58      0.58    331506\n",
      "  weighted avg       0.58      0.58      0.58    331506\n",
      "\n",
      "======================================== TEST ========================================\n",
      "                precision    recall  f1-score   support\n",
      "\n",
      "Non-Defaulters       0.91      0.48      0.63     55251\n",
      "    Defaulters       0.15      0.64      0.24      7749\n",
      "\n",
      "      accuracy                           0.50     63000\n",
      "     macro avg       0.53      0.56      0.43     63000\n",
      "  weighted avg       0.81      0.50      0.58     63000\n",
      "\n"
     ]
    }
   ],
   "source": [
    "print('Before Tuning : ')\n",
    "target_names = ['Non-Defaulters', 'Defaulters']\n",
    "print(\"==\"*20,\"TRAINING\",\"==\"*20)\n",
    "print(classification_report(y_train_over,rf_pred_train,zero_division=0, target_names = target_names))\n",
    "print(\"==\"*20,\"TEST\",\"==\"*20)\n",
    "print(classification_report(y_test,rf_pred_test,zero_division=0, target_names = target_names))\n",
    "print('After Tuning : ')\n",
    "target_names = ['Non-Defaulters', 'Defaulters']\n",
    "print(\"==\"*20,\"TRAINING\",\"==\"*20)\n",
    "print(classification_report(y_train_over,rf_tuned_pred_train,zero_division=0, target_names = target_names))\n",
    "print(\"==\"*20,\"TEST\",\"==\"*20)\n",
    "print(classification_report(y_test,rf_tuned_pred_test,zero_division=0, target_names = target_names))"
   ]
  },
  {
   "attachments": {},
   "cell_type": "markdown",
   "metadata": {},
   "source": [
    "Our result after tuning do not look good, we see here that after tuning our recall score on test set are decrease into 0.64 from 0.80. For this reason we will not use this model in our inference data. \n",
    "\n",
    "Next we will show the Confusion matrix from tuned model."
   ]
  },
  {
   "cell_type": "code",
   "execution_count": 52,
   "metadata": {},
   "outputs": [
    {
     "data": {
      "image/png": "[encoded data removed]",
      "text/plain": [
       "<Figure size 640x480 with 2 Axes>"
      ]
     },
     "metadata": {},
     "output_type": "display_data"
    }
   ],
   "source": [
    "# Display Random Forest Confusion matrix - Test\n",
    "\n",
    "cm_rf_tuned_test = confusion_matrix(y_test, rf_tuned_pred_test, labels=rf.classes_)\n",
    "disp_rf_tuned_test = ConfusionMatrixDisplay(confusion_matrix=cm_rf_tuned_test,display_labels=rf.classes_)\n",
    "\n",
    "disp_rf_tuned_test.plot()\n",
    "plt.title('Random Forest Tuned Confusion matrix - Test')\n",
    "plt.show()"
   ]
  },
  {
   "attachments": {},
   "cell_type": "markdown",
   "metadata": {},
   "source": [
    "* From Confussion matrix of test predict, we see that with our model we predict 2276 False Negative\n",
    "* From Confussion matrix of test predict, we see that with our model we predict 4974 True Positive\n",
    "\n",
    "Here we can say that almost 65% percent of our data that should be predictied positive were mis-predicted as False negative, which is not a good result compared to what we already have."
   ]
  },
  {
   "attachments": {},
   "cell_type": "markdown",
   "metadata": {},
   "source": [
    "## Pipeline Final\n",
    "\n",
    "Here we want to build our pipeline, which will help us in Inferece data and deployment. We will test whether to include SMOTE or not by testing the pipeline."
   ]
  },
  {
   "attachments": {},
   "cell_type": "markdown",
   "metadata": {},
   "source": [
    "### Without SMOTE"
   ]
  },
  {
   "cell_type": "code",
   "execution_count": 53,
   "metadata": {},
   "outputs": [],
   "source": [
    "all_process = Pipeline([\n",
    "    (\"preprocessing\", preprocessing),\n",
    "    (\"rf_model\", rf)\n",
    "])"
   ]
  },
  {
   "cell_type": "code",
   "execution_count": 54,
   "metadata": {},
   "outputs": [
    {
     "data": {
      "text/plain": [
       "Pipeline(steps=[('preprocessing',\n",
       "                 ColumnTransformer(transformers=[('num',\n",
       "                                                  Pipeline(steps=[('scaler',\n",
       "                                                                   StandardScaler())]),\n",
       "                                                  ['income', 'age']),\n",
       "                                                 ('cat_ord',\n",
       "                                                  Pipeline(steps=[('ordinal_enc',\n",
       "                                                                   OrdinalEncoder())]),\n",
       "                                                  ['experience', 'marry_status',\n",
       "                                                   'house_ownership',\n",
       "                                                   'car_ownership',\n",
       "                                                   'current_job_yrs',\n",
       "                                                   'current_house_yrs'])])),\n",
       "                ('rf_model', RandomForestClassifier(random_state=7))])"
      ]
     },
     "execution_count": 54,
     "metadata": {},
     "output_type": "execute_result"
    }
   ],
   "source": [
    "all_process.fit(X_train, y_train)"
   ]
  },
  {
   "cell_type": "code",
   "execution_count": 55,
   "metadata": {},
   "outputs": [],
   "source": [
    "pipe_train = all_process.predict(X_train)\n",
    "pipe_test = all_process.predict(X_test)\n"
   ]
  },
  {
   "cell_type": "code",
   "execution_count": 56,
   "metadata": {},
   "outputs": [
    {
     "name": "stdout",
     "output_type": "stream",
     "text": [
      "======================================== TEST ========================================\n",
      "                precision    recall  f1-score   support\n",
      "\n",
      "Non-Defaulters       0.94      0.95      0.94     55251\n",
      "    Defaulters       0.60      0.54      0.57      7749\n",
      "\n",
      "      accuracy                           0.90     63000\n",
      "     macro avg       0.77      0.74      0.76     63000\n",
      "  weighted avg       0.89      0.90      0.90     63000\n",
      "\n"
     ]
    }
   ],
   "source": [
    "target_names = ['Non-Defaulters', 'Defaulters']\n",
    "print(\"==\"*20,\"TEST\",\"==\"*20)\n",
    "print(classification_report(y_test,pipe_test,zero_division=0, target_names = target_names))"
   ]
  },
  {
   "attachments": {},
   "cell_type": "markdown",
   "metadata": {},
   "source": [
    "Here we see a drop recall score when the pipeline does not include smote."
   ]
  },
  {
   "attachments": {},
   "cell_type": "markdown",
   "metadata": {},
   "source": [
    "### Include SMOTE"
   ]
  },
  {
   "cell_type": "code",
   "execution_count": 57,
   "metadata": {},
   "outputs": [],
   "source": [
    "# Use pipeline from imblearn\n",
    "all_process_imb = imbpipe([\n",
    "    (\"preprocessing\", preprocessing),\n",
    "    (\"over_sample\", SMOTE(random_state=21, sampling_strategy='minority')),\n",
    "    (\"rf_model\", rf)\n",
    "])"
   ]
  },
  {
   "cell_type": "code",
   "execution_count": 58,
   "metadata": {},
   "outputs": [
    {
     "data": {
      "text/plain": [
       "Pipeline(steps=[('preprocessing',\n",
       "                 ColumnTransformer(transformers=[('num',\n",
       "                                                  Pipeline(steps=[('scaler',\n",
       "                                                                   StandardScaler())]),\n",
       "                                                  ['income', 'age']),\n",
       "                                                 ('cat_ord',\n",
       "                                                  Pipeline(steps=[('ordinal_enc',\n",
       "                                                                   OrdinalEncoder())]),\n",
       "                                                  ['experience', 'marry_status',\n",
       "                                                   'house_ownership',\n",
       "                                                   'car_ownership',\n",
       "                                                   'current_job_yrs',\n",
       "                                                   'current_house_yrs'])])),\n",
       "                ('over_sample',\n",
       "                 SMOTE(random_state=21, sampling_strategy='minority')),\n",
       "                ('rf_model', RandomForestClassifier(random_state=7))])"
      ]
     },
     "execution_count": 58,
     "metadata": {},
     "output_type": "execute_result"
    }
   ],
   "source": [
    "all_process_imb.fit(X_train, y_train)"
   ]
  },
  {
   "cell_type": "code",
   "execution_count": 59,
   "metadata": {},
   "outputs": [],
   "source": [
    "imbpipe_train = all_process_imb.predict(X_train)\n",
    "imbpipe_test = all_process_imb.predict(X_test)"
   ]
  },
  {
   "cell_type": "code",
   "execution_count": 60,
   "metadata": {},
   "outputs": [
    {
     "name": "stdout",
     "output_type": "stream",
     "text": [
      "======================================== TEST ========================================\n",
      "                precision    recall  f1-score   support\n",
      "\n",
      "Non-Defaulters       0.97      0.90      0.93     55251\n",
      "    Defaulters       0.52      0.80      0.63      7749\n",
      "\n",
      "      accuracy                           0.89     63000\n",
      "     macro avg       0.75      0.85      0.78     63000\n",
      "  weighted avg       0.92      0.89      0.90     63000\n",
      "\n"
     ]
    }
   ],
   "source": [
    "target_names = ['Non-Defaulters', 'Defaulters']\n",
    "print(\"==\"*20,\"TEST\",\"==\"*20)\n",
    "print(classification_report(y_test,imbpipe_test,zero_division=0, target_names = target_names))"
   ]
  },
  {
   "attachments": {},
   "cell_type": "markdown",
   "metadata": {},
   "source": [
    "The result similar to our intial evaluation, so we decided to use this pipeline for model inference and model deployment."
   ]
  },
  {
   "attachments": {},
   "cell_type": "markdown",
   "metadata": {},
   "source": [
    "## Overall Analysis & Conclusion\n",
    "\n",
    "From our results we can analyze that:\n",
    "* We want to predict who are the possible Defaulters for our Loans Product, using Risk_Flag as our target variable.From our model prediction we successfully solved the problems using RandomForest model.\n",
    "* Features we use in this model are 'income', 'age', 'experience', 'marry_status', 'house_ownership','car_ownership', 'current_job_yrs','current_house_yrs'. This selection proved to be a quite good predictors variable in our model.\n",
    "* Our intial model was overfitting if we compare it to the train set, but overall from asumption it may be a goodfitting because the high true predictions rate.\n",
    "* From our test set model predict we acquire 80% rate of true prediction, which we obtain from using recall metrics.\n",
    "* We try to improve our model by doing some fine tuning, but it turns out to be a failure. Instead of increase the result we decrease it by some margins. This may be caused by some reasons such as: \n",
    "    * it's possible that the best hyperparameters for a model may be the default ones. \n",
    "    * Using the wrong set of hyperparameters, so instead of increase the score we will decrease it because of this.\n",
    "    * Also, it may also the quality of the data is not so good, so the model may not performs well.\n",
    "* We use RandomizedSearchCV because of our hardware limitations in handling the size of the dataset we have.\n",
    "* For our pipeline, we use the one with imbalanced data handling because we believe that the deployment environment is similar to the one that the model was trained on, and the class imbalance problem still exists.\n",
    "* But the drawback of including it into our pipeline is that the computation cost is higher and training will be longer.\n",
    "\n",
    "From doing some intial EDA we can say that:\n",
    "* We see that our categorical column have some cardinality problems, so we were dropped them all instead try to generalize it because our limitation of informations.\n",
    "* our Target dataset is imbalanced, we may need to handle this problem to make our model good.\n",
    "* Here we can see clearly about our categorical data. Insights we get from this chart are:\n",
    "    * Single applicants have a higher numbers of default.\n",
    "    * People without cars also have higher default.\n",
    "    * People with Rented house dominated our applicants, which also translate into more default.\n",
    "* id and city has a high correlation, but we might need to drop these column since the id column has no use and city has too many unique values.\n",
    "\n",
    "For further improvements, we may need to:\n",
    "* Try using all the feature such as city and states, since the have a high correlation with our target. But we may need to generalize the dataset beforehand.\n",
    "* Try using gridsearch for fine tuning.\n",
    "* Try different hyperparameters in randomforest.\n",
    "* Try using different method in handling imbalanced data set.\n"
   ]
  },
  {
   "attachments": {},
   "cell_type": "markdown",
   "metadata": {},
   "source": [
    "## Model Saving\n",
    "\n",
    "Now we save our best model with pipeline, this will help us when doing inference model and depoyment."
   ]
  },
  {
   "cell_type": "code",
   "execution_count": 61,
   "metadata": {},
   "outputs": [],
   "source": [
    "with open('pipeline_imb.pkl', 'wb') as file_1:\n",
    "  joblib.dump(all_process_imb, file_1)"
   ]
  }
 ],
 "metadata": {
  "kernelspec": {
   "display_name": "base",
   "language": "python",
   "name": "python3"
  },
  "language_info": {
   "codemirror_mode": {
    "name": "ipython",
    "version": 3
   },
   "file_extension": ".py",
   "mimetype": "text/x-python",
   "name": "python",
   "nbconvert_exporter": "python",
   "pygments_lexer": "ipython3",
   "version": "3.9.13 (main, Aug 25 2022, 23:51:50) [MSC v.1916 64 bit (AMD64)]"
  },
  "orig_nbformat": 4,
  "vscode": {
   "interpreter": {
    "hash": "fb8e96bab5497db2e3ba4164333414b1d50742fa963cda73889f8b0144f64d6b"
   }
  }
 },
 "nbformat": 4,
 "nbformat_minor": 2
}
