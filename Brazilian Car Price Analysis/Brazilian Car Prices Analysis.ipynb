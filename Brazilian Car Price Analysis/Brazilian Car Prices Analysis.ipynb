{
 "cells": [
  {
   "attachments": {},
   "cell_type": "markdown",
   "metadata": {},
   "source": [
    "# Milestone 1\n",
    "\n",
    "Milestone 1 assignment by Arvin Assanny from Batch-HCK-003\n",
    "\n",
    "Link Dashboard:\n",
    "https://public.tableau.com/app/profile/arvin8013/viz/Milestone1_16717267710400/Dashboard1"
   ]
  },
  {
   "attachments": {},
   "cell_type": "markdown",
   "metadata": {},
   "source": [
    "## Identifying Problem\n",
    "#### Background:\n",
    "You are working in a growing e-commerce platform which focused on car listing on Brazil. The CEO of the company asked the Data Team to make car price prediction model, which may help the buyers to undersatnd the actual market value of a car before buying. As a `Data Analyst`, you are tasked to analyze used car price in Brazil first and required to use statistics and data visualization while doing our EDA (Exploratory Data Analysis) project. This early analysis is needed before we make the car price prediction model in near future, together with data scientist in our team.\n",
    "\n",
    "#### Topics: \n",
    "Analyzing car prices in Brazil to get more understanding of Car sales market in Brazil by using dataset that was collected from 2022.\n",
    "\n",
    "#### Problem Statement: \n",
    "`Find what are the factors that determine average car price in Brazil on 2022`\n",
    "\n",
    "#### Bussines Objective:\n",
    "To obtain the objectives we will use 5W+1H method to determine what are the question we need to answer, in order to analyzing the dataset we have.\n",
    "\n",
    " 1. What is the most popular brand in Brazil?\n",
    "\n",
    " 2. What is the average price from each top 10 brand in 2022?\n",
    "\n",
    " 3. What model year car has the highest price from the last decade?\n",
    "\n",
    " 4. What are some the oldest car still used?\n",
    "\n",
    " 5. Which gear type is preferred the most and how is price affected by it?\n",
    " \n",
    " 6. How do model year affects the resale values in different brands?\n",
    "\n",
    " 7. (`Infrential Statistic`) We want to compare whether a fuel type will affects different averege price than the other one?"
   ]
  },
  {
   "attachments": {},
   "cell_type": "markdown",
   "metadata": {},
   "source": [
    "## Import Library"
   ]
  },
  {
   "cell_type": "code",
   "execution_count": 1,
   "metadata": {},
   "outputs": [],
   "source": [
    "import pandas as pd\n",
    "import numpy as np\n",
    "import matplotlib.pyplot as plt\n",
    "import seaborn as sns\n",
    "%matplotlib inline\n",
    "import scipy.stats as stats"
   ]
  },
  {
   "attachments": {},
   "cell_type": "markdown",
   "metadata": {},
   "source": [
    "Now we already import some library we will use for this project."
   ]
  },
  {
   "attachments": {},
   "cell_type": "markdown",
   "metadata": {},
   "source": [
    "## Loading Data"
   ]
  },
  {
   "cell_type": "code",
   "execution_count": 2,
   "metadata": {},
   "outputs": [],
   "source": [
    "df = pd.read_csv('fipe_2022.csv')\n",
    "\n",
    "## Source dataset: https://www.kaggle.com/datasets/vagnerbessa/average-car-prices-bazil"
   ]
  },
  {
   "attachments": {},
   "cell_type": "markdown",
   "metadata": {},
   "source": [
    "We are using dataset of average car prices in Brazil, which updated on a monthly basis. Here we will show the description of every column that present on our table.\n",
    "out the features of the data set:\n",
    "\n",
    "|Id|Feature|Description|\n",
    "|:--|:--|:--|\n",
    "|01| year_of_reference    | Year of the observation| \n",
    "|02| month_of_reference   | Month of the observation|  \n",
    "|03| fipe_code            | Unique id on FIPE Website| \n",
    "|04| authentication       | Unique code on FIPE Website|   \n",
    "|05| brand                | Car brand name|\n",
    "|06| model                | Car description|\n",
    "|07| fuel                 | Car Fuel type |\n",
    "|08| gear                 | How gear shifted|\n",
    "|09| engine_size          | Engine size measured in cubic centimeters|\n",
    "|10| year_model           | Year of manufacture|\n",
    "|11| avg_price_brl        | Car prices in Brazilian Real|\n",
    "|12| age_years            | Difference between current year and year_model|"
   ]
  },
  {
   "attachments": {},
   "cell_type": "markdown",
   "metadata": {},
   "source": [
    "## Data Preprocessing\n",
    "\n",
    "After loading our data we will do some overview and cleaning."
   ]
  },
  {
   "cell_type": "code",
   "execution_count": 3,
   "metadata": {},
   "outputs": [
    {
     "data": {
      "text/html": [
       "<div>\n",
       "<style scoped>\n",
       "    .dataframe tbody tr th:only-of-type {\n",
       "        vertical-align: middle;\n",
       "    }\n",
       "\n",
       "    .dataframe tbody tr th {\n",
       "        vertical-align: top;\n",
       "    }\n",
       "\n",
       "    .dataframe thead th {\n",
       "        text-align: right;\n",
       "    }\n",
       "</style>\n",
       "<table border=\"1\" class=\"dataframe\">\n",
       "  <thead>\n",
       "    <tr style=\"text-align: right;\">\n",
       "      <th></th>\n",
       "      <th>year_of_reference</th>\n",
       "      <th>month_of_reference</th>\n",
       "      <th>fipe_code</th>\n",
       "      <th>authentication</th>\n",
       "      <th>brand</th>\n",
       "      <th>model</th>\n",
       "      <th>fuel</th>\n",
       "      <th>gear</th>\n",
       "      <th>engine_size</th>\n",
       "      <th>year_model</th>\n",
       "      <th>avg_price_brl</th>\n",
       "      <th>age_years</th>\n",
       "    </tr>\n",
       "  </thead>\n",
       "  <tbody>\n",
       "    <tr>\n",
       "      <th>0</th>\n",
       "      <td>2022</td>\n",
       "      <td>January</td>\n",
       "      <td>038001-6</td>\n",
       "      <td>vwmrywl5qs</td>\n",
       "      <td>Acura</td>\n",
       "      <td>NSX 3.0</td>\n",
       "      <td>Gasoline</td>\n",
       "      <td>manual</td>\n",
       "      <td>3.0</td>\n",
       "      <td>1995</td>\n",
       "      <td>43779.0</td>\n",
       "      <td>28</td>\n",
       "    </tr>\n",
       "    <tr>\n",
       "      <th>1</th>\n",
       "      <td>2022</td>\n",
       "      <td>January</td>\n",
       "      <td>038001-6</td>\n",
       "      <td>t9mt723qhz</td>\n",
       "      <td>Acura</td>\n",
       "      <td>NSX 3.0</td>\n",
       "      <td>Gasoline</td>\n",
       "      <td>manual</td>\n",
       "      <td>3.0</td>\n",
       "      <td>1994</td>\n",
       "      <td>42244.0</td>\n",
       "      <td>29</td>\n",
       "    </tr>\n",
       "    <tr>\n",
       "      <th>2</th>\n",
       "      <td>2022</td>\n",
       "      <td>January</td>\n",
       "      <td>038001-6</td>\n",
       "      <td>tr5wv4z21g</td>\n",
       "      <td>Acura</td>\n",
       "      <td>NSX 3.0</td>\n",
       "      <td>Gasoline</td>\n",
       "      <td>manual</td>\n",
       "      <td>3.0</td>\n",
       "      <td>1993</td>\n",
       "      <td>40841.0</td>\n",
       "      <td>30</td>\n",
       "    </tr>\n",
       "    <tr>\n",
       "      <th>3</th>\n",
       "      <td>2022</td>\n",
       "      <td>January</td>\n",
       "      <td>038001-6</td>\n",
       "      <td>s2xxsjz3mt</td>\n",
       "      <td>Acura</td>\n",
       "      <td>NSX 3.0</td>\n",
       "      <td>Gasoline</td>\n",
       "      <td>manual</td>\n",
       "      <td>3.0</td>\n",
       "      <td>1992</td>\n",
       "      <td>39028.0</td>\n",
       "      <td>31</td>\n",
       "    </tr>\n",
       "    <tr>\n",
       "      <th>4</th>\n",
       "      <td>2022</td>\n",
       "      <td>January</td>\n",
       "      <td>038001-6</td>\n",
       "      <td>rtm9gj7zk8</td>\n",
       "      <td>Acura</td>\n",
       "      <td>NSX 3.0</td>\n",
       "      <td>Gasoline</td>\n",
       "      <td>manual</td>\n",
       "      <td>3.0</td>\n",
       "      <td>1991</td>\n",
       "      <td>35678.0</td>\n",
       "      <td>32</td>\n",
       "    </tr>\n",
       "    <tr>\n",
       "      <th>...</th>\n",
       "      <td>...</td>\n",
       "      <td>...</td>\n",
       "      <td>...</td>\n",
       "      <td>...</td>\n",
       "      <td>...</td>\n",
       "      <td>...</td>\n",
       "      <td>...</td>\n",
       "      <td>...</td>\n",
       "      <td>...</td>\n",
       "      <td>...</td>\n",
       "      <td>...</td>\n",
       "      <td>...</td>\n",
       "    </tr>\n",
       "    <tr>\n",
       "      <th>290270</th>\n",
       "      <td>2022</td>\n",
       "      <td>December</td>\n",
       "      <td>061001-1</td>\n",
       "      <td>lzrp3rpklh8q</td>\n",
       "      <td>Walk</td>\n",
       "      <td>Buggy Walk Sport 1.6 8V 58cv</td>\n",
       "      <td>Gasoline</td>\n",
       "      <td>manual</td>\n",
       "      <td>1.6</td>\n",
       "      <td>2009</td>\n",
       "      <td>22894.0</td>\n",
       "      <td>14</td>\n",
       "    </tr>\n",
       "    <tr>\n",
       "      <th>290271</th>\n",
       "      <td>2022</td>\n",
       "      <td>December</td>\n",
       "      <td>061001-1</td>\n",
       "      <td>lrfw427w9v5h</td>\n",
       "      <td>Walk</td>\n",
       "      <td>Buggy Walk Sport 1.6 8V 58cv</td>\n",
       "      <td>Gasoline</td>\n",
       "      <td>manual</td>\n",
       "      <td>1.6</td>\n",
       "      <td>2008</td>\n",
       "      <td>22270.0</td>\n",
       "      <td>15</td>\n",
       "    </tr>\n",
       "    <tr>\n",
       "      <th>290272</th>\n",
       "      <td>2022</td>\n",
       "      <td>December</td>\n",
       "      <td>061001-1</td>\n",
       "      <td>lh98rfxnhy18</td>\n",
       "      <td>Walk</td>\n",
       "      <td>Buggy Walk Sport 1.6 8V 58cv</td>\n",
       "      <td>Gasoline</td>\n",
       "      <td>manual</td>\n",
       "      <td>1.6</td>\n",
       "      <td>2007</td>\n",
       "      <td>21663.0</td>\n",
       "      <td>16</td>\n",
       "    </tr>\n",
       "    <tr>\n",
       "      <th>290273</th>\n",
       "      <td>2022</td>\n",
       "      <td>December</td>\n",
       "      <td>061001-1</td>\n",
       "      <td>k9dtwsps5sy1</td>\n",
       "      <td>Walk</td>\n",
       "      <td>Buggy Walk Sport 1.6 8V 58cv</td>\n",
       "      <td>Gasoline</td>\n",
       "      <td>manual</td>\n",
       "      <td>1.6</td>\n",
       "      <td>2006</td>\n",
       "      <td>21073.0</td>\n",
       "      <td>17</td>\n",
       "    </tr>\n",
       "    <tr>\n",
       "      <th>290274</th>\n",
       "      <td>2022</td>\n",
       "      <td>December</td>\n",
       "      <td>061001-1</td>\n",
       "      <td>j7gt9020nqvt</td>\n",
       "      <td>Walk</td>\n",
       "      <td>Buggy Walk Sport 1.6 8V 58cv</td>\n",
       "      <td>Gasoline</td>\n",
       "      <td>manual</td>\n",
       "      <td>1.6</td>\n",
       "      <td>2005</td>\n",
       "      <td>18264.0</td>\n",
       "      <td>18</td>\n",
       "    </tr>\n",
       "  </tbody>\n",
       "</table>\n",
       "<p>290275 rows × 12 columns</p>\n",
       "</div>"
      ],
      "text/plain": [
       "        year_of_reference month_of_reference fipe_code authentication  brand  \\\n",
       "0                    2022            January  038001-6     vwmrywl5qs  Acura   \n",
       "1                    2022            January  038001-6     t9mt723qhz  Acura   \n",
       "2                    2022            January  038001-6     tr5wv4z21g  Acura   \n",
       "3                    2022            January  038001-6     s2xxsjz3mt  Acura   \n",
       "4                    2022            January  038001-6     rtm9gj7zk8  Acura   \n",
       "...                   ...                ...       ...            ...    ...   \n",
       "290270               2022           December  061001-1   lzrp3rpklh8q   Walk   \n",
       "290271               2022           December  061001-1   lrfw427w9v5h   Walk   \n",
       "290272               2022           December  061001-1   lh98rfxnhy18   Walk   \n",
       "290273               2022           December  061001-1   k9dtwsps5sy1   Walk   \n",
       "290274               2022           December  061001-1   j7gt9020nqvt   Walk   \n",
       "\n",
       "                               model      fuel    gear  engine_size  \\\n",
       "0                            NSX 3.0  Gasoline  manual          3.0   \n",
       "1                            NSX 3.0  Gasoline  manual          3.0   \n",
       "2                            NSX 3.0  Gasoline  manual          3.0   \n",
       "3                            NSX 3.0  Gasoline  manual          3.0   \n",
       "4                            NSX 3.0  Gasoline  manual          3.0   \n",
       "...                              ...       ...     ...          ...   \n",
       "290270  Buggy Walk Sport 1.6 8V 58cv  Gasoline  manual          1.6   \n",
       "290271  Buggy Walk Sport 1.6 8V 58cv  Gasoline  manual          1.6   \n",
       "290272  Buggy Walk Sport 1.6 8V 58cv  Gasoline  manual          1.6   \n",
       "290273  Buggy Walk Sport 1.6 8V 58cv  Gasoline  manual          1.6   \n",
       "290274  Buggy Walk Sport 1.6 8V 58cv  Gasoline  manual          1.6   \n",
       "\n",
       "        year_model  avg_price_brl  age_years  \n",
       "0             1995        43779.0         28  \n",
       "1             1994        42244.0         29  \n",
       "2             1993        40841.0         30  \n",
       "3             1992        39028.0         31  \n",
       "4             1991        35678.0         32  \n",
       "...            ...            ...        ...  \n",
       "290270        2009        22894.0         14  \n",
       "290271        2008        22270.0         15  \n",
       "290272        2007        21663.0         16  \n",
       "290273        2006        21073.0         17  \n",
       "290274        2005        18264.0         18  \n",
       "\n",
       "[290275 rows x 12 columns]"
      ]
     },
     "execution_count": 3,
     "metadata": {},
     "output_type": "execute_result"
    }
   ],
   "source": [
    "df"
   ]
  },
  {
   "attachments": {},
   "cell_type": "markdown",
   "metadata": {},
   "source": [
    "Here are some overview of our data"
   ]
  },
  {
   "cell_type": "code",
   "execution_count": 4,
   "metadata": {},
   "outputs": [
    {
     "name": "stdout",
     "output_type": "stream",
     "text": [
      "<class 'pandas.core.frame.DataFrame'>\n",
      "RangeIndex: 290275 entries, 0 to 290274\n",
      "Data columns (total 12 columns):\n",
      " #   Column              Non-Null Count   Dtype  \n",
      "---  ------              --------------   -----  \n",
      " 0   year_of_reference   290275 non-null  int64  \n",
      " 1   month_of_reference  290275 non-null  object \n",
      " 2   fipe_code           290275 non-null  object \n",
      " 3   authentication      290275 non-null  object \n",
      " 4   brand               290275 non-null  object \n",
      " 5   model               290275 non-null  object \n",
      " 6   fuel                290275 non-null  object \n",
      " 7   gear                290275 non-null  object \n",
      " 8   engine_size         290275 non-null  float64\n",
      " 9   year_model          290275 non-null  int64  \n",
      " 10  avg_price_brl       290275 non-null  float64\n",
      " 11  age_years           290275 non-null  int64  \n",
      "dtypes: float64(2), int64(3), object(7)\n",
      "memory usage: 26.6+ MB\n"
     ]
    }
   ],
   "source": [
    "df.info()"
   ]
  },
  {
   "attachments": {},
   "cell_type": "markdown",
   "metadata": {},
   "source": [
    "We got 5 columns with numerical datatype and 7 with string datatype"
   ]
  },
  {
   "cell_type": "code",
   "execution_count": 5,
   "metadata": {},
   "outputs": [
    {
     "name": "stdout",
     "output_type": "stream",
     "text": [
      "Data Shape: (290275, 12)\n"
     ]
    },
    {
     "data": {
      "text/html": [
       "<div>\n",
       "<style scoped>\n",
       "    .dataframe tbody tr th:only-of-type {\n",
       "        vertical-align: middle;\n",
       "    }\n",
       "\n",
       "    .dataframe tbody tr th {\n",
       "        vertical-align: top;\n",
       "    }\n",
       "\n",
       "    .dataframe thead th {\n",
       "        text-align: right;\n",
       "    }\n",
       "</style>\n",
       "<table border=\"1\" class=\"dataframe\">\n",
       "  <thead>\n",
       "    <tr style=\"text-align: right;\">\n",
       "      <th></th>\n",
       "      <th>year_of_reference</th>\n",
       "      <th>month_of_reference</th>\n",
       "      <th>fipe_code</th>\n",
       "      <th>authentication</th>\n",
       "      <th>brand</th>\n",
       "      <th>model</th>\n",
       "      <th>fuel</th>\n",
       "      <th>gear</th>\n",
       "      <th>engine_size</th>\n",
       "      <th>year_model</th>\n",
       "      <th>avg_price_brl</th>\n",
       "      <th>age_years</th>\n",
       "    </tr>\n",
       "  </thead>\n",
       "  <tbody>\n",
       "    <tr>\n",
       "      <th>259143</th>\n",
       "      <td>2022</td>\n",
       "      <td>November</td>\n",
       "      <td>024210-1</td>\n",
       "      <td>zdkdps4rwny1</td>\n",
       "      <td>Peugeot</td>\n",
       "      <td>2008 Allure 1.6 Flex 16V 5p Mec.</td>\n",
       "      <td>Gasoline</td>\n",
       "      <td>manual</td>\n",
       "      <td>1.6</td>\n",
       "      <td>2016</td>\n",
       "      <td>53069.0</td>\n",
       "      <td>7</td>\n",
       "    </tr>\n",
       "    <tr>\n",
       "      <th>163272</th>\n",
       "      <td>2022</td>\n",
       "      <td>July</td>\n",
       "      <td>025129-1</td>\n",
       "      <td>lpdnj4q0pg18</td>\n",
       "      <td>Renault</td>\n",
       "      <td>Megane Grand Tour Dynam. Hi-Flex 1.6 16V</td>\n",
       "      <td>Gasoline</td>\n",
       "      <td>manual</td>\n",
       "      <td>1.6</td>\n",
       "      <td>2007</td>\n",
       "      <td>22096.0</td>\n",
       "      <td>16</td>\n",
       "    </tr>\n",
       "    <tr>\n",
       "      <th>286590</th>\n",
       "      <td>2022</td>\n",
       "      <td>December</td>\n",
       "      <td>002041-9</td>\n",
       "      <td>vbs54bl1972x</td>\n",
       "      <td>Toyota</td>\n",
       "      <td>Hilux CD SR5 4x4 2.8 Diesel</td>\n",
       "      <td>Diesel</td>\n",
       "      <td>manual</td>\n",
       "      <td>2.8</td>\n",
       "      <td>1997</td>\n",
       "      <td>42344.0</td>\n",
       "      <td>26</td>\n",
       "    </tr>\n",
       "    <tr>\n",
       "      <th>173006</th>\n",
       "      <td>2022</td>\n",
       "      <td>August</td>\n",
       "      <td>004435-0</td>\n",
       "      <td>yshrwf64pw18</td>\n",
       "      <td>GM - Chevrolet</td>\n",
       "      <td>SPIN LS 1.8 8V Econo.Flex 5p Mec.</td>\n",
       "      <td>Gasoline</td>\n",
       "      <td>manual</td>\n",
       "      <td>1.8</td>\n",
       "      <td>2017</td>\n",
       "      <td>51444.0</td>\n",
       "      <td>6</td>\n",
       "    </tr>\n",
       "    <tr>\n",
       "      <th>238701</th>\n",
       "      <td>2022</td>\n",
       "      <td>October</td>\n",
       "      <td>005015-6</td>\n",
       "      <td>j0vg3zq01sp</td>\n",
       "      <td>VW - VolksWagen</td>\n",
       "      <td>Quantum 2.0 Mi</td>\n",
       "      <td>Gasoline</td>\n",
       "      <td>manual</td>\n",
       "      <td>2.0</td>\n",
       "      <td>2000</td>\n",
       "      <td>17699.0</td>\n",
       "      <td>23</td>\n",
       "    </tr>\n",
       "  </tbody>\n",
       "</table>\n",
       "</div>"
      ],
      "text/plain": [
       "        year_of_reference month_of_reference fipe_code authentication  \\\n",
       "259143               2022           November  024210-1   zdkdps4rwny1   \n",
       "163272               2022               July  025129-1   lpdnj4q0pg18   \n",
       "286590               2022           December  002041-9   vbs54bl1972x   \n",
       "173006               2022             August  004435-0   yshrwf64pw18   \n",
       "238701               2022            October  005015-6    j0vg3zq01sp   \n",
       "\n",
       "                  brand                                     model      fuel  \\\n",
       "259143          Peugeot          2008 Allure 1.6 Flex 16V 5p Mec.  Gasoline   \n",
       "163272          Renault  Megane Grand Tour Dynam. Hi-Flex 1.6 16V  Gasoline   \n",
       "286590           Toyota               Hilux CD SR5 4x4 2.8 Diesel    Diesel   \n",
       "173006   GM - Chevrolet         SPIN LS 1.8 8V Econo.Flex 5p Mec.  Gasoline   \n",
       "238701  VW - VolksWagen                            Quantum 2.0 Mi  Gasoline   \n",
       "\n",
       "          gear  engine_size  year_model  avg_price_brl  age_years  \n",
       "259143  manual          1.6        2016        53069.0          7  \n",
       "163272  manual          1.6        2007        22096.0         16  \n",
       "286590  manual          2.8        1997        42344.0         26  \n",
       "173006  manual          1.8        2017        51444.0          6  \n",
       "238701  manual          2.0        2000        17699.0         23  "
      ]
     },
     "execution_count": 5,
     "metadata": {},
     "output_type": "execute_result"
    }
   ],
   "source": [
    "print('Data Shape:', df.shape)\n",
    "df.sample(5)"
   ]
  },
  {
   "attachments": {},
   "cell_type": "markdown",
   "metadata": {},
   "source": [
    "Here we know that there 290273 rows and 12 columns in the dataset, we also show 5 random rows from our data using .sample() function."
   ]
  },
  {
   "cell_type": "code",
   "execution_count": 6,
   "metadata": {},
   "outputs": [
    {
     "data": {
      "text/plain": [
       "year_of_reference     0\n",
       "month_of_reference    0\n",
       "fipe_code             0\n",
       "authentication        0\n",
       "brand                 0\n",
       "model                 0\n",
       "fuel                  0\n",
       "gear                  0\n",
       "engine_size           0\n",
       "year_model            0\n",
       "avg_price_brl         0\n",
       "age_years             0\n",
       "dtype: int64"
      ]
     },
     "execution_count": 6,
     "metadata": {},
     "output_type": "execute_result"
    }
   ],
   "source": [
    "df.isnull().sum()"
   ]
  },
  {
   "attachments": {},
   "cell_type": "markdown",
   "metadata": {},
   "source": [
    "We have no missing values in our data, which is good. But also we need to see, if there is an error with our data such as duplicated data"
   ]
  },
  {
   "cell_type": "code",
   "execution_count": 7,
   "metadata": {},
   "outputs": [
    {
     "name": "stdout",
     "output_type": "stream",
     "text": [
      "Total Duplicate: 4\n"
     ]
    },
    {
     "data": {
      "text/html": [
       "<div>\n",
       "<style scoped>\n",
       "    .dataframe tbody tr th:only-of-type {\n",
       "        vertical-align: middle;\n",
       "    }\n",
       "\n",
       "    .dataframe tbody tr th {\n",
       "        vertical-align: top;\n",
       "    }\n",
       "\n",
       "    .dataframe thead th {\n",
       "        text-align: right;\n",
       "    }\n",
       "</style>\n",
       "<table border=\"1\" class=\"dataframe\">\n",
       "  <thead>\n",
       "    <tr style=\"text-align: right;\">\n",
       "      <th></th>\n",
       "      <th>year_of_reference</th>\n",
       "      <th>month_of_reference</th>\n",
       "      <th>fipe_code</th>\n",
       "      <th>authentication</th>\n",
       "      <th>brand</th>\n",
       "      <th>model</th>\n",
       "      <th>fuel</th>\n",
       "      <th>gear</th>\n",
       "      <th>engine_size</th>\n",
       "      <th>year_model</th>\n",
       "      <th>avg_price_brl</th>\n",
       "      <th>age_years</th>\n",
       "    </tr>\n",
       "  </thead>\n",
       "  <tbody>\n",
       "    <tr>\n",
       "      <th>98996</th>\n",
       "      <td>2022</td>\n",
       "      <td>May</td>\n",
       "      <td>004051-7</td>\n",
       "      <td>gb76cyvp29j4</td>\n",
       "      <td>GM - Chevrolet</td>\n",
       "      <td>Monza Classic SE 2.0 /MPFI e EFI 2p e 4p</td>\n",
       "      <td>Gasoline</td>\n",
       "      <td>manual</td>\n",
       "      <td>2.0</td>\n",
       "      <td>1992</td>\n",
       "      <td>10655.0</td>\n",
       "      <td>31</td>\n",
       "    </tr>\n",
       "    <tr>\n",
       "      <th>99002</th>\n",
       "      <td>2022</td>\n",
       "      <td>May</td>\n",
       "      <td>004051-7</td>\n",
       "      <td>gb76cyvp29j4</td>\n",
       "      <td>GM - Chevrolet</td>\n",
       "      <td>Monza Classic SE 2.0 /MPFI e EFI 2p e 4p</td>\n",
       "      <td>Gasoline</td>\n",
       "      <td>manual</td>\n",
       "      <td>2.0</td>\n",
       "      <td>1992</td>\n",
       "      <td>10655.0</td>\n",
       "      <td>31</td>\n",
       "    </tr>\n",
       "    <tr>\n",
       "      <th>275481</th>\n",
       "      <td>2022</td>\n",
       "      <td>December</td>\n",
       "      <td>003296-4</td>\n",
       "      <td>3r6c277cnqcb</td>\n",
       "      <td>Ford</td>\n",
       "      <td>Ranger Limited 3.0 PSE 4x4 CD TB Diesel</td>\n",
       "      <td>Diesel</td>\n",
       "      <td>manual</td>\n",
       "      <td>3.0</td>\n",
       "      <td>2007</td>\n",
       "      <td>64638.0</td>\n",
       "      <td>16</td>\n",
       "    </tr>\n",
       "    <tr>\n",
       "      <th>275482</th>\n",
       "      <td>2022</td>\n",
       "      <td>December</td>\n",
       "      <td>003296-4</td>\n",
       "      <td>3r6c277cnqcb</td>\n",
       "      <td>Ford</td>\n",
       "      <td>Ranger Limited 3.0 PSE 4x4 CD TB Diesel</td>\n",
       "      <td>Diesel</td>\n",
       "      <td>manual</td>\n",
       "      <td>3.0</td>\n",
       "      <td>2007</td>\n",
       "      <td>64638.0</td>\n",
       "      <td>16</td>\n",
       "    </tr>\n",
       "  </tbody>\n",
       "</table>\n",
       "</div>"
      ],
      "text/plain": [
       "        year_of_reference month_of_reference fipe_code authentication  \\\n",
       "98996                2022                May  004051-7   gb76cyvp29j4   \n",
       "99002                2022                May  004051-7   gb76cyvp29j4   \n",
       "275481               2022           December  003296-4   3r6c277cnqcb   \n",
       "275482               2022           December  003296-4   3r6c277cnqcb   \n",
       "\n",
       "                 brand                                     model      fuel  \\\n",
       "98996   GM - Chevrolet  Monza Classic SE 2.0 /MPFI e EFI 2p e 4p  Gasoline   \n",
       "99002   GM - Chevrolet  Monza Classic SE 2.0 /MPFI e EFI 2p e 4p  Gasoline   \n",
       "275481            Ford   Ranger Limited 3.0 PSE 4x4 CD TB Diesel    Diesel   \n",
       "275482            Ford   Ranger Limited 3.0 PSE 4x4 CD TB Diesel    Diesel   \n",
       "\n",
       "          gear  engine_size  year_model  avg_price_brl  age_years  \n",
       "98996   manual          2.0        1992        10655.0         31  \n",
       "99002   manual          2.0        1992        10655.0         31  \n",
       "275481  manual          3.0        2007        64638.0         16  \n",
       "275482  manual          3.0        2007        64638.0         16  "
      ]
     },
     "execution_count": 7,
     "metadata": {},
     "output_type": "execute_result"
    }
   ],
   "source": [
    "dup = df.duplicated(keep = False).sum()\n",
    "print('Total Duplicate:', dup)\n",
    "\n",
    "# Show duplicate in dataframe\n",
    "df[df.duplicated(keep = False)]"
   ]
  },
  {
   "attachments": {},
   "cell_type": "markdown",
   "metadata": {},
   "source": [
    "After this we will drop the duplicates using .drop_duplicated()"
   ]
  },
  {
   "cell_type": "code",
   "execution_count": 8,
   "metadata": {},
   "outputs": [],
   "source": [
    "df.drop_duplicates(keep='first', inplace=True)"
   ]
  },
  {
   "cell_type": "code",
   "execution_count": 9,
   "metadata": {},
   "outputs": [
    {
     "data": {
      "text/plain": [
       "year_of_reference     False\n",
       "month_of_reference    False\n",
       "fipe_code             False\n",
       "authentication        False\n",
       "brand                 False\n",
       "model                 False\n",
       "fuel                  False\n",
       "gear                  False\n",
       "engine_size           False\n",
       "year_model            False\n",
       "avg_price_brl         False\n",
       "age_years             False\n",
       "dtype: bool"
      ]
     },
     "execution_count": 9,
     "metadata": {},
     "output_type": "execute_result"
    }
   ],
   "source": [
    "df[df.duplicated()].any()"
   ]
  },
  {
   "attachments": {},
   "cell_type": "markdown",
   "metadata": {},
   "source": [
    "After make sure we have dropped the duplicated data, now do some data cleaning again.\n",
    "\n",
    "Here we have some columns that have no use in our analysis, these columns will be dropped from our table."
   ]
  },
  {
   "cell_type": "code",
   "execution_count": 10,
   "metadata": {},
   "outputs": [],
   "source": [
    "df.drop(columns=['fipe_code', 'authentication'], inplace=True)"
   ]
  },
  {
   "attachments": {},
   "cell_type": "markdown",
   "metadata": {},
   "source": [
    "We dropped this two columns because both of columns did not give us much insight and information."
   ]
  },
  {
   "cell_type": "code",
   "execution_count": 11,
   "metadata": {},
   "outputs": [
    {
     "data": {
      "text/html": [
       "<div>\n",
       "<style scoped>\n",
       "    .dataframe tbody tr th:only-of-type {\n",
       "        vertical-align: middle;\n",
       "    }\n",
       "\n",
       "    .dataframe tbody tr th {\n",
       "        vertical-align: top;\n",
       "    }\n",
       "\n",
       "    .dataframe thead th {\n",
       "        text-align: right;\n",
       "    }\n",
       "</style>\n",
       "<table border=\"1\" class=\"dataframe\">\n",
       "  <thead>\n",
       "    <tr style=\"text-align: right;\">\n",
       "      <th></th>\n",
       "      <th>year_of_reference</th>\n",
       "      <th>month_of_reference</th>\n",
       "      <th>brand</th>\n",
       "      <th>model</th>\n",
       "      <th>fuel</th>\n",
       "      <th>gear</th>\n",
       "      <th>engine_size</th>\n",
       "      <th>year_model</th>\n",
       "      <th>avg_price_brl</th>\n",
       "      <th>age_years</th>\n",
       "    </tr>\n",
       "  </thead>\n",
       "  <tbody>\n",
       "    <tr>\n",
       "      <th>0</th>\n",
       "      <td>2022</td>\n",
       "      <td>January</td>\n",
       "      <td>Acura</td>\n",
       "      <td>NSX 3.0</td>\n",
       "      <td>Gasoline</td>\n",
       "      <td>manual</td>\n",
       "      <td>3.0</td>\n",
       "      <td>1995</td>\n",
       "      <td>43779.0</td>\n",
       "      <td>28</td>\n",
       "    </tr>\n",
       "    <tr>\n",
       "      <th>1</th>\n",
       "      <td>2022</td>\n",
       "      <td>January</td>\n",
       "      <td>Acura</td>\n",
       "      <td>NSX 3.0</td>\n",
       "      <td>Gasoline</td>\n",
       "      <td>manual</td>\n",
       "      <td>3.0</td>\n",
       "      <td>1994</td>\n",
       "      <td>42244.0</td>\n",
       "      <td>29</td>\n",
       "    </tr>\n",
       "    <tr>\n",
       "      <th>2</th>\n",
       "      <td>2022</td>\n",
       "      <td>January</td>\n",
       "      <td>Acura</td>\n",
       "      <td>NSX 3.0</td>\n",
       "      <td>Gasoline</td>\n",
       "      <td>manual</td>\n",
       "      <td>3.0</td>\n",
       "      <td>1993</td>\n",
       "      <td>40841.0</td>\n",
       "      <td>30</td>\n",
       "    </tr>\n",
       "    <tr>\n",
       "      <th>3</th>\n",
       "      <td>2022</td>\n",
       "      <td>January</td>\n",
       "      <td>Acura</td>\n",
       "      <td>NSX 3.0</td>\n",
       "      <td>Gasoline</td>\n",
       "      <td>manual</td>\n",
       "      <td>3.0</td>\n",
       "      <td>1992</td>\n",
       "      <td>39028.0</td>\n",
       "      <td>31</td>\n",
       "    </tr>\n",
       "    <tr>\n",
       "      <th>4</th>\n",
       "      <td>2022</td>\n",
       "      <td>January</td>\n",
       "      <td>Acura</td>\n",
       "      <td>NSX 3.0</td>\n",
       "      <td>Gasoline</td>\n",
       "      <td>manual</td>\n",
       "      <td>3.0</td>\n",
       "      <td>1991</td>\n",
       "      <td>35678.0</td>\n",
       "      <td>32</td>\n",
       "    </tr>\n",
       "    <tr>\n",
       "      <th>...</th>\n",
       "      <td>...</td>\n",
       "      <td>...</td>\n",
       "      <td>...</td>\n",
       "      <td>...</td>\n",
       "      <td>...</td>\n",
       "      <td>...</td>\n",
       "      <td>...</td>\n",
       "      <td>...</td>\n",
       "      <td>...</td>\n",
       "      <td>...</td>\n",
       "    </tr>\n",
       "    <tr>\n",
       "      <th>290270</th>\n",
       "      <td>2022</td>\n",
       "      <td>December</td>\n",
       "      <td>Walk</td>\n",
       "      <td>Buggy Walk Sport 1.6 8V 58cv</td>\n",
       "      <td>Gasoline</td>\n",
       "      <td>manual</td>\n",
       "      <td>1.6</td>\n",
       "      <td>2009</td>\n",
       "      <td>22894.0</td>\n",
       "      <td>14</td>\n",
       "    </tr>\n",
       "    <tr>\n",
       "      <th>290271</th>\n",
       "      <td>2022</td>\n",
       "      <td>December</td>\n",
       "      <td>Walk</td>\n",
       "      <td>Buggy Walk Sport 1.6 8V 58cv</td>\n",
       "      <td>Gasoline</td>\n",
       "      <td>manual</td>\n",
       "      <td>1.6</td>\n",
       "      <td>2008</td>\n",
       "      <td>22270.0</td>\n",
       "      <td>15</td>\n",
       "    </tr>\n",
       "    <tr>\n",
       "      <th>290272</th>\n",
       "      <td>2022</td>\n",
       "      <td>December</td>\n",
       "      <td>Walk</td>\n",
       "      <td>Buggy Walk Sport 1.6 8V 58cv</td>\n",
       "      <td>Gasoline</td>\n",
       "      <td>manual</td>\n",
       "      <td>1.6</td>\n",
       "      <td>2007</td>\n",
       "      <td>21663.0</td>\n",
       "      <td>16</td>\n",
       "    </tr>\n",
       "    <tr>\n",
       "      <th>290273</th>\n",
       "      <td>2022</td>\n",
       "      <td>December</td>\n",
       "      <td>Walk</td>\n",
       "      <td>Buggy Walk Sport 1.6 8V 58cv</td>\n",
       "      <td>Gasoline</td>\n",
       "      <td>manual</td>\n",
       "      <td>1.6</td>\n",
       "      <td>2006</td>\n",
       "      <td>21073.0</td>\n",
       "      <td>17</td>\n",
       "    </tr>\n",
       "    <tr>\n",
       "      <th>290274</th>\n",
       "      <td>2022</td>\n",
       "      <td>December</td>\n",
       "      <td>Walk</td>\n",
       "      <td>Buggy Walk Sport 1.6 8V 58cv</td>\n",
       "      <td>Gasoline</td>\n",
       "      <td>manual</td>\n",
       "      <td>1.6</td>\n",
       "      <td>2005</td>\n",
       "      <td>18264.0</td>\n",
       "      <td>18</td>\n",
       "    </tr>\n",
       "  </tbody>\n",
       "</table>\n",
       "<p>290273 rows × 10 columns</p>\n",
       "</div>"
      ],
      "text/plain": [
       "        year_of_reference month_of_reference  brand  \\\n",
       "0                    2022            January  Acura   \n",
       "1                    2022            January  Acura   \n",
       "2                    2022            January  Acura   \n",
       "3                    2022            January  Acura   \n",
       "4                    2022            January  Acura   \n",
       "...                   ...                ...    ...   \n",
       "290270               2022           December   Walk   \n",
       "290271               2022           December   Walk   \n",
       "290272               2022           December   Walk   \n",
       "290273               2022           December   Walk   \n",
       "290274               2022           December   Walk   \n",
       "\n",
       "                               model      fuel    gear  engine_size  \\\n",
       "0                            NSX 3.0  Gasoline  manual          3.0   \n",
       "1                            NSX 3.0  Gasoline  manual          3.0   \n",
       "2                            NSX 3.0  Gasoline  manual          3.0   \n",
       "3                            NSX 3.0  Gasoline  manual          3.0   \n",
       "4                            NSX 3.0  Gasoline  manual          3.0   \n",
       "...                              ...       ...     ...          ...   \n",
       "290270  Buggy Walk Sport 1.6 8V 58cv  Gasoline  manual          1.6   \n",
       "290271  Buggy Walk Sport 1.6 8V 58cv  Gasoline  manual          1.6   \n",
       "290272  Buggy Walk Sport 1.6 8V 58cv  Gasoline  manual          1.6   \n",
       "290273  Buggy Walk Sport 1.6 8V 58cv  Gasoline  manual          1.6   \n",
       "290274  Buggy Walk Sport 1.6 8V 58cv  Gasoline  manual          1.6   \n",
       "\n",
       "        year_model  avg_price_brl  age_years  \n",
       "0             1995        43779.0         28  \n",
       "1             1994        42244.0         29  \n",
       "2             1993        40841.0         30  \n",
       "3             1992        39028.0         31  \n",
       "4             1991        35678.0         32  \n",
       "...            ...            ...        ...  \n",
       "290270        2009        22894.0         14  \n",
       "290271        2008        22270.0         15  \n",
       "290272        2007        21663.0         16  \n",
       "290273        2006        21073.0         17  \n",
       "290274        2005        18264.0         18  \n",
       "\n",
       "[290273 rows x 10 columns]"
      ]
     },
     "execution_count": 11,
     "metadata": {},
     "output_type": "execute_result"
    }
   ],
   "source": [
    "df"
   ]
  },
  {
   "attachments": {},
   "cell_type": "markdown",
   "metadata": {},
   "source": [
    "Now we have dropped some of the columns we do not need in this analysis, we can go ahead to do some exploratory data analysis."
   ]
  },
  {
   "attachments": {},
   "cell_type": "markdown",
   "metadata": {},
   "source": [
    "## Exploratory Data Analysis\n",
    "\n",
    "Now we will try to understand deeper with our data by doing analysis using statistics and hypothesis testing. We also will make some data visualization to help us understand more."
   ]
  },
  {
   "attachments": {},
   "cell_type": "markdown",
   "metadata": {},
   "source": [
    "First we want to see Cental Tendency Measure from our data, where we will calculate mean, median, and mode of some of our columns. Also we will check the distribution of the data itself.\n",
    "\n",
    "We will calculate for avg_price_brl column first."
   ]
  },
  {
   "cell_type": "code",
   "execution_count": 12,
   "metadata": {},
   "outputs": [
    {
     "name": "stdout",
     "output_type": "stream",
     "text": [
      "Mean: 122087.78798579269\n",
      "Mode: 10521.0\n",
      "Median: 46836.0\n",
      "Min: 1831.0\n",
      "Max: 8600000.0\n"
     ]
    }
   ],
   "source": [
    "# Checking central tendecies\n",
    "print ('Mean: ' + str(df['avg_price_brl'].mean()))\n",
    "print ('Mode: ' + str(df['avg_price_brl'].mode()[0]))\n",
    "print ('Median: ' + str(df['avg_price_brl'].median()))\n",
    "print ('Min: ' + str(df['avg_price_brl'].min()))\n",
    "print ('Max: ' + str(df['avg_price_brl'].max()))"
   ]
  },
  {
   "attachments": {},
   "cell_type": "markdown",
   "metadata": {},
   "source": [
    "By doing this, we now the range of our data. We will also check distribution of avg_price_brl"
   ]
  },
  {
   "cell_type": "code",
   "execution_count": 13,
   "metadata": {},
   "outputs": [
    {
     "data": {
      "image/png": "[encoded data removed]",
      "text/plain": [
       "<Figure size 640x480 with 1 Axes>"
      ]
     },
     "metadata": {},
     "output_type": "display_data"
    },
    {
     "name": "stdout",
     "output_type": "stream",
     "text": [
      "Skewness value: 11.450428596391886\n"
     ]
    }
   ],
   "source": [
    "# Make histogram to see the distribution of the data\n",
    "df['avg_price_brl'].plot.hist(title='Price Car Distribution', color='lightblue', bins=20)  \n",
    "plt.axvline(df['avg_price_brl'].mean(), color='red', linestyle='dashed', linewidth=2)\n",
    "plt.axvline(df['avg_price_brl'].median(), color='green', linestyle='dashed', linewidth=2)\n",
    "plt.show()\n",
    "\n",
    "# Checking skewness of the data\n",
    "print('Skewness value: ' + str(df['avg_price_brl'].skew()))"
   ]
  },
  {
   "attachments": {},
   "cell_type": "markdown",
   "metadata": {},
   "source": [
    "From this plot we can see the distribution of the data from avg_price_brl column is right skewed with extreme degrees. This may caused by so many variations in our data which is normal because the price of the car is defined by so many factors, so having this kind of distribution is expected from this dataset.\n",
    "\n",
    "Next we want to check age_years column which represent how old the car from the first time it was manufactured."
   ]
  },
  {
   "cell_type": "code",
   "execution_count": 14,
   "metadata": {},
   "outputs": [
    {
     "name": "stdout",
     "output_type": "stream",
     "text": [
      "Mean: 14.103302752925694\n",
      "Mode: 8\n",
      "Median: 13.0\n",
      "Min: 0\n",
      "Max: 38\n"
     ]
    }
   ],
   "source": [
    "# Checking central tendecies\n",
    "print ('Mean: ' + str(df['age_years'].mean()))\n",
    "print ('Mode: ' + str(df['age_years'].mode()[0]))\n",
    "print ('Median: ' + str(df['age_years'].median()))\n",
    "print ('Min: ' + str(df['age_years'].min()))\n",
    "print ('Max: ' + str(df['age_years'].max()))"
   ]
  },
  {
   "attachments": {},
   "cell_type": "markdown",
   "metadata": {},
   "source": [
    "Here we can see the range of our data."
   ]
  },
  {
   "cell_type": "code",
   "execution_count": 15,
   "metadata": {},
   "outputs": [
    {
     "data": {
      "image/png": "[encoded data removed]",
      "text/plain": [
       "<Figure size 640x480 with 1 Axes>"
      ]
     },
     "metadata": {},
     "output_type": "display_data"
    },
    {
     "name": "stdout",
     "output_type": "stream",
     "text": [
      "Skewness value: 0.38413185609318434\n"
     ]
    }
   ],
   "source": [
    "# Make histogram to see the distribution of the data\n",
    "df['age_years'].plot.hist(title='Car Age Distribution', color='lightblue', bins=20)  \n",
    "plt.axvline(df['age_years'].mean(), color='red', linestyle='dashed', linewidth=2)\n",
    "plt.axvline(df['age_years'].median(), color='green', linestyle='dashed', linewidth=2)\n",
    "plt.show()\n",
    "\n",
    "# Checking skewness of the data\n",
    "print('Skewness value: ' + str(df['age_years'].skew()))"
   ]
  },
  {
   "attachments": {},
   "cell_type": "markdown",
   "metadata": {},
   "source": [
    "We know that the distribution from this data is considered normal because the skewness value is still on the range of normal distribution, which is (-0,5) - 0,5.\n",
    "\n",
    "From this distribution we know that most of our data of car age have the average of 14 years.\n",
    "\n",
    "Next we want to check model_year column which represent when the first time the car was manufactured."
   ]
  },
  {
   "cell_type": "code",
   "execution_count": 16,
   "metadata": {},
   "outputs": [
    {
     "name": "stdout",
     "output_type": "stream",
     "text": [
      "Mean: 2008.8966972470744\n",
      "Mode: 2015\n",
      "Median: 2010.0\n",
      "Min: 1985\n",
      "Max: 2023\n"
     ]
    }
   ],
   "source": [
    "# Checking central tendecies\n",
    "print ('Mean: ' + str(df['year_model'].mean()))\n",
    "print ('Mode: ' + str(df['year_model'].mode()[0]))\n",
    "print ('Median: ' + str(df['year_model'].median()))\n",
    "print ('Min: ' + str(df['year_model'].min()))\n",
    "print ('Max: ' + str(df['year_model'].max()))"
   ]
  },
  {
   "attachments": {},
   "cell_type": "markdown",
   "metadata": {},
   "source": [
    "By doing this, we now the range of our data. We will also check distribution of year_model column"
   ]
  },
  {
   "cell_type": "code",
   "execution_count": 17,
   "metadata": {},
   "outputs": [
    {
     "data": {
      "image/png": "[encoded data removed]",
      "text/plain": [
       "<Figure size 640x480 with 1 Axes>"
      ]
     },
     "metadata": {},
     "output_type": "display_data"
    },
    {
     "name": "stdout",
     "output_type": "stream",
     "text": [
      "Skewness value: -0.3841318560932055\n"
     ]
    }
   ],
   "source": [
    "# Make histogram to see the distribution of the data\n",
    "df['year_model'].plot.hist(title='Car Age Distribution', color='lightblue', bins=20)  \n",
    "plt.axvline(df['year_model'].mean(), color='red', linestyle='dashed', linewidth=2)\n",
    "plt.axvline(df['year_model'].median(), color='green', linestyle='dashed', linewidth=2)\n",
    "plt.show()\n",
    "\n",
    "# Checking skewness of the data\n",
    "print('Skewness value: ' + str(df['year_model'].skew()))"
   ]
  },
  {
   "attachments": {},
   "cell_type": "markdown",
   "metadata": {},
   "source": [
    "We know that the distribution from this data is considered normal because the skewness value is still on the range of normal distribution, which is (-0,5) - 0,5.\n",
    "\n",
    "From this distribution we have the average car model year is about 2009."
   ]
  },
  {
   "attachments": {},
   "cell_type": "markdown",
   "metadata": {},
   "source": [
    "Now we will go ahead to answer some business objective using our data."
   ]
  },
  {
   "attachments": {},
   "cell_type": "markdown",
   "metadata": {},
   "source": [
    "#### *What is the most popular brand in Brazil?*\n",
    "\n",
    "Now we want to look at the most popular car brand in Brazil, where we will pick the top 10 only."
   ]
  },
  {
   "cell_type": "code",
   "execution_count": 18,
   "metadata": {},
   "outputs": [
    {
     "data": {
      "text/plain": [
       "GM - Chevrolet     28178\n",
       "VW - VolksWagen    28142\n",
       "Fiat               26563\n",
       "Ford               24149\n",
       "Mercedes-Benz      17470\n",
       "Renault            15194\n",
       "Audi               12168\n",
       "Peugeot            11132\n",
       "Toyota             10309\n",
       "Mitsubishi         10182\n",
       "Name: brand, dtype: int64"
      ]
     },
     "execution_count": 18,
     "metadata": {},
     "output_type": "execute_result"
    }
   ],
   "source": [
    "top_brands = df['brand'].value_counts().head(10)\n",
    "top_brands"
   ]
  },
  {
   "attachments": {},
   "cell_type": "markdown",
   "metadata": {},
   "source": [
    "Here we see that GM - Chevrolet is the top brand in Brazil with 28178 cars\n",
    "\n",
    "Now we want to make bar chart to visualize this data."
   ]
  },
  {
   "cell_type": "code",
   "execution_count": 19,
   "metadata": {},
   "outputs": [
    {
     "data": {
      "image/png": "[encoded data removed]",
      "text/plain": [
       "<Figure size 1300x600 with 1 Axes>"
      ]
     },
     "metadata": {},
     "output_type": "display_data"
    }
   ],
   "source": [
    "plt.figure(figsize=(13,6))\n",
    "plt.title('Most Popular Car Brand')\n",
    "plt.xlabel('Count')\n",
    "plt.ylabel('Car Brands')\n",
    "sns.barplot(x = top_brands.values, y = top_brands.index);"
   ]
  },
  {
   "attachments": {},
   "cell_type": "markdown",
   "metadata": {},
   "source": [
    "Car brand of GM - Chevrolet & VW - VolksWagen are undoubtedly the top two brand in Brazil, this fact may showed us that the two brand are the most favorite car within Brazil population."
   ]
  },
  {
   "attachments": {},
   "cell_type": "markdown",
   "metadata": {},
   "source": [
    "#### *What is the average price from each top 10 brand in 2022??*\n",
    "\n",
    "After knowing the top 10 of most favorite car in Brazil, now we want to know the average price from each top 10 brand in 2022."
   ]
  },
  {
   "cell_type": "code",
   "execution_count": 20,
   "metadata": {},
   "outputs": [
    {
     "data": {
      "text/plain": [
       "Index(['GM - Chevrolet', 'VW - VolksWagen', 'Fiat', 'Ford', 'Mercedes-Benz',\n",
       "       'Renault', 'Audi', 'Peugeot', 'Toyota', 'Mitsubishi'],\n",
       "      dtype='object')"
      ]
     },
     "execution_count": 20,
     "metadata": {},
     "output_type": "execute_result"
    }
   ],
   "source": [
    "# Select top 10 most frequent observations according to some variable\n",
    "def top_values(data, variable, top=10):\n",
    "    return data[variable].value_counts()[:top]\n",
    "\n",
    "top10 = top_values(df, 'brand')\n",
    "top10.index"
   ]
  },
  {
   "attachments": {},
   "cell_type": "markdown",
   "metadata": {},
   "source": [
    "First we only want to include top 10 of the brand to feature in our analysis"
   ]
  },
  {
   "cell_type": "code",
   "execution_count": 21,
   "metadata": {},
   "outputs": [
    {
     "data": {
      "text/html": [
       "<div>\n",
       "<style scoped>\n",
       "    .dataframe tbody tr th:only-of-type {\n",
       "        vertical-align: middle;\n",
       "    }\n",
       "\n",
       "    .dataframe tbody tr th {\n",
       "        vertical-align: top;\n",
       "    }\n",
       "\n",
       "    .dataframe thead th {\n",
       "        text-align: right;\n",
       "    }\n",
       "</style>\n",
       "<table border=\"1\" class=\"dataframe\">\n",
       "  <thead>\n",
       "    <tr style=\"text-align: right;\">\n",
       "      <th></th>\n",
       "      <th>month_of_reference</th>\n",
       "      <th>brand</th>\n",
       "      <th>avg_price_brl</th>\n",
       "    </tr>\n",
       "  </thead>\n",
       "  <tbody>\n",
       "    <tr>\n",
       "      <th>185</th>\n",
       "      <td>January</td>\n",
       "      <td>Audi</td>\n",
       "      <td>14353.0</td>\n",
       "    </tr>\n",
       "    <tr>\n",
       "      <th>186</th>\n",
       "      <td>January</td>\n",
       "      <td>Audi</td>\n",
       "      <td>12695.0</td>\n",
       "    </tr>\n",
       "    <tr>\n",
       "      <th>187</th>\n",
       "      <td>January</td>\n",
       "      <td>Audi</td>\n",
       "      <td>22458.0</td>\n",
       "    </tr>\n",
       "    <tr>\n",
       "      <th>188</th>\n",
       "      <td>January</td>\n",
       "      <td>Audi</td>\n",
       "      <td>21445.0</td>\n",
       "    </tr>\n",
       "    <tr>\n",
       "      <th>189</th>\n",
       "      <td>January</td>\n",
       "      <td>Audi</td>\n",
       "      <td>19646.0</td>\n",
       "    </tr>\n",
       "    <tr>\n",
       "      <th>...</th>\n",
       "      <td>...</td>\n",
       "      <td>...</td>\n",
       "      <td>...</td>\n",
       "    </tr>\n",
       "    <tr>\n",
       "      <th>289722</th>\n",
       "      <td>December</td>\n",
       "      <td>VW - VolksWagen</td>\n",
       "      <td>85995.0</td>\n",
       "    </tr>\n",
       "    <tr>\n",
       "      <th>289723</th>\n",
       "      <td>December</td>\n",
       "      <td>VW - VolksWagen</td>\n",
       "      <td>103221.0</td>\n",
       "    </tr>\n",
       "    <tr>\n",
       "      <th>289724</th>\n",
       "      <td>December</td>\n",
       "      <td>VW - VolksWagen</td>\n",
       "      <td>95861.0</td>\n",
       "    </tr>\n",
       "    <tr>\n",
       "      <th>289725</th>\n",
       "      <td>December</td>\n",
       "      <td>VW - VolksWagen</td>\n",
       "      <td>110821.0</td>\n",
       "    </tr>\n",
       "    <tr>\n",
       "      <th>289726</th>\n",
       "      <td>December</td>\n",
       "      <td>VW - VolksWagen</td>\n",
       "      <td>102236.0</td>\n",
       "    </tr>\n",
       "  </tbody>\n",
       "</table>\n",
       "<p>183487 rows × 3 columns</p>\n",
       "</div>"
      ],
      "text/plain": [
       "       month_of_reference            brand  avg_price_brl\n",
       "185               January             Audi        14353.0\n",
       "186               January             Audi        12695.0\n",
       "187               January             Audi        22458.0\n",
       "188               January             Audi        21445.0\n",
       "189               January             Audi        19646.0\n",
       "...                   ...              ...            ...\n",
       "289722           December  VW - VolksWagen        85995.0\n",
       "289723           December  VW - VolksWagen       103221.0\n",
       "289724           December  VW - VolksWagen        95861.0\n",
       "289725           December  VW - VolksWagen       110821.0\n",
       "289726           December  VW - VolksWagen       102236.0\n",
       "\n",
       "[183487 rows x 3 columns]"
      ]
     },
     "execution_count": 21,
     "metadata": {},
     "output_type": "execute_result"
    }
   ],
   "source": [
    "mask = df['brand'].isin(top10.index)\n",
    "top_10 = df[mask][['month_of_reference', 'brand', 'avg_price_brl']]\n",
    "top_10"
   ]
  },
  {
   "cell_type": "code",
   "execution_count": 22,
   "metadata": {},
   "outputs": [
    {
     "data": {
      "text/html": [
       "<div>\n",
       "<style scoped>\n",
       "    .dataframe tbody tr th:only-of-type {\n",
       "        vertical-align: middle;\n",
       "    }\n",
       "\n",
       "    .dataframe tbody tr th {\n",
       "        vertical-align: top;\n",
       "    }\n",
       "\n",
       "    .dataframe thead th {\n",
       "        text-align: right;\n",
       "    }\n",
       "</style>\n",
       "<table border=\"1\" class=\"dataframe\">\n",
       "  <thead>\n",
       "    <tr style=\"text-align: right;\">\n",
       "      <th></th>\n",
       "      <th>month_of_reference</th>\n",
       "      <th>brand</th>\n",
       "      <th>avg_price_brl</th>\n",
       "      <th>month_date</th>\n",
       "    </tr>\n",
       "  </thead>\n",
       "  <tbody>\n",
       "    <tr>\n",
       "      <th>185</th>\n",
       "      <td>January</td>\n",
       "      <td>Audi</td>\n",
       "      <td>14353.0</td>\n",
       "      <td>2022-01-31</td>\n",
       "    </tr>\n",
       "    <tr>\n",
       "      <th>186</th>\n",
       "      <td>January</td>\n",
       "      <td>Audi</td>\n",
       "      <td>12695.0</td>\n",
       "      <td>2022-01-31</td>\n",
       "    </tr>\n",
       "    <tr>\n",
       "      <th>187</th>\n",
       "      <td>January</td>\n",
       "      <td>Audi</td>\n",
       "      <td>22458.0</td>\n",
       "      <td>2022-01-31</td>\n",
       "    </tr>\n",
       "    <tr>\n",
       "      <th>188</th>\n",
       "      <td>January</td>\n",
       "      <td>Audi</td>\n",
       "      <td>21445.0</td>\n",
       "      <td>2022-01-31</td>\n",
       "    </tr>\n",
       "    <tr>\n",
       "      <th>189</th>\n",
       "      <td>January</td>\n",
       "      <td>Audi</td>\n",
       "      <td>19646.0</td>\n",
       "      <td>2022-01-31</td>\n",
       "    </tr>\n",
       "    <tr>\n",
       "      <th>...</th>\n",
       "      <td>...</td>\n",
       "      <td>...</td>\n",
       "      <td>...</td>\n",
       "      <td>...</td>\n",
       "    </tr>\n",
       "    <tr>\n",
       "      <th>289722</th>\n",
       "      <td>December</td>\n",
       "      <td>VW - VolksWagen</td>\n",
       "      <td>85995.0</td>\n",
       "      <td>2022-12-31</td>\n",
       "    </tr>\n",
       "    <tr>\n",
       "      <th>289723</th>\n",
       "      <td>December</td>\n",
       "      <td>VW - VolksWagen</td>\n",
       "      <td>103221.0</td>\n",
       "      <td>2022-12-31</td>\n",
       "    </tr>\n",
       "    <tr>\n",
       "      <th>289724</th>\n",
       "      <td>December</td>\n",
       "      <td>VW - VolksWagen</td>\n",
       "      <td>95861.0</td>\n",
       "      <td>2022-12-31</td>\n",
       "    </tr>\n",
       "    <tr>\n",
       "      <th>289725</th>\n",
       "      <td>December</td>\n",
       "      <td>VW - VolksWagen</td>\n",
       "      <td>110821.0</td>\n",
       "      <td>2022-12-31</td>\n",
       "    </tr>\n",
       "    <tr>\n",
       "      <th>289726</th>\n",
       "      <td>December</td>\n",
       "      <td>VW - VolksWagen</td>\n",
       "      <td>102236.0</td>\n",
       "      <td>2022-12-31</td>\n",
       "    </tr>\n",
       "  </tbody>\n",
       "</table>\n",
       "<p>183487 rows × 4 columns</p>\n",
       "</div>"
      ],
      "text/plain": [
       "       month_of_reference            brand  avg_price_brl month_date\n",
       "185               January             Audi        14353.0 2022-01-31\n",
       "186               January             Audi        12695.0 2022-01-31\n",
       "187               January             Audi        22458.0 2022-01-31\n",
       "188               January             Audi        21445.0 2022-01-31\n",
       "189               January             Audi        19646.0 2022-01-31\n",
       "...                   ...              ...            ...        ...\n",
       "289722           December  VW - VolksWagen        85995.0 2022-12-31\n",
       "289723           December  VW - VolksWagen       103221.0 2022-12-31\n",
       "289724           December  VW - VolksWagen        95861.0 2022-12-31\n",
       "289725           December  VW - VolksWagen       110821.0 2022-12-31\n",
       "289726           December  VW - VolksWagen       102236.0 2022-12-31\n",
       "\n",
       "[183487 rows x 4 columns]"
      ]
     },
     "execution_count": 22,
     "metadata": {},
     "output_type": "execute_result"
    }
   ],
   "source": [
    "# We want to make new column with date datatype.\n",
    "import calendar\n",
    "month_date = pd.date_range(start = '2022-01-01', end = '2023-01-01', freq = '1M').tolist()\n",
    "months = {calendar.month_name[i]: m for i, m in enumerate(month_date, start=1)}\n",
    "\n",
    "# Using exsiting column to make month_date column\n",
    "top_10['month_date'] = top_10['month_of_reference'].map(months)\n",
    "top_10"
   ]
  },
  {
   "attachments": {},
   "cell_type": "markdown",
   "metadata": {},
   "source": [
    "Here we make a new column which enable us to sort the price by month from 2022. Now we will make the visualization of our data"
   ]
  },
  {
   "cell_type": "code",
   "execution_count": 23,
   "metadata": {},
   "outputs": [
    {
     "data": {
      "text/html": [
       "<div>\n",
       "<style scoped>\n",
       "    .dataframe tbody tr th:only-of-type {\n",
       "        vertical-align: middle;\n",
       "    }\n",
       "\n",
       "    .dataframe tbody tr th {\n",
       "        vertical-align: top;\n",
       "    }\n",
       "\n",
       "    .dataframe thead th {\n",
       "        text-align: right;\n",
       "    }\n",
       "</style>\n",
       "<table border=\"1\" class=\"dataframe\">\n",
       "  <thead>\n",
       "    <tr style=\"text-align: right;\">\n",
       "      <th></th>\n",
       "      <th>brand</th>\n",
       "      <th>avg_price_brl</th>\n",
       "    </tr>\n",
       "  </thead>\n",
       "  <tbody>\n",
       "    <tr>\n",
       "      <th>4</th>\n",
       "      <td>Mercedes-Benz</td>\n",
       "      <td>245911.906239</td>\n",
       "    </tr>\n",
       "    <tr>\n",
       "      <th>0</th>\n",
       "      <td>Audi</td>\n",
       "      <td>171157.246959</td>\n",
       "    </tr>\n",
       "    <tr>\n",
       "      <th>8</th>\n",
       "      <td>Toyota</td>\n",
       "      <td>92086.817538</td>\n",
       "    </tr>\n",
       "    <tr>\n",
       "      <th>5</th>\n",
       "      <td>Mitsubishi</td>\n",
       "      <td>85786.164113</td>\n",
       "    </tr>\n",
       "    <tr>\n",
       "      <th>3</th>\n",
       "      <td>GM - Chevrolet</td>\n",
       "      <td>52895.385975</td>\n",
       "    </tr>\n",
       "    <tr>\n",
       "      <th>2</th>\n",
       "      <td>Ford</td>\n",
       "      <td>49463.559651</td>\n",
       "    </tr>\n",
       "    <tr>\n",
       "      <th>7</th>\n",
       "      <td>Renault</td>\n",
       "      <td>47600.900224</td>\n",
       "    </tr>\n",
       "    <tr>\n",
       "      <th>9</th>\n",
       "      <td>VW - VolksWagen</td>\n",
       "      <td>42277.323467</td>\n",
       "    </tr>\n",
       "    <tr>\n",
       "      <th>6</th>\n",
       "      <td>Peugeot</td>\n",
       "      <td>41519.542939</td>\n",
       "    </tr>\n",
       "    <tr>\n",
       "      <th>1</th>\n",
       "      <td>Fiat</td>\n",
       "      <td>39877.096864</td>\n",
       "    </tr>\n",
       "  </tbody>\n",
       "</table>\n",
       "</div>"
      ],
      "text/plain": [
       "             brand  avg_price_brl\n",
       "4    Mercedes-Benz  245911.906239\n",
       "0             Audi  171157.246959\n",
       "8           Toyota   92086.817538\n",
       "5       Mitsubishi   85786.164113\n",
       "3   GM - Chevrolet   52895.385975\n",
       "2             Ford   49463.559651\n",
       "7          Renault   47600.900224\n",
       "9  VW - VolksWagen   42277.323467\n",
       "6          Peugeot   41519.542939\n",
       "1             Fiat   39877.096864"
      ]
     },
     "execution_count": 23,
     "metadata": {},
     "output_type": "execute_result"
    }
   ],
   "source": [
    "top_10.groupby(['brand']).mean().reset_index().sort_values(by = 'avg_price_brl', ascending = False)"
   ]
  },
  {
   "attachments": {},
   "cell_type": "markdown",
   "metadata": {},
   "source": [
    "Here we already can see the average price of the top 10 brands in Brazil, to help us understand more we will use lineplot to visualize it."
   ]
  },
  {
   "cell_type": "code",
   "execution_count": 24,
   "metadata": {},
   "outputs": [
    {
     "data": {
      "image/png": "[encoded data removed]",
      "text/plain": [
       "<Figure size 1600x1000 with 1 Axes>"
      ]
     },
     "metadata": {},
     "output_type": "display_data"
    }
   ],
   "source": [
    "toplot = top_10.groupby(['brand', 'month_date']).mean()\n",
    "\n",
    "sns.set(rc ={'figure.figsize':(16,10)})\n",
    "plot = sns.lineplot(data = toplot, x = 'month_date', y = 'avg_price_brl', hue = 'brand', sort = False)\n",
    "plt.xticks(rotation = 45)\n",
    "plt.show()"
   ]
  },
  {
   "attachments": {},
   "cell_type": "markdown",
   "metadata": {},
   "source": [
    "We can see here that Mercedes-Benz has higher prices than its competitors, while GM - Chevrolet being the top favorite car brand in Brazil in the fifth place.\n",
    "\n",
    "This might be caused by that Mercedes-Benz is already known for its expensive European car, while GM - Chevrolet is closer to home which is from United States. This may cost some money when buying a foreign made car whose much far away than its competitor (GM - Chevrolet)."
   ]
  },
  {
   "attachments": {},
   "cell_type": "markdown",
   "metadata": {},
   "source": [
    "##### *What model year car has the highest price from the last decade?*\n",
    "\n",
    " Now we want to see what model year has the highest price from the last decade."
   ]
  },
  {
   "cell_type": "code",
   "execution_count": 25,
   "metadata": {},
   "outputs": [
    {
     "data": {
      "text/html": [
       "<div>\n",
       "<style scoped>\n",
       "    .dataframe tbody tr th:only-of-type {\n",
       "        vertical-align: middle;\n",
       "    }\n",
       "\n",
       "    .dataframe tbody tr th {\n",
       "        vertical-align: top;\n",
       "    }\n",
       "\n",
       "    .dataframe thead th {\n",
       "        text-align: right;\n",
       "    }\n",
       "</style>\n",
       "<table border=\"1\" class=\"dataframe\">\n",
       "  <thead>\n",
       "    <tr style=\"text-align: right;\">\n",
       "      <th></th>\n",
       "      <th>year_model</th>\n",
       "      <th>avg_price_brl</th>\n",
       "    </tr>\n",
       "  </thead>\n",
       "  <tbody>\n",
       "    <tr>\n",
       "      <th>0</th>\n",
       "      <td>2012</td>\n",
       "      <td>2819679.0</td>\n",
       "    </tr>\n",
       "    <tr>\n",
       "      <th>1</th>\n",
       "      <td>2013</td>\n",
       "      <td>2956552.0</td>\n",
       "    </tr>\n",
       "    <tr>\n",
       "      <th>2</th>\n",
       "      <td>2014</td>\n",
       "      <td>3204383.0</td>\n",
       "    </tr>\n",
       "    <tr>\n",
       "      <th>3</th>\n",
       "      <td>2015</td>\n",
       "      <td>3441426.0</td>\n",
       "    </tr>\n",
       "    <tr>\n",
       "      <th>4</th>\n",
       "      <td>2016</td>\n",
       "      <td>3649773.0</td>\n",
       "    </tr>\n",
       "    <tr>\n",
       "      <th>5</th>\n",
       "      <td>2017</td>\n",
       "      <td>3254510.0</td>\n",
       "    </tr>\n",
       "    <tr>\n",
       "      <th>6</th>\n",
       "      <td>2018</td>\n",
       "      <td>3725451.0</td>\n",
       "    </tr>\n",
       "    <tr>\n",
       "      <th>7</th>\n",
       "      <td>2019</td>\n",
       "      <td>6143087.0</td>\n",
       "    </tr>\n",
       "    <tr>\n",
       "      <th>8</th>\n",
       "      <td>2020</td>\n",
       "      <td>5785497.0</td>\n",
       "    </tr>\n",
       "    <tr>\n",
       "      <th>9</th>\n",
       "      <td>2021</td>\n",
       "      <td>6985840.0</td>\n",
       "    </tr>\n",
       "    <tr>\n",
       "      <th>10</th>\n",
       "      <td>2022</td>\n",
       "      <td>8112833.0</td>\n",
       "    </tr>\n",
       "    <tr>\n",
       "      <th>11</th>\n",
       "      <td>2023</td>\n",
       "      <td>8600000.0</td>\n",
       "    </tr>\n",
       "  </tbody>\n",
       "</table>\n",
       "</div>"
      ],
      "text/plain": [
       "    year_model  avg_price_brl\n",
       "0         2012      2819679.0\n",
       "1         2013      2956552.0\n",
       "2         2014      3204383.0\n",
       "3         2015      3441426.0\n",
       "4         2016      3649773.0\n",
       "5         2017      3254510.0\n",
       "6         2018      3725451.0\n",
       "7         2019      6143087.0\n",
       "8         2020      5785497.0\n",
       "9         2021      6985840.0\n",
       "10        2022      8112833.0\n",
       "11        2023      8600000.0"
      ]
     },
     "execution_count": 25,
     "metadata": {},
     "output_type": "execute_result"
    }
   ],
   "source": [
    "top_prices = df.query('year_model >= 2012').groupby('year_model')['avg_price_brl'].max().reset_index()\n",
    "top_prices\n"
   ]
  },
  {
   "attachments": {},
   "cell_type": "markdown",
   "metadata": {},
   "source": [
    "To help us understand more, we need to visualize the data. Here line chart would be a good way to visualize it."
   ]
  },
  {
   "cell_type": "code",
   "execution_count": 26,
   "metadata": {},
   "outputs": [
    {
     "data": {
      "image/png": "[encoded data removed]",
      "text/plain": [
       "<Figure size 1170x827 with 1 Axes>"
      ]
     },
     "metadata": {},
     "output_type": "display_data"
    }
   ],
   "source": [
    "sns.set(rc = {'figure.figsize':(11.7,8.27)})\n",
    "\n",
    "plot = sns.lineplot(data = top_prices, x = 'year_model', y = 'avg_price_brl')\n",
    "plt.title('Highest Price Per Year')\n",
    "plt.xticks(rotation = 45)\n",
    "plt.show()"
   ]
  },
  {
   "attachments": {},
   "cell_type": "markdown",
   "metadata": {},
   "source": [
    "We can see that the price of car will almost increase from year to year, with 2023 model has the highest price compared to older one.\n",
    "\n",
    "This is make sense because car price will naturally decrease as time goes by, and the latest one will come as the most expensive."
   ]
  },
  {
   "attachments": {},
   "cell_type": "markdown",
   "metadata": {},
   "source": [
    "### *What are some the oldest car still used?*\n",
    "\n",
    "Now we will find out what are some the oldest car still used in Brazil."
   ]
  },
  {
   "cell_type": "code",
   "execution_count": 43,
   "metadata": {},
   "outputs": [
    {
     "data": {
      "text/plain": [
       "38"
      ]
     },
     "execution_count": 43,
     "metadata": {},
     "output_type": "execute_result"
    }
   ],
   "source": [
    "df['age_years'].max()"
   ]
  },
  {
   "attachments": {},
   "cell_type": "markdown",
   "metadata": {},
   "source": [
    "We know that the oldest car still used in brazil is aged 38, now we want to know what are the brand of these car."
   ]
  },
  {
   "cell_type": "code",
   "execution_count": 45,
   "metadata": {},
   "outputs": [
    {
     "data": {
      "text/plain": [
       "brand\n",
       "Ford               288\n",
       "GM - Chevrolet     288\n",
       "VW - VolksWagen     84\n",
       "Fiat                72\n",
       "Mercedes-Benz       24\n",
       "BRM                 12\n",
       "Baby                12\n",
       "Engesa              12\n",
       "Name: brand, dtype: int64"
      ]
     },
     "execution_count": 45,
     "metadata": {},
     "output_type": "execute_result"
    }
   ],
   "source": [
    "oldest = df.query('age_years == 38').groupby(['brand'])['brand'].count().sort_values(ascending = False)\n",
    "oldest"
   ]
  },
  {
   "attachments": {},
   "cell_type": "markdown",
   "metadata": {},
   "source": [
    "We got some oldest car grouped by car brands, to help us see more clearly we will try to visualize it using pie chart."
   ]
  },
  {
   "cell_type": "code",
   "execution_count": 29,
   "metadata": {},
   "outputs": [
    {
     "data": {
      "image/png": "[encoded data removed]",
      "text/plain": [
       "<Figure size 1200x600 with 1 Axes>"
      ]
     },
     "metadata": {},
     "output_type": "display_data"
    }
   ],
   "source": [
    "plt.figure(figsize=(12,6))\n",
    "plt.title('Oldest Car Brands')\n",
    "sns.barplot(x = oldest.index, y = oldest.values, palette='brg');\n",
    "plt.xticks(rotation = 45)\n",
    "plt.show()"
   ]
  },
  {
   "attachments": {},
   "cell_type": "markdown",
   "metadata": {},
   "source": [
    "We can see that Ford & GM - Chevrolet brands have the most of aged car still around in Brazil. This can be interpreted that Ford's & GM - Chevrolet's car are the most reliable one."
   ]
  },
  {
   "attachments": {},
   "cell_type": "markdown",
   "metadata": {},
   "source": [
    "#### *Which gear type is preferred the most and how is price affected by it?*\n",
    "\n",
    "Now we want to know what type of gear are more preferred and will this choice affects the cost to own a car. First we will have to look how many of this kind of gear, this could be translates into more the preferred one."
   ]
  },
  {
   "cell_type": "code",
   "execution_count": 30,
   "metadata": {},
   "outputs": [
    {
     "data": {
      "text/plain": [
       "manual       210289\n",
       "automatic     79984\n",
       "Name: gear, dtype: int64"
      ]
     },
     "execution_count": 30,
     "metadata": {},
     "output_type": "execute_result"
    }
   ],
   "source": [
    "df['gear'].value_counts()"
   ]
  },
  {
   "attachments": {},
   "cell_type": "markdown",
   "metadata": {},
   "source": [
    "Here we see manual gear type is the obvious preffered one, now we will see how it affects the price"
   ]
  },
  {
   "cell_type": "code",
   "execution_count": 31,
   "metadata": {},
   "outputs": [
    {
     "data": {
      "text/plain": [
       "gear\n",
       "automatic    160201.15\n",
       "manual       107591.27\n",
       "Name: avg_price_brl, dtype: float64"
      ]
     },
     "execution_count": 31,
     "metadata": {},
     "output_type": "execute_result"
    }
   ],
   "source": [
    "gear_price = df.groupby(['gear'])['avg_price_brl'].mean().round(2)\n",
    "gear_price"
   ]
  },
  {
   "attachments": {},
   "cell_type": "markdown",
   "metadata": {},
   "source": [
    "We can see that the automatic type is more expansive than manual, here we will show our visualization."
   ]
  },
  {
   "cell_type": "code",
   "execution_count": 32,
   "metadata": {},
   "outputs": [
    {
     "data": {
      "image/png": "[encoded data removed]",
      "text/plain": [
       "<Figure size 900x700 with 1 Axes>"
      ]
     },
     "metadata": {},
     "output_type": "display_data"
    }
   ],
   "source": [
    "plt.figure(figsize=(9,7))\n",
    "sns.barplot(x = gear_price.index, y = gear_price.values, palette='inferno');\n",
    "plt.xlabel('Car Gear Type');\n",
    "plt.ylabel('Price');\n",
    "plt.title('How Gear Type Affects Price');"
   ]
  },
  {
   "attachments": {},
   "cell_type": "markdown",
   "metadata": {},
   "source": [
    "There are almost 60.000 BRL difference between the two type, while comparing the average price between automatic gear type with manual gear type. This is completely make sense since the automatic gear transmission is much complex and also required more cost to produce than its counterparts, so it will arguably will always translate into more expensive car price.\n",
    "\n",
    "So we can say that, even though the manual transmission is more preferable it does not translate to higher prices, whilst the automatic transmission being not the most preferable will cost the customer a lot of money."
   ]
  },
  {
   "attachments": {},
   "cell_type": "markdown",
   "metadata": {},
   "source": [
    "### *How do model year affects the resale values in different brands?*\n",
    "\n",
    "The value of a car will drop as it ages. But, it might not be the same for all brands. Next we will find out which brand's price is affected the most, considering the top 10 brands only."
   ]
  },
  {
   "cell_type": "code",
   "execution_count": 33,
   "metadata": {},
   "outputs": [
    {
     "data": {
      "text/plain": [
       "Index(['GM - Chevrolet', 'VW - VolksWagen', 'Fiat', 'Ford', 'Mercedes-Benz',\n",
       "       'Renault', 'Audi', 'Peugeot', 'Toyota', 'Mitsubishi'],\n",
       "      dtype='object')"
      ]
     },
     "execution_count": 33,
     "metadata": {},
     "output_type": "execute_result"
    }
   ],
   "source": [
    "# We want to know Top 10 Brand by using previous function\n",
    "def tb(data, variable, top=10):\n",
    "    return data[variable].value_counts()[:top]\n",
    "\n",
    "top10 = tb(df, 'brand')\n",
    "top10.index"
   ]
  },
  {
   "attachments": {},
   "cell_type": "markdown",
   "metadata": {},
   "source": [
    "Now we have the list of top brands, later we will use this to filter our new dataframe"
   ]
  },
  {
   "cell_type": "code",
   "execution_count": 34,
   "metadata": {},
   "outputs": [
    {
     "data": {
      "text/html": [
       "<div>\n",
       "<style scoped>\n",
       "    .dataframe tbody tr th:only-of-type {\n",
       "        vertical-align: middle;\n",
       "    }\n",
       "\n",
       "    .dataframe tbody tr th {\n",
       "        vertical-align: top;\n",
       "    }\n",
       "\n",
       "    .dataframe thead th {\n",
       "        text-align: right;\n",
       "    }\n",
       "</style>\n",
       "<table border=\"1\" class=\"dataframe\">\n",
       "  <thead>\n",
       "    <tr style=\"text-align: right;\">\n",
       "      <th></th>\n",
       "      <th>year_of_reference</th>\n",
       "      <th>month_of_reference</th>\n",
       "      <th>brand</th>\n",
       "      <th>model</th>\n",
       "      <th>fuel</th>\n",
       "      <th>gear</th>\n",
       "      <th>engine_size</th>\n",
       "      <th>year_model</th>\n",
       "      <th>avg_price_brl</th>\n",
       "      <th>age_years</th>\n",
       "    </tr>\n",
       "  </thead>\n",
       "  <tbody>\n",
       "    <tr>\n",
       "      <th>197578</th>\n",
       "      <td>2022</td>\n",
       "      <td>September</td>\n",
       "      <td>GM - Chevrolet</td>\n",
       "      <td>ONIX HATCH RS 1.0 TB 12V Flex 5p Aut.</td>\n",
       "      <td>Gasoline</td>\n",
       "      <td>automatic</td>\n",
       "      <td>1.0</td>\n",
       "      <td>2021</td>\n",
       "      <td>88539.0</td>\n",
       "      <td>2</td>\n",
       "    </tr>\n",
       "    <tr>\n",
       "      <th>163700</th>\n",
       "      <td>2022</td>\n",
       "      <td>July</td>\n",
       "      <td>Renault</td>\n",
       "      <td>SANDERO SPORT RS 2.0 Flex 16V 5p</td>\n",
       "      <td>Gasoline</td>\n",
       "      <td>manual</td>\n",
       "      <td>2.0</td>\n",
       "      <td>2018</td>\n",
       "      <td>63704.0</td>\n",
       "      <td>5</td>\n",
       "    </tr>\n",
       "  </tbody>\n",
       "</table>\n",
       "</div>"
      ],
      "text/plain": [
       "        year_of_reference month_of_reference           brand  \\\n",
       "197578               2022          September  GM - Chevrolet   \n",
       "163700               2022               July         Renault   \n",
       "\n",
       "                                        model      fuel       gear  \\\n",
       "197578  ONIX HATCH RS 1.0 TB 12V Flex 5p Aut.  Gasoline  automatic   \n",
       "163700       SANDERO SPORT RS 2.0 Flex 16V 5p  Gasoline     manual   \n",
       "\n",
       "        engine_size  year_model  avg_price_brl  age_years  \n",
       "197578          1.0        2021        88539.0          2  \n",
       "163700          2.0        2018        63704.0          5  "
      ]
     },
     "execution_count": 34,
     "metadata": {},
     "output_type": "execute_result"
    }
   ],
   "source": [
    "# Make a new dataframe which only consist of top 10 brands\n",
    "topdf = df.loc[df['brand'].isin(top10.index)]\n",
    "\n",
    "# Slicing data\n",
    "yeargroup_18_23 = topdf.loc[df.year_model >= 2018]\n",
    "yeargroup_18_23.sample(2)"
   ]
  },
  {
   "cell_type": "code",
   "execution_count": 35,
   "metadata": {},
   "outputs": [
    {
     "data": {
      "text/html": [
       "<div>\n",
       "<style scoped>\n",
       "    .dataframe tbody tr th:only-of-type {\n",
       "        vertical-align: middle;\n",
       "    }\n",
       "\n",
       "    .dataframe tbody tr th {\n",
       "        vertical-align: top;\n",
       "    }\n",
       "\n",
       "    .dataframe thead th {\n",
       "        text-align: right;\n",
       "    }\n",
       "</style>\n",
       "<table border=\"1\" class=\"dataframe\">\n",
       "  <thead>\n",
       "    <tr style=\"text-align: right;\">\n",
       "      <th></th>\n",
       "      <th>year_of_reference</th>\n",
       "      <th>month_of_reference</th>\n",
       "      <th>brand</th>\n",
       "      <th>model</th>\n",
       "      <th>fuel</th>\n",
       "      <th>gear</th>\n",
       "      <th>engine_size</th>\n",
       "      <th>year_model</th>\n",
       "      <th>avg_price_brl</th>\n",
       "      <th>age_years</th>\n",
       "    </tr>\n",
       "  </thead>\n",
       "  <tbody>\n",
       "    <tr>\n",
       "      <th>31786</th>\n",
       "      <td>2022</td>\n",
       "      <td>February</td>\n",
       "      <td>Fiat</td>\n",
       "      <td>Strada Adv.Ext. 1.8 LOCKER Dual. Flex CD</td>\n",
       "      <td>Gasoline</td>\n",
       "      <td>manual</td>\n",
       "      <td>1.8</td>\n",
       "      <td>2016</td>\n",
       "      <td>63315.0</td>\n",
       "      <td>7</td>\n",
       "    </tr>\n",
       "    <tr>\n",
       "      <th>208806</th>\n",
       "      <td>2022</td>\n",
       "      <td>September</td>\n",
       "      <td>Mitsubishi</td>\n",
       "      <td>Pajero DAKAR 3.2 4x4 T.I. Dies. 5p Mec.</td>\n",
       "      <td>Diesel</td>\n",
       "      <td>manual</td>\n",
       "      <td>3.2</td>\n",
       "      <td>2013</td>\n",
       "      <td>115893.0</td>\n",
       "      <td>10</td>\n",
       "    </tr>\n",
       "  </tbody>\n",
       "</table>\n",
       "</div>"
      ],
      "text/plain": [
       "        year_of_reference month_of_reference       brand  \\\n",
       "31786                2022           February        Fiat   \n",
       "208806               2022          September  Mitsubishi   \n",
       "\n",
       "                                           model      fuel    gear  \\\n",
       "31786   Strada Adv.Ext. 1.8 LOCKER Dual. Flex CD  Gasoline  manual   \n",
       "208806   Pajero DAKAR 3.2 4x4 T.I. Dies. 5p Mec.    Diesel  manual   \n",
       "\n",
       "        engine_size  year_model  avg_price_brl  age_years  \n",
       "31786           1.8        2016        63315.0          7  \n",
       "208806          3.2        2013       115893.0         10  "
      ]
     },
     "execution_count": 35,
     "metadata": {},
     "output_type": "execute_result"
    }
   ],
   "source": [
    "# Slicing data\n",
    "yeargroup_13_18 = topdf.loc[(df.year_model < 2018) & (df.year_model >= 2013)]\n",
    "yeargroup_13_18.sample(2)"
   ]
  },
  {
   "attachments": {},
   "cell_type": "markdown",
   "metadata": {},
   "source": [
    "After preparing the data we will plot the data into a stacked bar plot, this will help us to compare the different of prices."
   ]
  },
  {
   "cell_type": "code",
   "execution_count": 36,
   "metadata": {},
   "outputs": [
    {
     "data": {
      "image/png": "[encoded data removed]",
      "text/plain": [
       "<Figure size 1600x700 with 1 Axes>"
      ]
     },
     "metadata": {},
     "output_type": "display_data"
    }
   ],
   "source": [
    "yeargroup_18_23.groupby(['brand'])['avg_price_brl'].mean().sort_values(ascending = False).plot(kind='bar', figsize=(16,7), color='orange');\n",
    "yeargroup_13_18.groupby(['brand'])['avg_price_brl'].mean().sort_values(ascending = False).plot(kind='bar', figsize=(16,7), color='red');\n",
    "plt.xlabel('Car Brand')\n",
    "plt.ylabel('Average Price')\n",
    "plt.title('Stacked Bar Chart Showing Variation of Brand Resale Values with Year ')\n",
    "plt.legend(labels=('Model Year 2018-2023', 'Model Year 2013-2018'))\n",
    "plt.xticks(rotation = 45);"
   ]
  },
  {
   "attachments": {},
   "cell_type": "markdown",
   "metadata": {},
   "source": [
    "Here we can see that every car brands will lose the value of their intial price, for this plot we use avarage car prices from model year 2018-2023 and compare the avarage car prices from model year 2013-2018.\n",
    "\n",
    "From this barplot, we can see brands such as Mercedes-Benz and Audi experiencing huge decrease of value while brands such as Chevrolet, Toyota, and Ford are more stable.\n",
    "\n",
    "This may be cause by the fact that car brand such as Mercedes-Benz and Audi are a luxury brand so their prices will drastically decrease over the year, while the more affordable ones are more stable."
   ]
  },
  {
   "attachments": {},
   "cell_type": "markdown",
   "metadata": {},
   "source": [
    "### *We want to compare whether a fuel type will affects different average car price than the other one?*\n",
    "\n",
    "This question will be answered using Hypothesis testing, we want to check whether fuel type will affect average car price of are significantly different or not using two samples independent two tailed test.\n",
    "\n",
    "We will define the H0 and H1 of our test.\n",
    "\n",
    "`H0: μ Car price with Gasoline fuel type  = μ Car price with Diesel fuel type`\n",
    "\n",
    "`H1: μ Car price with Gasoline fuel type  != μ Car price with Diesel fuel type` \n",
    "\n",
    "Here we choose only 2 of 3 type fuel in this dataset to be compared, since Gasoline and Diesel is much more popular to use in the world.\n",
    "\n",
    "First we have to find out the data that will be tested. We will try to filter the data that meets the conditions then calculate their average price."
   ]
  },
  {
   "cell_type": "code",
   "execution_count": 37,
   "metadata": {},
   "outputs": [
    {
     "data": {
      "text/html": [
       "<div>\n",
       "<style scoped>\n",
       "    .dataframe tbody tr th:only-of-type {\n",
       "        vertical-align: middle;\n",
       "    }\n",
       "\n",
       "    .dataframe tbody tr th {\n",
       "        vertical-align: top;\n",
       "    }\n",
       "\n",
       "    .dataframe thead th {\n",
       "        text-align: right;\n",
       "    }\n",
       "</style>\n",
       "<table border=\"1\" class=\"dataframe\">\n",
       "  <thead>\n",
       "    <tr style=\"text-align: right;\">\n",
       "      <th></th>\n",
       "      <th>count</th>\n",
       "      <th>mean</th>\n",
       "      <th>std</th>\n",
       "      <th>min</th>\n",
       "      <th>25%</th>\n",
       "      <th>50%</th>\n",
       "      <th>75%</th>\n",
       "      <th>max</th>\n",
       "    </tr>\n",
       "  </thead>\n",
       "  <tbody>\n",
       "    <tr>\n",
       "      <th>year_of_reference</th>\n",
       "      <td>238773.0</td>\n",
       "      <td>2022.000000</td>\n",
       "      <td>0.000000</td>\n",
       "      <td>2022.0</td>\n",
       "      <td>2022.0</td>\n",
       "      <td>2022.0</td>\n",
       "      <td>2022.0</td>\n",
       "      <td>2022.0</td>\n",
       "    </tr>\n",
       "    <tr>\n",
       "      <th>engine_size</th>\n",
       "      <td>238773.0</td>\n",
       "      <td>2.181225</td>\n",
       "      <td>1.065706</td>\n",
       "      <td>0.7</td>\n",
       "      <td>1.6</td>\n",
       "      <td>1.8</td>\n",
       "      <td>2.5</td>\n",
       "      <td>6.7</td>\n",
       "    </tr>\n",
       "    <tr>\n",
       "      <th>year_model</th>\n",
       "      <td>238773.0</td>\n",
       "      <td>2008.908595</td>\n",
       "      <td>9.251026</td>\n",
       "      <td>1985.0</td>\n",
       "      <td>2001.0</td>\n",
       "      <td>2010.0</td>\n",
       "      <td>2016.0</td>\n",
       "      <td>2023.0</td>\n",
       "    </tr>\n",
       "    <tr>\n",
       "      <th>avg_price_brl</th>\n",
       "      <td>238773.0</td>\n",
       "      <td>123894.438249</td>\n",
       "      <td>350835.536579</td>\n",
       "      <td>1831.0</td>\n",
       "      <td>20310.0</td>\n",
       "      <td>42104.0</td>\n",
       "      <td>93096.0</td>\n",
       "      <td>8600000.0</td>\n",
       "    </tr>\n",
       "    <tr>\n",
       "      <th>age_years</th>\n",
       "      <td>238773.0</td>\n",
       "      <td>14.091405</td>\n",
       "      <td>9.251026</td>\n",
       "      <td>0.0</td>\n",
       "      <td>7.0</td>\n",
       "      <td>13.0</td>\n",
       "      <td>22.0</td>\n",
       "      <td>38.0</td>\n",
       "    </tr>\n",
       "  </tbody>\n",
       "</table>\n",
       "</div>"
      ],
      "text/plain": [
       "                      count           mean            std     min      25%  \\\n",
       "year_of_reference  238773.0    2022.000000       0.000000  2022.0   2022.0   \n",
       "engine_size        238773.0       2.181225       1.065706     0.7      1.6   \n",
       "year_model         238773.0    2008.908595       9.251026  1985.0   2001.0   \n",
       "avg_price_brl      238773.0  123894.438249  350835.536579  1831.0  20310.0   \n",
       "age_years          238773.0      14.091405       9.251026     0.0      7.0   \n",
       "\n",
       "                       50%      75%        max  \n",
       "year_of_reference   2022.0   2022.0     2022.0  \n",
       "engine_size            1.8      2.5        6.7  \n",
       "year_model          2010.0   2016.0     2023.0  \n",
       "avg_price_brl      42104.0  93096.0  8600000.0  \n",
       "age_years             13.0     22.0       38.0  "
      ]
     },
     "execution_count": 37,
     "metadata": {},
     "output_type": "execute_result"
    }
   ],
   "source": [
    "avg_gas = df[df['fuel'] == 'Gasoline']\n",
    "avg_gas.describe().T"
   ]
  },
  {
   "cell_type": "code",
   "execution_count": 38,
   "metadata": {},
   "outputs": [
    {
     "data": {
      "text/html": [
       "<div>\n",
       "<style scoped>\n",
       "    .dataframe tbody tr th:only-of-type {\n",
       "        vertical-align: middle;\n",
       "    }\n",
       "\n",
       "    .dataframe tbody tr th {\n",
       "        vertical-align: top;\n",
       "    }\n",
       "\n",
       "    .dataframe thead th {\n",
       "        text-align: right;\n",
       "    }\n",
       "</style>\n",
       "<table border=\"1\" class=\"dataframe\">\n",
       "  <thead>\n",
       "    <tr style=\"text-align: right;\">\n",
       "      <th></th>\n",
       "      <th>count</th>\n",
       "      <th>mean</th>\n",
       "      <th>std</th>\n",
       "      <th>min</th>\n",
       "      <th>25%</th>\n",
       "      <th>50%</th>\n",
       "      <th>75%</th>\n",
       "      <th>max</th>\n",
       "    </tr>\n",
       "  </thead>\n",
       "  <tbody>\n",
       "    <tr>\n",
       "      <th>year_of_reference</th>\n",
       "      <td>47011.0</td>\n",
       "      <td>2022.000000</td>\n",
       "      <td>0.000000</td>\n",
       "      <td>2022.0</td>\n",
       "      <td>2022.0</td>\n",
       "      <td>2022.0</td>\n",
       "      <td>2022.0</td>\n",
       "      <td>2022.0</td>\n",
       "    </tr>\n",
       "    <tr>\n",
       "      <th>engine_size</th>\n",
       "      <td>47011.0</td>\n",
       "      <td>2.753753</td>\n",
       "      <td>0.694867</td>\n",
       "      <td>1.5</td>\n",
       "      <td>2.3</td>\n",
       "      <td>2.7</td>\n",
       "      <td>3.0</td>\n",
       "      <td>6.7</td>\n",
       "    </tr>\n",
       "    <tr>\n",
       "      <th>year_model</th>\n",
       "      <td>47011.0</td>\n",
       "      <td>2009.818702</td>\n",
       "      <td>9.120095</td>\n",
       "      <td>1985.0</td>\n",
       "      <td>2003.0</td>\n",
       "      <td>2011.0</td>\n",
       "      <td>2018.0</td>\n",
       "      <td>2023.0</td>\n",
       "    </tr>\n",
       "    <tr>\n",
       "      <th>avg_price_brl</th>\n",
       "      <td>47011.0</td>\n",
       "      <td>123462.163047</td>\n",
       "      <td>116271.547429</td>\n",
       "      <td>5309.0</td>\n",
       "      <td>46258.5</td>\n",
       "      <td>88872.0</td>\n",
       "      <td>164551.0</td>\n",
       "      <td>1034127.0</td>\n",
       "    </tr>\n",
       "    <tr>\n",
       "      <th>age_years</th>\n",
       "      <td>47011.0</td>\n",
       "      <td>13.181298</td>\n",
       "      <td>9.120095</td>\n",
       "      <td>0.0</td>\n",
       "      <td>5.0</td>\n",
       "      <td>12.0</td>\n",
       "      <td>20.0</td>\n",
       "      <td>38.0</td>\n",
       "    </tr>\n",
       "  </tbody>\n",
       "</table>\n",
       "</div>"
      ],
      "text/plain": [
       "                     count           mean            std     min      25%  \\\n",
       "year_of_reference  47011.0    2022.000000       0.000000  2022.0   2022.0   \n",
       "engine_size        47011.0       2.753753       0.694867     1.5      2.3   \n",
       "year_model         47011.0    2009.818702       9.120095  1985.0   2003.0   \n",
       "avg_price_brl      47011.0  123462.163047  116271.547429  5309.0  46258.5   \n",
       "age_years          47011.0      13.181298       9.120095     0.0      5.0   \n",
       "\n",
       "                       50%       75%        max  \n",
       "year_of_reference   2022.0    2022.0     2022.0  \n",
       "engine_size            2.7       3.0        6.7  \n",
       "year_model          2011.0    2018.0     2023.0  \n",
       "avg_price_brl      88872.0  164551.0  1034127.0  \n",
       "age_years             12.0      20.0       38.0  "
      ]
     },
     "execution_count": 38,
     "metadata": {},
     "output_type": "execute_result"
    }
   ],
   "source": [
    "avg_dis = df[df['fuel'] == 'Diesel']\n",
    "avg_dis.describe().T"
   ]
  },
  {
   "attachments": {},
   "cell_type": "markdown",
   "metadata": {},
   "source": [
    "From using .describe() function we can see mean and stadard deviation of two data we want to compare."
   ]
  },
  {
   "cell_type": "code",
   "execution_count": 39,
   "metadata": {},
   "outputs": [
    {
     "name": "stdout",
     "output_type": "stream",
     "text": [
      "P-value: 0.7915428263191508\n",
      "t-statistics: 0.2643079488364851\n"
     ]
    }
   ],
   "source": [
    "t_stat, p_val = stats.ttest_ind(avg_gas['avg_price_brl'], avg_dis['avg_price_brl'])\n",
    "print('P-value:',p_val)\n",
    "print('t-statistics:',t_stat)"
   ]
  },
  {
   "attachments": {},
   "cell_type": "markdown",
   "metadata": {},
   "source": [
    "Using this method we will see if there are any significance diferences in average car price between two fuel type.\n",
    "\n",
    "Now we will try to simulate our result using random number to predict our future data."
   ]
  },
  {
   "cell_type": "code",
   "execution_count": 40,
   "metadata": {},
   "outputs": [
    {
     "name": "stdout",
     "output_type": "stream",
     "text": [
      "-563730.5779430978\n",
      "811519.4544408591\n"
     ]
    },
    {
     "data": {
      "image/png": "[encoded data removed]",
      "text/plain": [
       "<Figure size 1600x800 with 1 Axes>"
      ]
     },
     "metadata": {},
     "output_type": "display_data"
    }
   ],
   "source": [
    "# simulation\n",
    "avg_gas_pop = np.random.normal(avg_gas['avg_price_brl'].mean(),avg_gas['avg_price_brl'].std(),10000)\n",
    "avg_dis_pop = np.random.normal(avg_dis['avg_price_brl'].mean(),avg_dis['avg_price_brl'].std(),10000)\n",
    "\n",
    "# confidence interval based on Gasoline fuel type\n",
    "ci = stats.norm.interval(0.95, avg_gas['avg_price_brl'].mean(), avg_gas['avg_price_brl'].std())\n",
    "\n",
    "plt.figure(figsize=(16,8))\n",
    "sns.histplot(avg_gas_pop, label='Gasoline Fuel Type (POP)',color='blue')\n",
    "sns.histplot(avg_dis_pop, label='Diesel Fuel Type (POP)',color='red')\n",
    "\n",
    "# mean\n",
    "plt.axvline(avg_gas['avg_price_brl'].mean(), color='yellow', linewidth=2, label='Gasoline Fuel Type price mean')\n",
    "plt.axvline(avg_dis['avg_price_brl'].mean(), color='magenta',  linewidth=2, label='Diesel Fuel Type price mean')\n",
    "\n",
    "plt.axvline(ci[1], color='green', linestyle='dashed', linewidth=2, label='confidence threshold of 95%')\n",
    "plt.axvline(ci[0], color='green', linestyle='dashed', linewidth=2, label='confidence threshold of 95%')\n",
    "\n",
    "# alternative hypotesis\n",
    "plt.axvline(avg_gas_pop.mean()+t_stat*avg_gas_pop.std(), color='black', linestyle='dashed', linewidth=2, label = 'Alternative Hypothesis')\n",
    "plt.axvline(avg_dis_pop.mean()-t_stat*avg_gas_pop.std(), color='black', linestyle='dashed', linewidth=2)\n",
    "\n",
    "plt.legend()\n",
    "print(ci[0])\n",
    "print(ci[1])"
   ]
  },
  {
   "attachments": {},
   "cell_type": "markdown",
   "metadata": {},
   "source": [
    "After doing some calculations we know that our P-value is `0.791`, which means that we `Fail to Reject H0`.\n",
    "\n",
    "We now know that there is no significant difference in average car prices between car using Gasoline fuel type and car using Diesel fuel type. \n",
    "\n",
    "So we can say that if our customer want to choose between two different car with different fuel type, there isn't any significance difference in terms of average car prices between the two compared cars."
   ]
  },
  {
   "attachments": {},
   "cell_type": "markdown",
   "metadata": {},
   "source": [
    "## Conclusion & Overall Analysis"
   ]
  },
  {
   "attachments": {},
   "cell_type": "markdown",
   "metadata": {},
   "source": [
    "After doing some thorough analysis within this notebook we can answer our problem statement, which is:\n",
    "\n",
    "`Find what are the factors that determine average car price in Brazil on 2022`\n",
    "\n",
    "We can conclude that:\n",
    "* The average car prices in Brazil are mainly affected by its brands, year model, and type of gear transmission it use.\n",
    "\n",
    "* The most popular car brand in Brazil is GM - Chevrolet, but their popularity does not mean higher the prices compared to its competitor, where Mercedez-Benz is the most expansive car in Brazil.\n",
    "\n",
    "* Year model also affect car prices in general, because the newer it is the more expansive it may become. Using our data 2023 model is the most expensive compared to another year in the last decade.\n",
    "\n",
    "* The oldest car in brazil are mainly consist of Ford and GM - Chevrolet, however their reliablity does not translate to higher car prices, where both are ranked fifth and sixth consecutively.\n",
    "\n",
    "* Car with automatic transmission does affect the car price to be more expansive than car with manual transmission. This is caused by higher production cost while manufacturing the automatic gear and also because it is more complex system than manual transmission.\n",
    "\n",
    "* Resale value of a car is varied between car brands, whilst others are retained their value quite well there are some car brands lose their value in astonishing pace. This showed by Mercedes-Benz car brand, even though they have higher price than others they don't retain their value over the years. This may be caused because their high maintenance cost which make customer avoid to buy this brand, thus the lower resale value occurred.\n",
    "\n",
    "* We use hypothesis testing to know whether fuel type does affect the average car prices significantly or not. The result of our test is that different fuel type, in this case Gasoline and Diesel, do not translate into different average price of a car.\n",
    "\n",
    "Using this information we might say that we have answered all the question asked, and know more information about this dataset. We hope that this is might be useful for further anlysis within our data team.\n"
   ]
  }
 ],
 "metadata": {
  "kernelspec": {
   "display_name": "base",
   "language": "python",
   "name": "python3"
  },
  "language_info": {
   "codemirror_mode": {
    "name": "ipython",
    "version": 3
   },
   "file_extension": ".py",
   "mimetype": "text/x-python",
   "name": "python",
   "nbconvert_exporter": "python",
   "pygments_lexer": "ipython3",
   "version": "3.9.13"
  },
  "orig_nbformat": 4,
  "vscode": {
   "interpreter": {
    "hash": "fb8e96bab5497db2e3ba4164333414b1d50742fa963cda73889f8b0144f64d6b"
   }
  }
 },
 "nbformat": 4,
 "nbformat_minor": 2
}
